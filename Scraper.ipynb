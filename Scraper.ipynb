{
 "cells": [
  {
   "attachments": {},
   "cell_type": "markdown",
   "id": "30146ed7",
   "metadata": {},
   "source": [
    "# Arbitrage Events Scraper"
   ]
  },
  {
   "attachments": {},
   "cell_type": "markdown",
   "id": "fa0524d5",
   "metadata": {},
   "source": [
    "This script will look for statistical arbitrage opportunities in the upcoming eight games across all sports using Live Sports Odds API.\n",
    "\n",
    "Documentation Link: https://the-odds-api.com/ "
   ]
  },
  {
   "attachments": {},
   "cell_type": "markdown",
   "id": "88d7d4e1",
   "metadata": {},
   "source": [
    "### Importing Libraries"
   ]
  },
  {
   "cell_type": "code",
   "execution_count": 59,
   "id": "31fa11dc",
   "metadata": {},
   "outputs": [],
   "source": [
    "import requests\n",
    "import json\n",
    "import xlsxwriter\n",
    "import pandas as pd\n",
    "import numpy as np\n",
    "import openpyxl\n",
    "import re\n",
    "from unidecode import unidecode\n",
    "from openpyxl import Workbook, load_workbook\n",
    "from openpyxl.styles import Border, Side, Font, Alignment, PatternFill, numbers"
   ]
  },
  {
   "attachments": {},
   "cell_type": "markdown",
   "id": "b99bcbe1",
   "metadata": {},
   "source": [
    "### Acquiring unique API_KEY  \n",
    "\n",
    "This key is unique. Retrieve one at TheOddsAPI website."
   ]
  },
  {
   "cell_type": "code",
   "execution_count": 60,
   "id": "65ad3c79",
   "metadata": {},
   "outputs": [],
   "source": [
    "API_KEY = '9decd631fa6303329122863cffa97744'"
   ]
  },
  {
   "attachments": {},
   "cell_type": "markdown",
   "id": "2728ca07",
   "metadata": {},
   "source": [
    "### Defining Constants and Making API Pull\n",
    "\n",
    "- ``BET_SIZE`` is the monetary amount in USD that you are willing to make for each bet. Defining ``BET_SIZE`` as 100 is telling the program that you want to bet a total of 100 dollars for each arbitrage opportunity that the program finds."
   ]
  },
  {
   "cell_type": "code",
   "execution_count": 61,
   "id": "b07f9912",
   "metadata": {
    "scrolled": false
   },
   "outputs": [],
   "source": [
    "SPORT = 'upcoming' # use the sport_key from the /sports endpoint below, or use 'upcoming' to see the next 8 games across all sports\n",
    "\n",
    "REGIONS = 'us' # uk | us | eu | au. Multiple can be specified if comma delimited\n",
    "\n",
    "MARKETS = 'h2h' # h2h | spreads | totals. Multiple can be specified if comma delimited\n",
    "\n",
    "ODDS_FORMAT = 'decimal' # decimal | american\n",
    "\n",
    "DATE_FORMAT = 'iso' # iso | unix\n",
    "\n",
    "BET_SIZE = 100\n",
    "\n",
    "odds_response = requests.get(\n",
    "    f'https://api.the-odds-api.com/v4/sports/{SPORT}/odds',\n",
    "    params={\n",
    "        'api_key': API_KEY,\n",
    "        'regions': REGIONS,\n",
    "        'markets': MARKETS,\n",
    "        'oddsFormat': ODDS_FORMAT,\n",
    "        'dateFormat': DATE_FORMAT,\n",
    "    }\n",
    ").json()"
   ]
  },
  {
   "cell_type": "code",
   "execution_count": 62,
   "id": "a406cfc7",
   "metadata": {},
   "outputs": [
    {
     "name": "stdout",
     "output_type": "stream",
     "text": [
      "[{'id': '56f790ad0d89b1da2321001b64be5498', 'sport_key': 'baseball_mlb', 'sport_title': 'MLB', 'commence_time': '2023-06-05T22:40:00Z', 'home_team': 'Philadelphia Phillies', 'away_team': 'Detroit Tigers', 'bookmakers': [{'key': 'bovada', 'title': 'Bovada', 'last_update': '2023-06-06T01:07:55Z', 'markets': [{'key': 'h2h', 'last_update': '2023-06-06T01:07:55Z', 'outcomes': [{'name': 'Detroit Tigers', 'price': 15.0}, {'name': 'Philadelphia Phillies', 'price': 1.02}]}]}, {'key': 'pointsbetus', 'title': 'PointsBet (US)', 'last_update': '2023-06-06T01:07:38Z', 'markets': [{'key': 'h2h', 'last_update': '2023-06-06T01:07:38Z', 'outcomes': [{'name': 'Detroit Tigers', 'price': 46.0}, {'name': 'Philadelphia Phillies', 'price': 1.0}]}]}, {'key': 'betmgm', 'title': 'BetMGM', 'last_update': '2023-06-06T01:07:12Z', 'markets': [{'key': 'h2h', 'last_update': '2023-06-06T01:07:12Z', 'outcomes': [{'name': 'Detroit Tigers', 'price': 34.0}, {'name': 'Philadelphia Phillies', 'price': 1.01}]}]}]}, {'id': '3bc3a230d3e8371807179948d3100d98', 'sport_key': 'baseball_mlb', 'sport_title': 'MLB', 'commence_time': '2023-06-05T22:40:00Z', 'home_team': 'Miami Marlins', 'away_team': 'Kansas City Royals', 'bookmakers': [{'key': 'pointsbetus', 'title': 'PointsBet (US)', 'last_update': '2023-06-06T01:07:38Z', 'markets': [{'key': 'h2h', 'last_update': '2023-06-06T01:07:38Z', 'outcomes': [{'name': 'Kansas City Royals', 'price': 14.0}, {'name': 'Miami Marlins', 'price': 1.03}]}]}, {'key': 'bovada', 'title': 'Bovada', 'last_update': '2023-06-06T01:07:55Z', 'markets': [{'key': 'h2h', 'last_update': '2023-06-06T01:07:55Z', 'outcomes': [{'name': 'Kansas City Royals', 'price': 19.0}, {'name': 'Miami Marlins', 'price': 1.0}]}]}]}, {'id': '51202dd62c556f420b6904eec64aba66', 'sport_key': 'baseball_mlb', 'sport_title': 'MLB', 'commence_time': '2023-06-05T23:05:00Z', 'home_team': 'Pittsburgh Pirates', 'away_team': 'Oakland Athletics', 'bookmakers': [{'key': 'draftkings', 'title': 'DraftKings', 'last_update': '2023-06-06T01:06:51Z', 'markets': [{'key': 'h2h', 'last_update': '2023-06-06T01:06:51Z', 'outcomes': [{'name': 'Oakland Athletics', 'price': 1.51}, {'name': 'Pittsburgh Pirates', 'price': 2.6}]}]}, {'key': 'bovada', 'title': 'Bovada', 'last_update': '2023-06-06T01:07:55Z', 'markets': [{'key': 'h2h', 'last_update': '2023-06-06T01:07:55Z', 'outcomes': [{'name': 'Oakland Athletics', 'price': 1.54}, {'name': 'Pittsburgh Pirates', 'price': 2.4}]}]}, {'key': 'fanduel', 'title': 'FanDuel', 'last_update': '2023-06-06T01:07:42Z', 'markets': [{'key': 'h2h', 'last_update': '2023-06-06T01:07:42Z', 'outcomes': [{'name': 'Oakland Athletics', 'price': 1.43}, {'name': 'Pittsburgh Pirates', 'price': 2.8}]}]}, {'key': 'circasports', 'title': 'Circa Sports', 'last_update': '2023-06-06T01:05:37Z', 'markets': [{'key': 'h2h', 'last_update': '2023-06-06T01:05:37Z', 'outcomes': [{'name': 'Oakland Athletics', 'price': 1.57}, {'name': 'Pittsburgh Pirates', 'price': 2.46}]}]}, {'key': 'foxbet', 'title': 'FOX Bet', 'last_update': '2023-06-06T01:07:21Z', 'markets': [{'key': 'h2h', 'last_update': '2023-06-06T01:07:21Z', 'outcomes': [{'name': 'Oakland Athletics', 'price': 1.5}, {'name': 'Pittsburgh Pirates', 'price': 2.4}]}]}, {'key': 'pointsbetus', 'title': 'PointsBet (US)', 'last_update': '2023-06-06T01:07:38Z', 'markets': [{'key': 'h2h', 'last_update': '2023-06-06T01:07:38Z', 'outcomes': [{'name': 'Oakland Athletics', 'price': 1.42}, {'name': 'Pittsburgh Pirates', 'price': 2.75}]}]}, {'key': 'betmgm', 'title': 'BetMGM', 'last_update': '2023-06-06T01:07:12Z', 'markets': [{'key': 'h2h', 'last_update': '2023-06-06T01:07:12Z', 'outcomes': [{'name': 'Oakland Athletics', 'price': 1.44}, {'name': 'Pittsburgh Pirates', 'price': 2.75}]}]}, {'key': 'barstool', 'title': 'Barstool Sportsbook', 'last_update': '2023-06-06T01:07:36Z', 'markets': [{'key': 'h2h', 'last_update': '2023-06-06T01:07:36Z', 'outcomes': [{'name': 'Oakland Athletics', 'price': 1.48}, {'name': 'Pittsburgh Pirates', 'price': 2.5}]}]}, {'key': 'unibet_us', 'title': 'Unibet', 'last_update': '2023-06-06T01:07:51Z', 'markets': [{'key': 'h2h', 'last_update': '2023-06-06T01:07:51Z', 'outcomes': [{'name': 'Oakland Athletics', 'price': 1.44}, {'name': 'Pittsburgh Pirates', 'price': 2.75}]}]}, {'key': 'twinspires', 'title': 'TwinSpires', 'last_update': '2023-06-06T01:07:25Z', 'markets': [{'key': 'h2h', 'last_update': '2023-06-06T01:07:25Z', 'outcomes': [{'name': 'Oakland Athletics', 'price': 1.44}, {'name': 'Pittsburgh Pirates', 'price': 2.6}]}]}]}, {'id': '01bd08781fc36bbd960a2e5869e3ff54', 'sport_key': 'baseball_mlb', 'sport_title': 'MLB', 'commence_time': '2023-06-05T23:07:00Z', 'home_team': 'Toronto Blue Jays', 'away_team': 'Houston Astros', 'bookmakers': [{'key': 'bovada', 'title': 'Bovada', 'last_update': '2023-06-06T01:07:55Z', 'markets': [{'key': 'h2h', 'last_update': '2023-06-06T01:07:55Z', 'outcomes': [{'name': 'Houston Astros', 'price': 1.0}, {'name': 'Toronto Blue Jays', 'price': 19.0}]}]}, {'key': 'pointsbetus', 'title': 'PointsBet (US)', 'last_update': '2023-06-06T01:07:38Z', 'markets': [{'key': 'h2h', 'last_update': '2023-06-06T01:07:38Z', 'outcomes': [{'name': 'Houston Astros', 'price': 1.01}, {'name': 'Toronto Blue Jays', 'price': 23.0}]}]}, {'key': 'betmgm', 'title': 'BetMGM', 'last_update': '2023-06-06T01:07:12Z', 'markets': [{'key': 'h2h', 'last_update': '2023-06-06T01:07:12Z', 'outcomes': [{'name': 'Houston Astros', 'price': 1.01}, {'name': 'Toronto Blue Jays', 'price': 34.0}]}]}]}, {'id': 'b5a4f594a43084f31641442355e7512f', 'sport_key': 'baseball_mlb', 'sport_title': 'MLB', 'commence_time': '2023-06-05T23:10:00Z', 'home_team': 'Cincinnati Reds', 'away_team': 'Milwaukee Brewers', 'bookmakers': [{'key': 'draftkings', 'title': 'DraftKings', 'last_update': '2023-06-06T01:06:51Z', 'markets': [{'key': 'h2h', 'last_update': '2023-06-06T01:06:51Z', 'outcomes': [{'name': 'Cincinnati Reds', 'price': 1.15}, {'name': 'Milwaukee Brewers', 'price': 5.6}]}]}, {'key': 'bovada', 'title': 'Bovada', 'last_update': '2023-06-06T01:07:55Z', 'markets': [{'key': 'h2h', 'last_update': '2023-06-06T01:07:55Z', 'outcomes': [{'name': 'Cincinnati Reds', 'price': 1.13}, {'name': 'Milwaukee Brewers', 'price': 5.5}]}]}, {'key': 'fanduel', 'title': 'FanDuel', 'last_update': '2023-06-06T01:07:42Z', 'markets': [{'key': 'h2h', 'last_update': '2023-06-06T01:07:42Z', 'outcomes': [{'name': 'Cincinnati Reds', 'price': 1.11}, {'name': 'Milwaukee Brewers', 'price': 6.4}]}]}, {'key': 'circasports', 'title': 'Circa Sports', 'last_update': '2023-06-06T01:06:19Z', 'markets': [{'key': 'h2h', 'last_update': '2023-06-06T01:06:19Z', 'outcomes': [{'name': 'Cincinnati Reds', 'price': 1.13}, {'name': 'Milwaukee Brewers', 'price': 6.25}]}]}, {'key': 'foxbet', 'title': 'FOX Bet', 'last_update': '2023-06-06T01:07:21Z', 'markets': [{'key': 'h2h', 'last_update': '2023-06-06T01:07:21Z', 'outcomes': [{'name': 'Cincinnati Reds', 'price': 1.12}, {'name': 'Milwaukee Brewers', 'price': 5.25}]}]}, {'key': 'pointsbetus', 'title': 'PointsBet (US)', 'last_update': '2023-06-06T01:07:38Z', 'markets': [{'key': 'h2h', 'last_update': '2023-06-06T01:07:38Z', 'outcomes': [{'name': 'Cincinnati Reds', 'price': 1.2}, {'name': 'Milwaukee Brewers', 'price': 4.3}]}]}, {'key': 'twinspires', 'title': 'TwinSpires', 'last_update': '2023-06-06T01:07:25Z', 'markets': [{'key': 'h2h', 'last_update': '2023-06-06T01:07:25Z', 'outcomes': [{'name': 'Cincinnati Reds', 'price': 1.19}, {'name': 'Milwaukee Brewers', 'price': 4.6}]}]}, {'key': 'barstool', 'title': 'Barstool Sportsbook', 'last_update': '2023-06-06T01:07:36Z', 'markets': [{'key': 'h2h', 'last_update': '2023-06-06T01:07:36Z', 'outcomes': [{'name': 'Cincinnati Reds', 'price': 1.19}, {'name': 'Milwaukee Brewers', 'price': 4.6}]}]}, {'key': 'unibet_us', 'title': 'Unibet', 'last_update': '2023-06-06T01:07:51Z', 'markets': [{'key': 'h2h', 'last_update': '2023-06-06T01:07:51Z', 'outcomes': [{'name': 'Cincinnati Reds', 'price': 1.19}, {'name': 'Milwaukee Brewers', 'price': 4.6}]}]}, {'key': 'betmgm', 'title': 'BetMGM', 'last_update': '2023-06-06T01:07:12Z', 'markets': [{'key': 'h2h', 'last_update': '2023-06-06T01:07:12Z', 'outcomes': [{'name': 'Cincinnati Reds', 'price': 1.11}, {'name': 'Milwaukee Brewers', 'price': 6.25}]}]}]}, {'id': 'f5bfac200a616f5fe65367499e09caae', 'sport_key': 'baseball_mlb', 'sport_title': 'MLB', 'commence_time': '2023-06-06T00:05:00Z', 'home_team': 'Texas Rangers', 'away_team': 'St. Louis Cardinals', 'bookmakers': [{'key': 'draftkings', 'title': 'DraftKings', 'last_update': '2023-06-06T01:06:51Z', 'markets': [{'key': 'h2h', 'last_update': '2023-06-06T01:06:51Z', 'outcomes': [{'name': 'St. Louis Cardinals', 'price': 4.5}, {'name': 'Texas Rangers', 'price': 1.21}]}]}, {'key': 'bovada', 'title': 'Bovada', 'last_update': '2023-06-06T01:07:55Z', 'markets': [{'key': 'h2h', 'last_update': '2023-06-06T01:07:55Z', 'outcomes': [{'name': 'St. Louis Cardinals', 'price': 3.85}, {'name': 'Texas Rangers', 'price': 1.24}]}]}, {'key': 'fanduel', 'title': 'FanDuel', 'last_update': '2023-06-06T01:07:42Z', 'markets': [{'key': 'h2h', 'last_update': '2023-06-06T01:07:42Z', 'outcomes': [{'name': 'St. Louis Cardinals', 'price': 4.6}, {'name': 'Texas Rangers', 'price': 1.17}]}]}, {'key': 'circasports', 'title': 'Circa Sports', 'last_update': '2023-06-06T01:04:56Z', 'markets': [{'key': 'h2h', 'last_update': '2023-06-06T01:04:56Z', 'outcomes': [{'name': 'St. Louis Cardinals', 'price': 3.84}, {'name': 'Texas Rangers', 'price': 1.28}]}]}, {'key': 'foxbet', 'title': 'FOX Bet', 'last_update': '2023-06-06T01:07:21Z', 'markets': [{'key': 'h2h', 'last_update': '2023-06-06T01:07:21Z', 'outcomes': [{'name': 'St. Louis Cardinals', 'price': 3.6}, {'name': 'Texas Rangers', 'price': 1.25}]}]}, {'key': 'twinspires', 'title': 'TwinSpires', 'last_update': '2023-06-06T01:07:25Z', 'markets': [{'key': 'h2h', 'last_update': '2023-06-06T01:07:25Z', 'outcomes': [{'name': 'St. Louis Cardinals', 'price': 4.4}, {'name': 'Texas Rangers', 'price': 1.21}]}]}, {'key': 'barstool', 'title': 'Barstool Sportsbook', 'last_update': '2023-06-06T01:07:36Z', 'markets': [{'key': 'h2h', 'last_update': '2023-06-06T01:07:36Z', 'outcomes': [{'name': 'St. Louis Cardinals', 'price': 4.4}, {'name': 'Texas Rangers', 'price': 1.21}]}]}, {'key': 'unibet_us', 'title': 'Unibet', 'last_update': '2023-06-06T01:07:51Z', 'markets': [{'key': 'h2h', 'last_update': '2023-06-06T01:07:51Z', 'outcomes': [{'name': 'St. Louis Cardinals', 'price': 4.4}, {'name': 'Texas Rangers', 'price': 1.21}]}]}, {'key': 'pointsbetus', 'title': 'PointsBet (US)', 'last_update': '2023-06-06T01:07:38Z', 'markets': [{'key': 'h2h', 'last_update': '2023-06-06T01:07:38Z', 'outcomes': [{'name': 'St. Louis Cardinals', 'price': 4.1}, {'name': 'Texas Rangers', 'price': 1.22}]}]}, {'key': 'betmgm', 'title': 'BetMGM', 'last_update': '2023-06-06T01:07:12Z', 'markets': [{'key': 'h2h', 'last_update': '2023-06-06T01:07:12Z', 'outcomes': [{'name': 'St. Louis Cardinals', 'price': 4.4}, {'name': 'Texas Rangers', 'price': 1.2}]}]}]}, {'id': '5462653ecf598a57eed029d1caacb760', 'sport_key': 'icehockey_nhl', 'sport_title': 'NHL', 'commence_time': '2023-06-06T00:20:51Z', 'home_team': 'Vegas Golden Knights', 'away_team': 'Florida Panthers', 'bookmakers': [{'key': 'draftkings', 'title': 'DraftKings', 'last_update': '2023-06-06T01:07:46Z', 'markets': [{'key': 'h2h', 'last_update': '2023-06-06T01:07:46Z', 'outcomes': [{'name': 'Florida Panthers', 'price': 5.2}, {'name': 'Vegas Golden Knights', 'price': 1.17}]}]}, {'key': 'barstool', 'title': 'Barstool Sportsbook', 'last_update': '2023-06-06T01:07:55Z', 'markets': [{'key': 'h2h', 'last_update': '2023-06-06T01:07:55Z', 'outcomes': [{'name': 'Florida Panthers', 'price': 5.5}, {'name': 'Vegas Golden Knights', 'price': 1.15}]}]}, {'key': 'unibet_us', 'title': 'Unibet', 'last_update': '2023-06-06T01:07:29Z', 'markets': [{'key': 'h2h', 'last_update': '2023-06-06T01:07:29Z', 'outcomes': [{'name': 'Florida Panthers', 'price': 5.5}, {'name': 'Vegas Golden Knights', 'price': 1.15}]}]}, {'key': 'twinspires', 'title': 'TwinSpires', 'last_update': '2023-06-06T01:07:40Z', 'markets': [{'key': 'h2h', 'last_update': '2023-06-06T01:07:40Z', 'outcomes': [{'name': 'Florida Panthers', 'price': 5.5}, {'name': 'Vegas Golden Knights', 'price': 1.15}]}]}, {'key': 'williamhill_us', 'title': 'William Hill (US)', 'last_update': '2023-06-06T01:07:48Z', 'markets': [{'key': 'h2h', 'last_update': '2023-06-06T01:07:48Z', 'outcomes': [{'name': 'Florida Panthers', 'price': 5.0}, {'name': 'Vegas Golden Knights', 'price': 1.17}]}]}, {'key': 'betmgm', 'title': 'BetMGM', 'last_update': '2023-06-06T01:07:29Z', 'markets': [{'key': 'h2h', 'last_update': '2023-06-06T01:07:29Z', 'outcomes': [{'name': 'Florida Panthers', 'price': 5.25}, {'name': 'Vegas Golden Knights', 'price': 1.15}]}]}, {'key': 'bovada', 'title': 'Bovada', 'last_update': '2023-06-06T01:07:24Z', 'markets': [{'key': 'h2h', 'last_update': '2023-06-06T01:07:24Z', 'outcomes': [{'name': 'Florida Panthers', 'price': 5.25}, {'name': 'Vegas Golden Knights', 'price': 1.14}]}]}, {'key': 'mybookieag', 'title': 'MyBookie.ag', 'last_update': '2023-06-06T01:07:39Z', 'markets': [{'key': 'h2h', 'last_update': '2023-06-06T01:07:39Z', 'outcomes': [{'name': 'Florida Panthers', 'price': 5.2}, {'name': 'Vegas Golden Knights', 'price': 1.15}]}]}, {'key': 'circasports', 'title': 'Circa Sports', 'last_update': '2023-06-06T01:07:48Z', 'markets': [{'key': 'h2h', 'last_update': '2023-06-06T01:07:48Z', 'outcomes': [{'name': 'Florida Panthers', 'price': 5.0}, {'name': 'Vegas Golden Knights', 'price': 1.19}]}]}, {'key': 'foxbet', 'title': 'FOX Bet', 'last_update': '2023-06-06T01:07:34Z', 'markets': [{'key': 'h2h', 'last_update': '2023-06-06T01:07:34Z', 'outcomes': [{'name': 'Florida Panthers', 'price': 4.75}, {'name': 'Vegas Golden Knights', 'price': 1.15}]}]}, {'key': 'fanduel', 'title': 'FanDuel', 'last_update': '2023-06-06T01:07:21Z', 'markets': [{'key': 'h2h', 'last_update': '2023-06-06T01:07:21Z', 'outcomes': [{'name': 'Florida Panthers', 'price': 5.0}, {'name': 'Vegas Golden Knights', 'price': 1.16}]}]}, {'key': 'pointsbetus', 'title': 'PointsBet (US)', 'last_update': '2023-06-06T01:07:34Z', 'markets': [{'key': 'h2h', 'last_update': '2023-06-06T01:07:34Z', 'outcomes': [{'name': 'Florida Panthers', 'price': 5.05}, {'name': 'Vegas Golden Knights', 'price': 1.15}]}]}]}, {'id': '15d53ffade889d29d59d88a03c4d833e', 'sport_key': 'baseball_ncaa', 'sport_title': 'NCAA Baseball', 'commence_time': '2023-06-06T01:00:00Z', 'home_team': 'Stanford Cardinal', 'away_team': 'Texas A&M Aggies', 'bookmakers': [{'key': 'draftkings', 'title': 'DraftKings', 'last_update': '2023-06-06T01:07:49Z', 'markets': [{'key': 'h2h', 'last_update': '2023-06-06T01:07:49Z', 'outcomes': [{'name': 'Stanford Cardinal', 'price': 1.69}, {'name': 'Texas A&M Aggies', 'price': 2.15}]}]}, {'key': 'bovada', 'title': 'Bovada', 'last_update': '2023-06-06T01:01:03Z', 'markets': [{'key': 'h2h', 'last_update': '2023-06-06T01:01:03Z', 'outcomes': [{'name': 'Stanford Cardinal', 'price': 1.74}, {'name': 'Texas A&M Aggies', 'price': 2.05}]}]}, {'key': 'williamhill_us', 'title': 'William Hill (US)', 'last_update': '2023-06-06T00:58:54Z', 'markets': [{'key': 'h2h', 'last_update': '2023-06-06T00:58:54Z', 'outcomes': [{'name': 'Stanford Cardinal', 'price': 1.71}, {'name': 'Texas A&M Aggies', 'price': 2.1}]}]}, {'key': 'lowvig', 'title': 'LowVig.ag', 'last_update': '2023-06-06T00:58:04Z', 'markets': [{'key': 'h2h', 'last_update': '2023-06-06T00:58:04Z', 'outcomes': [{'name': 'Stanford Cardinal', 'price': 1.71}, {'name': 'Texas A&M Aggies', 'price': 2.1}]}]}, {'key': 'betus', 'title': 'BetUS', 'last_update': '2023-06-06T00:59:52Z', 'markets': [{'key': 'h2h', 'last_update': '2023-06-06T00:59:52Z', 'outcomes': [{'name': 'Stanford Cardinal', 'price': 1.71}, {'name': 'Texas A&M Aggies', 'price': 2.1}]}]}, {'key': 'betmgm', 'title': 'BetMGM', 'last_update': '2023-06-06T01:06:48Z', 'markets': [{'key': 'h2h', 'last_update': '2023-06-06T01:06:48Z', 'outcomes': [{'name': 'Stanford Cardinal', 'price': 1.62}, {'name': 'Texas A&M Aggies', 'price': 2.15}]}]}, {'key': 'twinspires', 'title': 'TwinSpires', 'last_update': '2023-06-06T00:58:52Z', 'markets': [{'key': 'h2h', 'last_update': '2023-06-06T00:58:52Z', 'outcomes': [{'name': 'Stanford Cardinal', 'price': 1.67}, {'name': 'Texas A&M Aggies', 'price': 2.15}]}]}, {'key': 'unibet_us', 'title': 'Unibet', 'last_update': '2023-06-06T00:59:27Z', 'markets': [{'key': 'h2h', 'last_update': '2023-06-06T00:59:27Z', 'outcomes': [{'name': 'Stanford Cardinal', 'price': 1.67}, {'name': 'Texas A&M Aggies', 'price': 2.15}]}]}, {'key': 'barstool', 'title': 'Barstool Sportsbook', 'last_update': '2023-06-06T00:59:41Z', 'markets': [{'key': 'h2h', 'last_update': '2023-06-06T00:59:41Z', 'outcomes': [{'name': 'Stanford Cardinal', 'price': 1.67}, {'name': 'Texas A&M Aggies', 'price': 2.15}]}]}, {'key': 'betrivers', 'title': 'BetRivers', 'last_update': '2023-06-06T00:59:33Z', 'markets': [{'key': 'h2h', 'last_update': '2023-06-06T00:59:33Z', 'outcomes': [{'name': 'Stanford Cardinal', 'price': 1.67}, {'name': 'Texas A&M Aggies', 'price': 2.15}]}]}, {'key': 'fanduel', 'title': 'FanDuel', 'last_update': '2023-06-06T01:07:47Z', 'markets': [{'key': 'h2h', 'last_update': '2023-06-06T01:07:47Z', 'outcomes': [{'name': 'Stanford Cardinal', 'price': 1.65}, {'name': 'Texas A&M Aggies', 'price': 2.16}]}]}, {'key': 'circasports', 'title': 'Circa Sports', 'last_update': '2023-06-06T00:59:58Z', 'markets': [{'key': 'h2h', 'last_update': '2023-06-06T00:59:58Z', 'outcomes': [{'name': 'Stanford Cardinal', 'price': 1.76}, {'name': 'Texas A&M Aggies', 'price': 2.12}]}]}, {'key': 'mybookieag', 'title': 'MyBookie.ag', 'last_update': '2023-06-06T01:06:13Z', 'markets': [{'key': 'h2h', 'last_update': '2023-06-06T01:06:13Z', 'outcomes': [{'name': 'Stanford Cardinal', 'price': 1.68}, {'name': 'Texas A&M Aggies', 'price': 2.06}]}]}]}, {'id': 'b06aa211229b107d971a5246d9438be7', 'sport_key': 'baseball_mlb', 'sport_title': 'MLB', 'commence_time': '2023-06-06T01:10:00Z', 'home_team': 'San Diego Padres', 'away_team': 'Chicago Cubs', 'bookmakers': [{'key': 'draftkings', 'title': 'DraftKings', 'last_update': '2023-06-06T01:06:51Z', 'markets': [{'key': 'h2h', 'last_update': '2023-06-06T01:06:51Z', 'outcomes': [{'name': 'Chicago Cubs', 'price': 2.45}, {'name': 'San Diego Padres', 'price': 1.59}]}]}, {'key': 'lowvig', 'title': 'LowVig.ag', 'last_update': '2023-06-06T01:07:49Z', 'markets': [{'key': 'h2h', 'last_update': '2023-06-06T01:07:49Z', 'outcomes': [{'name': 'Chicago Cubs', 'price': 2.5}, {'name': 'San Diego Padres', 'price': 1.61}]}]}, {'key': 'betonlineag', 'title': 'BetOnline.ag', 'last_update': '2023-06-06T01:07:30Z', 'markets': [{'key': 'h2h', 'last_update': '2023-06-06T01:07:30Z', 'outcomes': [{'name': 'Chicago Cubs', 'price': 2.5}, {'name': 'San Diego Padres', 'price': 1.61}]}]}, {'key': 'bovada', 'title': 'Bovada', 'last_update': '2023-06-06T01:07:55Z', 'markets': [{'key': 'h2h', 'last_update': '2023-06-06T01:07:55Z', 'outcomes': [{'name': 'Chicago Cubs', 'price': 2.41}, {'name': 'San Diego Padres', 'price': 1.59}]}]}, {'key': 'williamhill_us', 'title': 'William Hill (US)', 'last_update': '2023-06-06T01:07:44Z', 'markets': [{'key': 'h2h', 'last_update': '2023-06-06T01:07:44Z', 'outcomes': [{'name': 'Chicago Cubs', 'price': 2.43}, {'name': 'San Diego Padres', 'price': 1.59}]}]}, {'key': 'wynnbet', 'title': 'WynnBET', 'last_update': '2023-06-06T01:06:40Z', 'markets': [{'key': 'h2h', 'last_update': '2023-06-06T01:06:40Z', 'outcomes': [{'name': 'Chicago Cubs', 'price': 2.52}, {'name': 'San Diego Padres', 'price': 1.6}]}]}, {'key': 'fanduel', 'title': 'FanDuel', 'last_update': '2023-06-06T01:07:42Z', 'markets': [{'key': 'h2h', 'last_update': '2023-06-06T01:07:42Z', 'outcomes': [{'name': 'Chicago Cubs', 'price': 2.44}, {'name': 'San Diego Padres', 'price': 1.58}]}]}, {'key': 'betus', 'title': 'BetUS', 'last_update': '2023-06-06T01:07:40Z', 'markets': [{'key': 'h2h', 'last_update': '2023-06-06T01:07:40Z', 'outcomes': [{'name': 'Chicago Cubs', 'price': 2.45}, {'name': 'San Diego Padres', 'price': 1.61}]}]}, {'key': 'circasports', 'title': 'Circa Sports', 'last_update': '2023-06-06T01:07:43Z', 'markets': [{'key': 'h2h', 'last_update': '2023-06-06T01:07:43Z', 'outcomes': [{'name': 'Chicago Cubs', 'price': 2.38}, {'name': 'San Diego Padres', 'price': 1.61}]}]}, {'key': 'superbook', 'title': 'SuperBook', 'last_update': '2023-06-06T01:07:27Z', 'markets': [{'key': 'h2h', 'last_update': '2023-06-06T01:07:27Z', 'outcomes': [{'name': 'Chicago Cubs', 'price': 2.43}, {'name': 'San Diego Padres', 'price': 1.6}]}]}, {'key': 'twinspires', 'title': 'TwinSpires', 'last_update': '2023-06-06T01:07:25Z', 'markets': [{'key': 'h2h', 'last_update': '2023-06-06T01:07:25Z', 'outcomes': [{'name': 'Chicago Cubs', 'price': 2.45}, {'name': 'San Diego Padres', 'price': 1.57}]}]}, {'key': 'barstool', 'title': 'Barstool Sportsbook', 'last_update': '2023-06-06T01:07:36Z', 'markets': [{'key': 'h2h', 'last_update': '2023-06-06T01:07:36Z', 'outcomes': [{'name': 'Chicago Cubs', 'price': 2.45}, {'name': 'San Diego Padres', 'price': 1.57}]}]}, {'key': 'unibet_us', 'title': 'Unibet', 'last_update': '2023-06-06T01:07:51Z', 'markets': [{'key': 'h2h', 'last_update': '2023-06-06T01:07:51Z', 'outcomes': [{'name': 'Chicago Cubs', 'price': 2.45}, {'name': 'San Diego Padres', 'price': 1.57}]}]}, {'key': 'betrivers', 'title': 'BetRivers', 'last_update': '2023-06-06T01:07:28Z', 'markets': [{'key': 'h2h', 'last_update': '2023-06-06T01:07:28Z', 'outcomes': [{'name': 'Chicago Cubs', 'price': 2.48}, {'name': 'San Diego Padres', 'price': 1.6}]}]}, {'key': 'betmgm', 'title': 'BetMGM', 'last_update': '2023-06-06T01:07:12Z', 'markets': [{'key': 'h2h', 'last_update': '2023-06-06T01:07:12Z', 'outcomes': [{'name': 'Chicago Cubs', 'price': 2.45}, {'name': 'San Diego Padres', 'price': 1.57}]}]}, {'key': 'foxbet', 'title': 'FOX Bet', 'last_update': '2023-06-06T01:07:21Z', 'markets': [{'key': 'h2h', 'last_update': '2023-06-06T01:07:21Z', 'outcomes': [{'name': 'Chicago Cubs', 'price': 2.38}, {'name': 'San Diego Padres', 'price': 1.55}]}]}, {'key': 'pointsbetus', 'title': 'PointsBet (US)', 'last_update': '2023-06-06T01:07:38Z', 'markets': [{'key': 'h2h', 'last_update': '2023-06-06T01:07:38Z', 'outcomes': [{'name': 'Chicago Cubs', 'price': 2.45}, {'name': 'San Diego Padres', 'price': 1.57}]}]}]}, {'id': 'a0ed2a3568aea5e491139b72b0e1a1a9', 'sport_key': 'soccer_korea_kleague1', 'sport_title': 'K League 1', 'commence_time': '2023-06-06T07:30:00Z', 'home_team': 'Suwon FC', 'away_team': 'Ulsan Hyundai FC', 'bookmakers': [{'key': 'mybookieag', 'title': 'MyBookie.ag', 'last_update': '2023-06-06T01:06:19Z', 'markets': [{'key': 'h2h', 'last_update': '2023-06-06T01:06:19Z', 'outcomes': [{'name': 'Suwon FC', 'price': 5.2}, {'name': 'Ulsan Hyundai FC', 'price': 1.55}, {'name': 'Draw', 'price': 4.4}]}]}, {'key': 'williamhill_us', 'title': 'William Hill (US)', 'last_update': '2023-06-06T01:06:55Z', 'markets': [{'key': 'h2h', 'last_update': '2023-06-06T01:06:55Z', 'outcomes': [{'name': 'Suwon FC', 'price': 5.3}, {'name': 'Ulsan Hyundai FC', 'price': 1.53}, {'name': 'Draw', 'price': 4.05}]}]}, {'key': 'foxbet', 'title': 'FOX Bet', 'last_update': '2023-06-06T01:06:51Z', 'markets': [{'key': 'h2h', 'last_update': '2023-06-06T01:06:51Z', 'outcomes': [{'name': 'Suwon FC', 'price': 5.25}, {'name': 'Ulsan Hyundai FC', 'price': 1.53}, {'name': 'Draw', 'price': 4.33}]}]}, {'key': 'bovada', 'title': 'Bovada', 'last_update': '2023-06-06T01:06:40Z', 'markets': [{'key': 'h2h', 'last_update': '2023-06-06T01:06:40Z', 'outcomes': [{'name': 'Suwon FC', 'price': 5.2}, {'name': 'Ulsan Hyundai FC', 'price': 1.57}, {'name': 'Draw', 'price': 4.2}]}]}, {'key': 'betmgm', 'title': 'BetMGM', 'last_update': '2023-06-06T01:06:09Z', 'markets': [{'key': 'h2h', 'last_update': '2023-06-06T01:06:09Z', 'outcomes': [{'name': 'Suwon FC', 'price': 5.0}, {'name': 'Ulsan Hyundai FC', 'price': 1.57}, {'name': 'Draw', 'price': 4.2}]}]}, {'key': 'lowvig', 'title': 'LowVig.ag', 'last_update': '2023-06-06T01:07:22Z', 'markets': [{'key': 'h2h', 'last_update': '2023-06-06T01:07:22Z', 'outcomes': [{'name': 'Suwon FC', 'price': 4.95}, {'name': 'Ulsan Hyundai FC', 'price': 1.54}, {'name': 'Draw', 'price': 4.35}]}]}, {'key': 'betonlineag', 'title': 'BetOnline.ag', 'last_update': '2023-06-06T01:06:31Z', 'markets': [{'key': 'h2h', 'last_update': '2023-06-06T01:06:31Z', 'outcomes': [{'name': 'Suwon FC', 'price': 5.2}, {'name': 'Ulsan Hyundai FC', 'price': 1.52}, {'name': 'Draw', 'price': 4.4}]}]}, {'key': 'draftkings', 'title': 'DraftKings', 'last_update': '2023-06-06T01:07:38Z', 'markets': [{'key': 'h2h', 'last_update': '2023-06-06T01:07:38Z', 'outcomes': [{'name': 'Suwon FC', 'price': 5.5}, {'name': 'Ulsan Hyundai FC', 'price': 1.54}, {'name': 'Draw', 'price': 4.5}]}]}, {'key': 'betus', 'title': 'BetUS', 'last_update': '2023-06-06T01:05:57Z', 'markets': [{'key': 'h2h', 'last_update': '2023-06-06T01:05:57Z', 'outcomes': [{'name': 'Suwon FC', 'price': 5.25}, {'name': 'Ulsan Hyundai FC', 'price': 1.54}, {'name': 'Draw', 'price': 4.4}]}]}]}, {'id': 'ea3c13931d9b63c07a78f1252fbb327b', 'sport_key': 'tennis_wta_french_open', 'sport_title': 'WTA French Open', 'commence_time': '2023-06-06T09:00:00Z', 'home_team': 'Karolina Muchova', 'away_team': 'Anastasia Pavlyuchenkova', 'bookmakers': [{'key': 'barstool', 'title': 'Barstool Sportsbook', 'last_update': '2023-06-06T01:06:37Z', 'markets': [{'key': 'h2h', 'last_update': '2023-06-06T01:06:37Z', 'outcomes': [{'name': 'Anastasia Pavlyuchenkova', 'price': 2.43}, {'name': 'Karolina Muchova', 'price': 1.57}]}]}, {'key': 'foxbet', 'title': 'FOX Bet', 'last_update': '2023-06-06T01:07:40Z', 'markets': [{'key': 'h2h', 'last_update': '2023-06-06T01:07:40Z', 'outcomes': [{'name': 'Anastasia Pavlyuchenkova', 'price': 2.35}, {'name': 'Karolina Muchova', 'price': 1.55}]}]}, {'key': 'draftkings', 'title': 'DraftKings', 'last_update': '2023-06-06T01:06:45Z', 'markets': [{'key': 'h2h', 'last_update': '2023-06-06T01:06:45Z', 'outcomes': [{'name': 'Anastasia Pavlyuchenkova', 'price': 2.45}, {'name': 'Karolina Muchova', 'price': 1.56}]}]}, {'key': 'betrivers', 'title': 'BetRivers', 'last_update': '2023-06-06T01:06:56Z', 'markets': [{'key': 'h2h', 'last_update': '2023-06-06T01:06:56Z', 'outcomes': [{'name': 'Anastasia Pavlyuchenkova', 'price': 2.43}, {'name': 'Karolina Muchova', 'price': 1.57}]}]}, {'key': 'unibet_us', 'title': 'Unibet', 'last_update': '2023-06-06T01:07:12Z', 'markets': [{'key': 'h2h', 'last_update': '2023-06-06T01:07:12Z', 'outcomes': [{'name': 'Anastasia Pavlyuchenkova', 'price': 2.43}, {'name': 'Karolina Muchova', 'price': 1.57}]}]}, {'key': 'mybookieag', 'title': 'MyBookie.ag', 'last_update': '2023-06-06T01:07:26Z', 'markets': [{'key': 'h2h', 'last_update': '2023-06-06T01:07:26Z', 'outcomes': [{'name': 'Anastasia Pavlyuchenkova', 'price': 2.37}, {'name': 'Karolina Muchova', 'price': 1.57}]}]}, {'key': 'twinspires', 'title': 'TwinSpires', 'last_update': '2023-06-06T01:07:06Z', 'markets': [{'key': 'h2h', 'last_update': '2023-06-06T01:07:06Z', 'outcomes': [{'name': 'Anastasia Pavlyuchenkova', 'price': 2.43}, {'name': 'Karolina Muchova', 'price': 1.57}]}]}, {'key': 'betmgm', 'title': 'BetMGM', 'last_update': '2023-06-06T01:07:13Z', 'markets': [{'key': 'h2h', 'last_update': '2023-06-06T01:07:13Z', 'outcomes': [{'name': 'Anastasia Pavlyuchenkova', 'price': 2.45}, {'name': 'Karolina Muchova', 'price': 1.54}]}]}, {'key': 'lowvig', 'title': 'LowVig.ag', 'last_update': '2023-06-06T01:07:15Z', 'markets': [{'key': 'h2h', 'last_update': '2023-06-06T01:07:15Z', 'outcomes': [{'name': 'Anastasia Pavlyuchenkova', 'price': 2.55}, {'name': 'Karolina Muchova', 'price': 1.57}]}]}, {'key': 'betonlineag', 'title': 'BetOnline.ag', 'last_update': '2023-06-06T01:06:42Z', 'markets': [{'key': 'h2h', 'last_update': '2023-06-06T01:06:42Z', 'outcomes': [{'name': 'Anastasia Pavlyuchenkova', 'price': 2.55}, {'name': 'Karolina Muchova', 'price': 1.57}]}]}, {'key': 'fanduel', 'title': 'FanDuel', 'last_update': '2023-06-06T01:06:43Z', 'markets': [{'key': 'h2h', 'last_update': '2023-06-06T01:06:43Z', 'outcomes': [{'name': 'Anastasia Pavlyuchenkova', 'price': 2.42}, {'name': 'Karolina Muchova', 'price': 1.58}]}]}]}, {'id': '7b4577d4e2a27300c2e4e89a7c8178b2', 'sport_key': 'soccer_korea_kleague1', 'sport_title': 'K League 1', 'commence_time': '2023-06-06T09:00:00Z', 'home_team': 'Pohang Steelers', 'away_team': 'Jeju United FC', 'bookmakers': [{'key': 'williamhill_us', 'title': 'William Hill (US)', 'last_update': '2023-06-06T01:06:55Z', 'markets': [{'key': 'h2h', 'last_update': '2023-06-06T01:06:55Z', 'outcomes': [{'name': 'Jeju United FC', 'price': 3.7}, {'name': 'Pohang Steelers', 'price': 1.97}, {'name': 'Draw', 'price': 3.2}]}]}, {'key': 'mybookieag', 'title': 'MyBookie.ag', 'last_update': '2023-06-06T01:06:19Z', 'markets': [{'key': 'h2h', 'last_update': '2023-06-06T01:06:19Z', 'outcomes': [{'name': 'Jeju United FC', 'price': 3.55}, {'name': 'Pohang Steelers', 'price': 2.08}, {'name': 'Draw', 'price': 3.35}]}]}, {'key': 'bovada', 'title': 'Bovada', 'last_update': '2023-06-06T01:06:40Z', 'markets': [{'key': 'h2h', 'last_update': '2023-06-06T01:06:40Z', 'outcomes': [{'name': 'Jeju United FC', 'price': 3.55}, {'name': 'Pohang Steelers', 'price': 2.1}, {'name': 'Draw', 'price': 3.25}]}]}, {'key': 'foxbet', 'title': 'FOX Bet', 'last_update': '2023-06-06T01:06:51Z', 'markets': [{'key': 'h2h', 'last_update': '2023-06-06T01:06:51Z', 'outcomes': [{'name': 'Jeju United FC', 'price': 3.6}, {'name': 'Pohang Steelers', 'price': 2.05}, {'name': 'Draw', 'price': 3.25}]}]}, {'key': 'betmgm', 'title': 'BetMGM', 'last_update': '2023-06-06T01:06:09Z', 'markets': [{'key': 'h2h', 'last_update': '2023-06-06T01:06:09Z', 'outcomes': [{'name': 'Jeju United FC', 'price': 3.6}, {'name': 'Pohang Steelers', 'price': 2.05}, {'name': 'Draw', 'price': 3.3}]}]}, {'key': 'draftkings', 'title': 'DraftKings', 'last_update': '2023-06-06T01:07:38Z', 'markets': [{'key': 'h2h', 'last_update': '2023-06-06T01:07:38Z', 'outcomes': [{'name': 'Jeju United FC', 'price': 3.6}, {'name': 'Pohang Steelers', 'price': 2.1}, {'name': 'Draw', 'price': 3.4}]}]}, {'key': 'betus', 'title': 'BetUS', 'last_update': '2023-06-06T01:05:57Z', 'markets': [{'key': 'h2h', 'last_update': '2023-06-06T01:05:57Z', 'outcomes': [{'name': 'Jeju United FC', 'price': 3.55}, {'name': 'Pohang Steelers', 'price': 2.05}, {'name': 'Draw', 'price': 3.35}]}]}]}, {'id': '40f1cdad0dc30150a16e605b846e9b3b', 'sport_key': 'tennis_wta_french_open', 'sport_title': 'WTA French Open', 'commence_time': '2023-06-06T10:30:00Z', 'home_team': 'Elina Svitolina', 'away_team': 'Aryna Sabalenka', 'bookmakers': [{'key': 'barstool', 'title': 'Barstool Sportsbook', 'last_update': '2023-06-06T01:06:37Z', 'markets': [{'key': 'h2h', 'last_update': '2023-06-06T01:06:37Z', 'outcomes': [{'name': 'Aryna Sabalenka', 'price': 1.22}, {'name': 'Elina Svitolina', 'price': 4.5}]}]}, {'key': 'betrivers', 'title': 'BetRivers', 'last_update': '2023-06-06T01:06:56Z', 'markets': [{'key': 'h2h', 'last_update': '2023-06-06T01:06:56Z', 'outcomes': [{'name': 'Aryna Sabalenka', 'price': 1.22}, {'name': 'Elina Svitolina', 'price': 4.5}]}]}, {'key': 'draftkings', 'title': 'DraftKings', 'last_update': '2023-06-06T01:06:45Z', 'markets': [{'key': 'h2h', 'last_update': '2023-06-06T01:06:45Z', 'outcomes': [{'name': 'Aryna Sabalenka', 'price': 1.22}, {'name': 'Elina Svitolina', 'price': 4.4}]}]}, {'key': 'twinspires', 'title': 'TwinSpires', 'last_update': '2023-06-06T01:07:06Z', 'markets': [{'key': 'h2h', 'last_update': '2023-06-06T01:07:06Z', 'outcomes': [{'name': 'Aryna Sabalenka', 'price': 1.22}, {'name': 'Elina Svitolina', 'price': 4.5}]}]}, {'key': 'foxbet', 'title': 'FOX Bet', 'last_update': '2023-06-06T01:07:40Z', 'markets': [{'key': 'h2h', 'last_update': '2023-06-06T01:07:40Z', 'outcomes': [{'name': 'Aryna Sabalenka', 'price': 1.22}, {'name': 'Elina Svitolina', 'price': 4.0}]}]}, {'key': 'betmgm', 'title': 'BetMGM', 'last_update': '2023-06-06T01:07:13Z', 'markets': [{'key': 'h2h', 'last_update': '2023-06-06T01:07:13Z', 'outcomes': [{'name': 'Aryna Sabalenka', 'price': 1.2}, {'name': 'Elina Svitolina', 'price': 4.6}]}]}, {'key': 'unibet_us', 'title': 'Unibet', 'last_update': '2023-06-06T01:07:12Z', 'markets': [{'key': 'h2h', 'last_update': '2023-06-06T01:07:12Z', 'outcomes': [{'name': 'Aryna Sabalenka', 'price': 1.22}, {'name': 'Elina Svitolina', 'price': 4.5}]}]}, {'key': 'mybookieag', 'title': 'MyBookie.ag', 'last_update': '2023-06-06T01:07:26Z', 'markets': [{'key': 'h2h', 'last_update': '2023-06-06T01:07:26Z', 'outcomes': [{'name': 'Aryna Sabalenka', 'price': 1.21}, {'name': 'Elina Svitolina', 'price': 4.3}]}]}, {'key': 'fanduel', 'title': 'FanDuel', 'last_update': '2023-06-06T01:06:43Z', 'markets': [{'key': 'h2h', 'last_update': '2023-06-06T01:06:43Z', 'outcomes': [{'name': 'Aryna Sabalenka', 'price': 1.22}, {'name': 'Elina Svitolina', 'price': 4.65}]}]}, {'key': 'betonlineag', 'title': 'BetOnline.ag', 'last_update': '2023-06-06T01:06:42Z', 'markets': [{'key': 'h2h', 'last_update': '2023-06-06T01:06:42Z', 'outcomes': [{'name': 'Aryna Sabalenka', 'price': 1.22}, {'name': 'Elina Svitolina', 'price': 4.57}]}]}, {'key': 'lowvig', 'title': 'LowVig.ag', 'last_update': '2023-06-06T01:07:15Z', 'markets': [{'key': 'h2h', 'last_update': '2023-06-06T01:07:15Z', 'outcomes': [{'name': 'Aryna Sabalenka', 'price': 1.22}, {'name': 'Elina Svitolina', 'price': 4.57}]}]}]}, {'id': 'd6f7a1f5fdacb7cc0f038f2c1277a81b', 'sport_key': 'tennis_atp_french_open', 'sport_title': 'ATP French Open', 'commence_time': '2023-06-06T11:45:00Z', 'home_team': 'Novak Djokovic', 'away_team': 'Karen Khachanov', 'bookmakers': [{'key': 'mybookieag', 'title': 'MyBookie.ag', 'last_update': '2023-06-06T01:07:48Z', 'markets': [{'key': 'h2h', 'last_update': '2023-06-06T01:07:47Z', 'outcomes': [{'name': 'Karen Khachanov', 'price': 7.9}, {'name': 'Novak Djokovic', 'price': 1.07}]}]}, {'key': 'unibet_us', 'title': 'Unibet', 'last_update': '2023-06-06T01:06:37Z', 'markets': [{'key': 'h2h', 'last_update': '2023-06-06T01:06:37Z', 'outcomes': [{'name': 'Karen Khachanov', 'price': 8.0}, {'name': 'Novak Djokovic', 'price': 1.09}]}]}, {'key': 'barstool', 'title': 'Barstool Sportsbook', 'last_update': '2023-06-06T01:07:16Z', 'markets': [{'key': 'h2h', 'last_update': '2023-06-06T01:07:16Z', 'outcomes': [{'name': 'Karen Khachanov', 'price': 8.0}, {'name': 'Novak Djokovic', 'price': 1.09}]}]}, {'key': 'foxbet', 'title': 'FOX Bet', 'last_update': '2023-06-06T01:07:25Z', 'markets': [{'key': 'h2h', 'last_update': '2023-06-06T01:07:25Z', 'outcomes': [{'name': 'Karen Khachanov', 'price': 7.0}, {'name': 'Novak Djokovic', 'price': 1.08}]}]}, {'key': 'draftkings', 'title': 'DraftKings', 'last_update': '2023-06-06T01:07:32Z', 'markets': [{'key': 'h2h', 'last_update': '2023-06-06T01:07:32Z', 'outcomes': [{'name': 'Karen Khachanov', 'price': 8.0}, {'name': 'Novak Djokovic', 'price': 1.09}]}]}, {'key': 'betrivers', 'title': 'BetRivers', 'last_update': '2023-06-06T01:06:03Z', 'markets': [{'key': 'h2h', 'last_update': '2023-06-06T01:06:03Z', 'outcomes': [{'name': 'Karen Khachanov', 'price': 8.0}, {'name': 'Novak Djokovic', 'price': 1.09}]}]}, {'key': 'twinspires', 'title': 'TwinSpires', 'last_update': '2023-06-06T01:07:33Z', 'markets': [{'key': 'h2h', 'last_update': '2023-06-06T01:07:33Z', 'outcomes': [{'name': 'Karen Khachanov', 'price': 8.0}, {'name': 'Novak Djokovic', 'price': 1.09}]}]}, {'key': 'lowvig', 'title': 'LowVig.ag', 'last_update': '2023-06-06T01:06:12Z', 'markets': [{'key': 'h2h', 'last_update': '2023-06-06T01:06:12Z', 'outcomes': [{'name': 'Karen Khachanov', 'price': 9.25}, {'name': 'Novak Djokovic', 'price': 1.07}]}]}, {'key': 'betonlineag', 'title': 'BetOnline.ag', 'last_update': '2023-06-06T01:06:14Z', 'markets': [{'key': 'h2h', 'last_update': '2023-06-06T01:06:14Z', 'outcomes': [{'name': 'Karen Khachanov', 'price': 9.25}, {'name': 'Novak Djokovic', 'price': 1.07}]}]}, {'key': 'betmgm', 'title': 'BetMGM', 'last_update': '2023-06-06T01:06:20Z', 'markets': [{'key': 'h2h', 'last_update': '2023-06-06T01:06:20Z', 'outcomes': [{'name': 'Karen Khachanov', 'price': 8.0}, {'name': 'Novak Djokovic', 'price': 1.08}]}]}, {'key': 'fanduel', 'title': 'FanDuel', 'last_update': '2023-06-06T01:07:28Z', 'markets': [{'key': 'h2h', 'last_update': '2023-06-06T01:07:27Z', 'outcomes': [{'name': 'Karen Khachanov', 'price': 9.6}, {'name': 'Novak Djokovic', 'price': 1.06}]}]}]}, {'id': 'e4b82750152fc0134388bea926e6b592', 'sport_key': 'cricket_odi', 'sport_title': 'One Day Internationals', 'commence_time': '2023-06-06T12:30:00Z', 'home_team': 'United Arab Emirates', 'away_team': 'West Indies', 'bookmakers': [{'key': 'draftkings', 'title': 'DraftKings', 'last_update': '2023-06-06T01:06:25Z', 'markets': [{'key': 'h2h', 'last_update': '2023-06-06T01:06:25Z', 'outcomes': [{'name': 'United Arab Emirates', 'price': 4.9}, {'name': 'West Indies', 'price': 1.17}]}]}, {'key': 'unibet_us', 'title': 'Unibet', 'last_update': '2023-06-06T01:07:40Z', 'markets': [{'key': 'h2h', 'last_update': '2023-06-06T01:07:40Z', 'outcomes': [{'name': 'United Arab Emirates', 'price': 4.75}, {'name': 'West Indies', 'price': 1.17}]}]}]}, {'id': '6c091a7e1cf9a96582884af66dc5b7fd', 'sport_key': 'soccer_sweden_superettan', 'sport_title': 'Superettan - Sweden', 'commence_time': '2023-06-06T13:00:00Z', 'home_team': 'GIF Sundsvall', 'away_team': 'GAIS', 'bookmakers': [{'key': 'fanduel', 'title': 'FanDuel', 'last_update': '2023-06-06T01:06:29Z', 'markets': [{'key': 'h2h', 'last_update': '2023-06-06T01:06:29Z', 'outcomes': [{'name': 'GAIS', 'price': 1.83}, {'name': 'GIF Sundsvall', 'price': 3.8}, {'name': 'Draw', 'price': 3.5}]}]}, {'key': 'bovada', 'title': 'Bovada', 'last_update': '2023-06-06T01:06:05Z', 'markets': [{'key': 'h2h', 'last_update': '2023-06-06T01:06:05Z', 'outcomes': [{'name': 'GAIS', 'price': 1.95}, {'name': 'GIF Sundsvall', 'price': 3.5}, {'name': 'Draw', 'price': 3.45}]}]}, {'key': 'foxbet', 'title': 'FOX Bet', 'last_update': '2023-06-06T01:06:03Z', 'markets': [{'key': 'h2h', 'last_update': '2023-06-06T01:06:03Z', 'outcomes': [{'name': 'GAIS', 'price': 1.9}, {'name': 'GIF Sundsvall', 'price': 3.25}, {'name': 'Draw', 'price': 3.3}]}]}, {'key': 'mybookieag', 'title': 'MyBookie.ag', 'last_update': '2023-06-06T01:06:05Z', 'markets': [{'key': 'h2h', 'last_update': '2023-06-06T01:06:05Z', 'outcomes': [{'name': 'GAIS', 'price': 1.98}, {'name': 'GIF Sundsvall', 'price': 3.6}, {'name': 'Draw', 'price': 3.65}]}]}, {'key': 'williamhill_us', 'title': 'William Hill (US)', 'last_update': '2023-06-06T01:06:29Z', 'markets': [{'key': 'h2h', 'last_update': '2023-06-06T01:06:29Z', 'outcomes': [{'name': 'GAIS', 'price': 1.9}, {'name': 'GIF Sundsvall', 'price': 3.6}, {'name': 'Draw', 'price': 3.3}]}]}, {'key': 'betus', 'title': 'BetUS', 'last_update': '2023-06-06T01:06:47Z', 'markets': [{'key': 'h2h', 'last_update': '2023-06-06T01:06:47Z', 'outcomes': [{'name': 'GAIS', 'price': 1.91}, {'name': 'GIF Sundsvall', 'price': 3.7}, {'name': 'Draw', 'price': 3.55}]}]}, {'key': 'lowvig', 'title': 'LowVig.ag', 'last_update': '2023-06-06T01:06:52Z', 'markets': [{'key': 'h2h', 'last_update': '2023-06-06T01:06:52Z', 'outcomes': [{'name': 'GAIS', 'price': 1.93}, {'name': 'GIF Sundsvall', 'price': 3.4}, {'name': 'Draw', 'price': 3.55}]}]}, {'key': 'betonlineag', 'title': 'BetOnline.ag', 'last_update': '2023-06-06T01:07:05Z', 'markets': [{'key': 'h2h', 'last_update': '2023-06-06T01:07:05Z', 'outcomes': [{'name': 'GAIS', 'price': 1.93}, {'name': 'GIF Sundsvall', 'price': 3.4}, {'name': 'Draw', 'price': 3.55}]}]}]}]\n"
     ]
    }
   ],
   "source": [
    "# odds_response\n",
    "print(odds_response)\n",
    "\n",
    "# saves data to upcoming_events.txt\n",
    "with open('1_upcoming_events.txt', 'w') as f:\n",
    "    json.dump(odds_response, f)"
   ]
  },
  {
   "attachments": {},
   "cell_type": "markdown",
   "id": "795b37df",
   "metadata": {},
   "source": [
    "### Event Class\n",
    "\n",
    "\n",
    "The Event class represents a sporting event and provides methods to find the best odds, determine if there is an opportunity for arbitrage, convert decimal odds to American odds, and calculate the bet amounts for arbitrage betting.\n",
    "\n",
    "The code is structured in a way that encapsulates the functionality related to the event and its odds. It utilizes the data provided in the constructor to initialize the event and extract relevant information such as the sport key and ID.\n",
    "\n",
    "- find_best_odds iterates over the bookmakers and outcomes to find the best odds for each outcome in the event. It populates the best_odds list with the bookmaker, outcome name, and odds.\n",
    "\n",
    "- arbitrage calculates the total arbitrage percentage based on the best odds and determines if there is an opportunity for arbitrage betting. It checks if the sum of the reciprocals of the odds is less than 1.\n",
    "\n",
    "- convert_decimal_to_american converts the decimal odds in best_odds to American odds format.\n",
    "\n",
    "- calculate_arbitrage_bets calculates the bet amounts for each outcome based on the individual arbitrage percentages and the total arbitrage percentage.\n",
    "\n",
    "- Each ``Event`` object represents an indivudal sporting event.\n",
    "\n",
    "- The ``data`` parameter contains all of the odds data that is received from the API call."
   ]
  },
  {
   "cell_type": "code",
   "execution_count": 63,
   "id": "bccd45dc",
   "metadata": {},
   "outputs": [],
   "source": [
    "BOOKMAKER_INDEX = 0  # Index for the bookmaker in the best_odds list\n",
    "NAME_INDEX = 1  # Index for the name in the best_odds list\n",
    "ODDS_INDEX = 2  # Index for the odds in the best_odds list\n",
    "FIRST = 0  # Constant value for the first element in a list\n",
    "\n",
    "class Event:\n",
    "    def __init__(self, data):\n",
    "        self.data = data\n",
    "        self.sport_key = data['sport_key']  # Store the sport_key from the data dictionary\n",
    "        self.id = data['id']  # Store the id from the data dictionary\n",
    "        \n",
    "    def find_best_odds(self):\n",
    "        # Determine the number of possible outcomes for a sporting event\n",
    "        num_outcomes = len(self.data['bookmakers'][FIRST]['markets'][FIRST]['outcomes'])\n",
    "        self.num_outcomes = num_outcomes\n",
    "\n",
    "        # Initialize the best_odds list with initial values\n",
    "        best_odds = [[None, None, float('-inf')] for _ in range(num_outcomes)]\n",
    "        # Format: [Bookmaker, Name, Price]\n",
    "\n",
    "        bookmakers = event.data['bookmakers']  # Retrieve the bookmakers from the event data\n",
    "        for index, bookmaker in enumerate(bookmakers):\n",
    "\n",
    "            # Determine the odds offered by each bookmaker\n",
    "            for outcome in range(num_outcomes):\n",
    "\n",
    "                # Check if any of the bookmaker odds are better than the current best odds\n",
    "                bookmaker_odds = float(bookmaker['markets'][FIRST]['outcomes'][outcome]['price'])\n",
    "                current_best_odds = best_odds[outcome][ODDS_INDEX]\n",
    "\n",
    "                if bookmaker_odds > current_best_odds:\n",
    "                    best_odds[outcome][BOOKMAKER_INDEX] = bookmaker['title']\n",
    "                    best_odds[outcome][NAME_INDEX] = bookmaker['markets'][FIRST]['outcomes'][outcome]['name']\n",
    "                    best_odds[outcome][ODDS_INDEX] = bookmaker_odds\n",
    "                    \n",
    "        self.best_odds = best_odds\n",
    "        return best_odds\n",
    "    \n",
    "    def arbitrage(self):\n",
    "        total_arbitrage_percentage = 0\n",
    "        for odds in self.best_odds:\n",
    "            total_arbitrage_percentage += (1.0 / odds[ODDS_INDEX])\n",
    "            \n",
    "        self.total_arbitrage_percentage = total_arbitrage_percentage\n",
    "        self.expected_earnings = (BET_SIZE / total_arbitrage_percentage) - BET_SIZE\n",
    "        \n",
    "        # Check if the sum of the reciprocals of the odds is less than 1, indicating an arbitrage opportunity\n",
    "        if total_arbitrage_percentage < 1:\n",
    "            return True\n",
    "        return False\n",
    "    \n",
    "    # Convert decimal/European best odds to American best odds\n",
    "    def convert_decimal_to_american(self):\n",
    "        best_odds = self.best_odds\n",
    "        for odds in best_odds:\n",
    "            decimal = odds[ODDS_INDEX]\n",
    "            if decimal >= 2:\n",
    "                american = (decimal - 1) * 100\n",
    "            elif decimal < 2:\n",
    "                american = -100 / (decimal - 1)\n",
    "            odds[ODDS_INDEX] = round(american, 2)\n",
    "        return best_odds\n",
    "     \n",
    "    def calculate_arbitrage_bets(self):\n",
    "        bet_amounts = []\n",
    "        for outcome in range(self.num_outcomes):\n",
    "            individual_arbitrage_percentage = 1 / self.best_odds[outcome][ODDS_INDEX]\n",
    "            bet_amount = (BET_SIZE * individual_arbitrage_percentage) / self.total_arbitrage_percentage\n",
    "            bet_amounts.append(round(bet_amount, 2))\n",
    "        \n",
    "        self.bet_amounts = bet_amounts\n",
    "        return\n"
   ]
  },
  {
   "attachments": {},
   "cell_type": "markdown",
   "id": "0737847a",
   "metadata": {},
   "source": [
    "### Parsing Events and Calculating Arbitrage Opportunities\n",
    "\n",
    "First loop iterates over the odds_response data and creates an Event object for each data item. The Event objects are then added to the events list.\n",
    "\n",
    "Second loop iterates over the events list and checks if each event has an opportunity for arbitrage by calling the arbitrage() function. If an event has an opportunity for arbitrage, it is added to the arbitrage_events list.\n",
    "\n",
    "Last loop iterates over the arbitrage_events list and performs calculations related to arbitrage betting for each event. The calculate_arbitrage_bets() method calculates the bet amounts, while the convert_decimal_to_american() method converts the odds from decimal format to American format.\n",
    "\n",
    "This calculation will use unbiased arbitrage, where the profit is the same regardless of the outcome."
   ]
  },
  {
   "cell_type": "code",
   "execution_count": 64,
   "id": "9d71f761",
   "metadata": {},
   "outputs": [
    {
     "name": "stdout",
     "output_type": "stream",
     "text": [
      "{'id': '56f790ad0d89b1da2321001b64be5498', 'sport_key': 'baseball_mlb', 'sport_title': 'MLB', 'commence_time': '2023-06-05T22:40:00Z', 'home_team': 'Philadelphia Phillies', 'away_team': 'Detroit Tigers', 'bookmakers': [{'key': 'bovada', 'title': 'Bovada', 'last_update': '2023-06-06T01:07:55Z', 'markets': [{'key': 'h2h', 'last_update': '2023-06-06T01:07:55Z', 'outcomes': [{'name': 'Detroit Tigers', 'price': 15.0}, {'name': 'Philadelphia Phillies', 'price': 1.02}]}]}, {'key': 'pointsbetus', 'title': 'PointsBet (US)', 'last_update': '2023-06-06T01:07:38Z', 'markets': [{'key': 'h2h', 'last_update': '2023-06-06T01:07:38Z', 'outcomes': [{'name': 'Detroit Tigers', 'price': 46.0}, {'name': 'Philadelphia Phillies', 'price': 1.0}]}]}, {'key': 'betmgm', 'title': 'BetMGM', 'last_update': '2023-06-06T01:07:12Z', 'markets': [{'key': 'h2h', 'last_update': '2023-06-06T01:07:12Z', 'outcomes': [{'name': 'Detroit Tigers', 'price': 34.0}, {'name': 'Philadelphia Phillies', 'price': 1.01}]}]}]}\n",
      "{'id': '3bc3a230d3e8371807179948d3100d98', 'sport_key': 'baseball_mlb', 'sport_title': 'MLB', 'commence_time': '2023-06-05T22:40:00Z', 'home_team': 'Miami Marlins', 'away_team': 'Kansas City Royals', 'bookmakers': [{'key': 'pointsbetus', 'title': 'PointsBet (US)', 'last_update': '2023-06-06T01:07:38Z', 'markets': [{'key': 'h2h', 'last_update': '2023-06-06T01:07:38Z', 'outcomes': [{'name': 'Kansas City Royals', 'price': 14.0}, {'name': 'Miami Marlins', 'price': 1.03}]}]}, {'key': 'bovada', 'title': 'Bovada', 'last_update': '2023-06-06T01:07:55Z', 'markets': [{'key': 'h2h', 'last_update': '2023-06-06T01:07:55Z', 'outcomes': [{'name': 'Kansas City Royals', 'price': 19.0}, {'name': 'Miami Marlins', 'price': 1.0}]}]}]}\n",
      "{'id': '51202dd62c556f420b6904eec64aba66', 'sport_key': 'baseball_mlb', 'sport_title': 'MLB', 'commence_time': '2023-06-05T23:05:00Z', 'home_team': 'Pittsburgh Pirates', 'away_team': 'Oakland Athletics', 'bookmakers': [{'key': 'draftkings', 'title': 'DraftKings', 'last_update': '2023-06-06T01:06:51Z', 'markets': [{'key': 'h2h', 'last_update': '2023-06-06T01:06:51Z', 'outcomes': [{'name': 'Oakland Athletics', 'price': 1.51}, {'name': 'Pittsburgh Pirates', 'price': 2.6}]}]}, {'key': 'bovada', 'title': 'Bovada', 'last_update': '2023-06-06T01:07:55Z', 'markets': [{'key': 'h2h', 'last_update': '2023-06-06T01:07:55Z', 'outcomes': [{'name': 'Oakland Athletics', 'price': 1.54}, {'name': 'Pittsburgh Pirates', 'price': 2.4}]}]}, {'key': 'fanduel', 'title': 'FanDuel', 'last_update': '2023-06-06T01:07:42Z', 'markets': [{'key': 'h2h', 'last_update': '2023-06-06T01:07:42Z', 'outcomes': [{'name': 'Oakland Athletics', 'price': 1.43}, {'name': 'Pittsburgh Pirates', 'price': 2.8}]}]}, {'key': 'circasports', 'title': 'Circa Sports', 'last_update': '2023-06-06T01:05:37Z', 'markets': [{'key': 'h2h', 'last_update': '2023-06-06T01:05:37Z', 'outcomes': [{'name': 'Oakland Athletics', 'price': 1.57}, {'name': 'Pittsburgh Pirates', 'price': 2.46}]}]}, {'key': 'foxbet', 'title': 'FOX Bet', 'last_update': '2023-06-06T01:07:21Z', 'markets': [{'key': 'h2h', 'last_update': '2023-06-06T01:07:21Z', 'outcomes': [{'name': 'Oakland Athletics', 'price': 1.5}, {'name': 'Pittsburgh Pirates', 'price': 2.4}]}]}, {'key': 'pointsbetus', 'title': 'PointsBet (US)', 'last_update': '2023-06-06T01:07:38Z', 'markets': [{'key': 'h2h', 'last_update': '2023-06-06T01:07:38Z', 'outcomes': [{'name': 'Oakland Athletics', 'price': 1.42}, {'name': 'Pittsburgh Pirates', 'price': 2.75}]}]}, {'key': 'betmgm', 'title': 'BetMGM', 'last_update': '2023-06-06T01:07:12Z', 'markets': [{'key': 'h2h', 'last_update': '2023-06-06T01:07:12Z', 'outcomes': [{'name': 'Oakland Athletics', 'price': 1.44}, {'name': 'Pittsburgh Pirates', 'price': 2.75}]}]}, {'key': 'barstool', 'title': 'Barstool Sportsbook', 'last_update': '2023-06-06T01:07:36Z', 'markets': [{'key': 'h2h', 'last_update': '2023-06-06T01:07:36Z', 'outcomes': [{'name': 'Oakland Athletics', 'price': 1.48}, {'name': 'Pittsburgh Pirates', 'price': 2.5}]}]}, {'key': 'unibet_us', 'title': 'Unibet', 'last_update': '2023-06-06T01:07:51Z', 'markets': [{'key': 'h2h', 'last_update': '2023-06-06T01:07:51Z', 'outcomes': [{'name': 'Oakland Athletics', 'price': 1.44}, {'name': 'Pittsburgh Pirates', 'price': 2.75}]}]}, {'key': 'twinspires', 'title': 'TwinSpires', 'last_update': '2023-06-06T01:07:25Z', 'markets': [{'key': 'h2h', 'last_update': '2023-06-06T01:07:25Z', 'outcomes': [{'name': 'Oakland Athletics', 'price': 1.44}, {'name': 'Pittsburgh Pirates', 'price': 2.6}]}]}]}\n",
      "{'id': '01bd08781fc36bbd960a2e5869e3ff54', 'sport_key': 'baseball_mlb', 'sport_title': 'MLB', 'commence_time': '2023-06-05T23:07:00Z', 'home_team': 'Toronto Blue Jays', 'away_team': 'Houston Astros', 'bookmakers': [{'key': 'bovada', 'title': 'Bovada', 'last_update': '2023-06-06T01:07:55Z', 'markets': [{'key': 'h2h', 'last_update': '2023-06-06T01:07:55Z', 'outcomes': [{'name': 'Houston Astros', 'price': 1.0}, {'name': 'Toronto Blue Jays', 'price': 19.0}]}]}, {'key': 'pointsbetus', 'title': 'PointsBet (US)', 'last_update': '2023-06-06T01:07:38Z', 'markets': [{'key': 'h2h', 'last_update': '2023-06-06T01:07:38Z', 'outcomes': [{'name': 'Houston Astros', 'price': 1.01}, {'name': 'Toronto Blue Jays', 'price': 23.0}]}]}, {'key': 'betmgm', 'title': 'BetMGM', 'last_update': '2023-06-06T01:07:12Z', 'markets': [{'key': 'h2h', 'last_update': '2023-06-06T01:07:12Z', 'outcomes': [{'name': 'Houston Astros', 'price': 1.01}, {'name': 'Toronto Blue Jays', 'price': 34.0}]}]}]}\n",
      "{'id': 'b5a4f594a43084f31641442355e7512f', 'sport_key': 'baseball_mlb', 'sport_title': 'MLB', 'commence_time': '2023-06-05T23:10:00Z', 'home_team': 'Cincinnati Reds', 'away_team': 'Milwaukee Brewers', 'bookmakers': [{'key': 'draftkings', 'title': 'DraftKings', 'last_update': '2023-06-06T01:06:51Z', 'markets': [{'key': 'h2h', 'last_update': '2023-06-06T01:06:51Z', 'outcomes': [{'name': 'Cincinnati Reds', 'price': 1.15}, {'name': 'Milwaukee Brewers', 'price': 5.6}]}]}, {'key': 'bovada', 'title': 'Bovada', 'last_update': '2023-06-06T01:07:55Z', 'markets': [{'key': 'h2h', 'last_update': '2023-06-06T01:07:55Z', 'outcomes': [{'name': 'Cincinnati Reds', 'price': 1.13}, {'name': 'Milwaukee Brewers', 'price': 5.5}]}]}, {'key': 'fanduel', 'title': 'FanDuel', 'last_update': '2023-06-06T01:07:42Z', 'markets': [{'key': 'h2h', 'last_update': '2023-06-06T01:07:42Z', 'outcomes': [{'name': 'Cincinnati Reds', 'price': 1.11}, {'name': 'Milwaukee Brewers', 'price': 6.4}]}]}, {'key': 'circasports', 'title': 'Circa Sports', 'last_update': '2023-06-06T01:06:19Z', 'markets': [{'key': 'h2h', 'last_update': '2023-06-06T01:06:19Z', 'outcomes': [{'name': 'Cincinnati Reds', 'price': 1.13}, {'name': 'Milwaukee Brewers', 'price': 6.25}]}]}, {'key': 'foxbet', 'title': 'FOX Bet', 'last_update': '2023-06-06T01:07:21Z', 'markets': [{'key': 'h2h', 'last_update': '2023-06-06T01:07:21Z', 'outcomes': [{'name': 'Cincinnati Reds', 'price': 1.12}, {'name': 'Milwaukee Brewers', 'price': 5.25}]}]}, {'key': 'pointsbetus', 'title': 'PointsBet (US)', 'last_update': '2023-06-06T01:07:38Z', 'markets': [{'key': 'h2h', 'last_update': '2023-06-06T01:07:38Z', 'outcomes': [{'name': 'Cincinnati Reds', 'price': 1.2}, {'name': 'Milwaukee Brewers', 'price': 4.3}]}]}, {'key': 'twinspires', 'title': 'TwinSpires', 'last_update': '2023-06-06T01:07:25Z', 'markets': [{'key': 'h2h', 'last_update': '2023-06-06T01:07:25Z', 'outcomes': [{'name': 'Cincinnati Reds', 'price': 1.19}, {'name': 'Milwaukee Brewers', 'price': 4.6}]}]}, {'key': 'barstool', 'title': 'Barstool Sportsbook', 'last_update': '2023-06-06T01:07:36Z', 'markets': [{'key': 'h2h', 'last_update': '2023-06-06T01:07:36Z', 'outcomes': [{'name': 'Cincinnati Reds', 'price': 1.19}, {'name': 'Milwaukee Brewers', 'price': 4.6}]}]}, {'key': 'unibet_us', 'title': 'Unibet', 'last_update': '2023-06-06T01:07:51Z', 'markets': [{'key': 'h2h', 'last_update': '2023-06-06T01:07:51Z', 'outcomes': [{'name': 'Cincinnati Reds', 'price': 1.19}, {'name': 'Milwaukee Brewers', 'price': 4.6}]}]}, {'key': 'betmgm', 'title': 'BetMGM', 'last_update': '2023-06-06T01:07:12Z', 'markets': [{'key': 'h2h', 'last_update': '2023-06-06T01:07:12Z', 'outcomes': [{'name': 'Cincinnati Reds', 'price': 1.11}, {'name': 'Milwaukee Brewers', 'price': 6.25}]}]}]}\n",
      "{'id': 'f5bfac200a616f5fe65367499e09caae', 'sport_key': 'baseball_mlb', 'sport_title': 'MLB', 'commence_time': '2023-06-06T00:05:00Z', 'home_team': 'Texas Rangers', 'away_team': 'St. Louis Cardinals', 'bookmakers': [{'key': 'draftkings', 'title': 'DraftKings', 'last_update': '2023-06-06T01:06:51Z', 'markets': [{'key': 'h2h', 'last_update': '2023-06-06T01:06:51Z', 'outcomes': [{'name': 'St. Louis Cardinals', 'price': 4.5}, {'name': 'Texas Rangers', 'price': 1.21}]}]}, {'key': 'bovada', 'title': 'Bovada', 'last_update': '2023-06-06T01:07:55Z', 'markets': [{'key': 'h2h', 'last_update': '2023-06-06T01:07:55Z', 'outcomes': [{'name': 'St. Louis Cardinals', 'price': 3.85}, {'name': 'Texas Rangers', 'price': 1.24}]}]}, {'key': 'fanduel', 'title': 'FanDuel', 'last_update': '2023-06-06T01:07:42Z', 'markets': [{'key': 'h2h', 'last_update': '2023-06-06T01:07:42Z', 'outcomes': [{'name': 'St. Louis Cardinals', 'price': 4.6}, {'name': 'Texas Rangers', 'price': 1.17}]}]}, {'key': 'circasports', 'title': 'Circa Sports', 'last_update': '2023-06-06T01:04:56Z', 'markets': [{'key': 'h2h', 'last_update': '2023-06-06T01:04:56Z', 'outcomes': [{'name': 'St. Louis Cardinals', 'price': 3.84}, {'name': 'Texas Rangers', 'price': 1.28}]}]}, {'key': 'foxbet', 'title': 'FOX Bet', 'last_update': '2023-06-06T01:07:21Z', 'markets': [{'key': 'h2h', 'last_update': '2023-06-06T01:07:21Z', 'outcomes': [{'name': 'St. Louis Cardinals', 'price': 3.6}, {'name': 'Texas Rangers', 'price': 1.25}]}]}, {'key': 'twinspires', 'title': 'TwinSpires', 'last_update': '2023-06-06T01:07:25Z', 'markets': [{'key': 'h2h', 'last_update': '2023-06-06T01:07:25Z', 'outcomes': [{'name': 'St. Louis Cardinals', 'price': 4.4}, {'name': 'Texas Rangers', 'price': 1.21}]}]}, {'key': 'barstool', 'title': 'Barstool Sportsbook', 'last_update': '2023-06-06T01:07:36Z', 'markets': [{'key': 'h2h', 'last_update': '2023-06-06T01:07:36Z', 'outcomes': [{'name': 'St. Louis Cardinals', 'price': 4.4}, {'name': 'Texas Rangers', 'price': 1.21}]}]}, {'key': 'unibet_us', 'title': 'Unibet', 'last_update': '2023-06-06T01:07:51Z', 'markets': [{'key': 'h2h', 'last_update': '2023-06-06T01:07:51Z', 'outcomes': [{'name': 'St. Louis Cardinals', 'price': 4.4}, {'name': 'Texas Rangers', 'price': 1.21}]}]}, {'key': 'pointsbetus', 'title': 'PointsBet (US)', 'last_update': '2023-06-06T01:07:38Z', 'markets': [{'key': 'h2h', 'last_update': '2023-06-06T01:07:38Z', 'outcomes': [{'name': 'St. Louis Cardinals', 'price': 4.1}, {'name': 'Texas Rangers', 'price': 1.22}]}]}, {'key': 'betmgm', 'title': 'BetMGM', 'last_update': '2023-06-06T01:07:12Z', 'markets': [{'key': 'h2h', 'last_update': '2023-06-06T01:07:12Z', 'outcomes': [{'name': 'St. Louis Cardinals', 'price': 4.4}, {'name': 'Texas Rangers', 'price': 1.2}]}]}]}\n",
      "{'id': '5462653ecf598a57eed029d1caacb760', 'sport_key': 'icehockey_nhl', 'sport_title': 'NHL', 'commence_time': '2023-06-06T00:20:51Z', 'home_team': 'Vegas Golden Knights', 'away_team': 'Florida Panthers', 'bookmakers': [{'key': 'draftkings', 'title': 'DraftKings', 'last_update': '2023-06-06T01:07:46Z', 'markets': [{'key': 'h2h', 'last_update': '2023-06-06T01:07:46Z', 'outcomes': [{'name': 'Florida Panthers', 'price': 5.2}, {'name': 'Vegas Golden Knights', 'price': 1.17}]}]}, {'key': 'barstool', 'title': 'Barstool Sportsbook', 'last_update': '2023-06-06T01:07:55Z', 'markets': [{'key': 'h2h', 'last_update': '2023-06-06T01:07:55Z', 'outcomes': [{'name': 'Florida Panthers', 'price': 5.5}, {'name': 'Vegas Golden Knights', 'price': 1.15}]}]}, {'key': 'unibet_us', 'title': 'Unibet', 'last_update': '2023-06-06T01:07:29Z', 'markets': [{'key': 'h2h', 'last_update': '2023-06-06T01:07:29Z', 'outcomes': [{'name': 'Florida Panthers', 'price': 5.5}, {'name': 'Vegas Golden Knights', 'price': 1.15}]}]}, {'key': 'twinspires', 'title': 'TwinSpires', 'last_update': '2023-06-06T01:07:40Z', 'markets': [{'key': 'h2h', 'last_update': '2023-06-06T01:07:40Z', 'outcomes': [{'name': 'Florida Panthers', 'price': 5.5}, {'name': 'Vegas Golden Knights', 'price': 1.15}]}]}, {'key': 'williamhill_us', 'title': 'William Hill (US)', 'last_update': '2023-06-06T01:07:48Z', 'markets': [{'key': 'h2h', 'last_update': '2023-06-06T01:07:48Z', 'outcomes': [{'name': 'Florida Panthers', 'price': 5.0}, {'name': 'Vegas Golden Knights', 'price': 1.17}]}]}, {'key': 'betmgm', 'title': 'BetMGM', 'last_update': '2023-06-06T01:07:29Z', 'markets': [{'key': 'h2h', 'last_update': '2023-06-06T01:07:29Z', 'outcomes': [{'name': 'Florida Panthers', 'price': 5.25}, {'name': 'Vegas Golden Knights', 'price': 1.15}]}]}, {'key': 'bovada', 'title': 'Bovada', 'last_update': '2023-06-06T01:07:24Z', 'markets': [{'key': 'h2h', 'last_update': '2023-06-06T01:07:24Z', 'outcomes': [{'name': 'Florida Panthers', 'price': 5.25}, {'name': 'Vegas Golden Knights', 'price': 1.14}]}]}, {'key': 'mybookieag', 'title': 'MyBookie.ag', 'last_update': '2023-06-06T01:07:39Z', 'markets': [{'key': 'h2h', 'last_update': '2023-06-06T01:07:39Z', 'outcomes': [{'name': 'Florida Panthers', 'price': 5.2}, {'name': 'Vegas Golden Knights', 'price': 1.15}]}]}, {'key': 'circasports', 'title': 'Circa Sports', 'last_update': '2023-06-06T01:07:48Z', 'markets': [{'key': 'h2h', 'last_update': '2023-06-06T01:07:48Z', 'outcomes': [{'name': 'Florida Panthers', 'price': 5.0}, {'name': 'Vegas Golden Knights', 'price': 1.19}]}]}, {'key': 'foxbet', 'title': 'FOX Bet', 'last_update': '2023-06-06T01:07:34Z', 'markets': [{'key': 'h2h', 'last_update': '2023-06-06T01:07:34Z', 'outcomes': [{'name': 'Florida Panthers', 'price': 4.75}, {'name': 'Vegas Golden Knights', 'price': 1.15}]}]}, {'key': 'fanduel', 'title': 'FanDuel', 'last_update': '2023-06-06T01:07:21Z', 'markets': [{'key': 'h2h', 'last_update': '2023-06-06T01:07:21Z', 'outcomes': [{'name': 'Florida Panthers', 'price': 5.0}, {'name': 'Vegas Golden Knights', 'price': 1.16}]}]}, {'key': 'pointsbetus', 'title': 'PointsBet (US)', 'last_update': '2023-06-06T01:07:34Z', 'markets': [{'key': 'h2h', 'last_update': '2023-06-06T01:07:34Z', 'outcomes': [{'name': 'Florida Panthers', 'price': 5.05}, {'name': 'Vegas Golden Knights', 'price': 1.15}]}]}]}\n",
      "{'id': '15d53ffade889d29d59d88a03c4d833e', 'sport_key': 'baseball_ncaa', 'sport_title': 'NCAA Baseball', 'commence_time': '2023-06-06T01:00:00Z', 'home_team': 'Stanford Cardinal', 'away_team': 'Texas A&M Aggies', 'bookmakers': [{'key': 'draftkings', 'title': 'DraftKings', 'last_update': '2023-06-06T01:07:49Z', 'markets': [{'key': 'h2h', 'last_update': '2023-06-06T01:07:49Z', 'outcomes': [{'name': 'Stanford Cardinal', 'price': 1.69}, {'name': 'Texas A&M Aggies', 'price': 2.15}]}]}, {'key': 'bovada', 'title': 'Bovada', 'last_update': '2023-06-06T01:01:03Z', 'markets': [{'key': 'h2h', 'last_update': '2023-06-06T01:01:03Z', 'outcomes': [{'name': 'Stanford Cardinal', 'price': 1.74}, {'name': 'Texas A&M Aggies', 'price': 2.05}]}]}, {'key': 'williamhill_us', 'title': 'William Hill (US)', 'last_update': '2023-06-06T00:58:54Z', 'markets': [{'key': 'h2h', 'last_update': '2023-06-06T00:58:54Z', 'outcomes': [{'name': 'Stanford Cardinal', 'price': 1.71}, {'name': 'Texas A&M Aggies', 'price': 2.1}]}]}, {'key': 'lowvig', 'title': 'LowVig.ag', 'last_update': '2023-06-06T00:58:04Z', 'markets': [{'key': 'h2h', 'last_update': '2023-06-06T00:58:04Z', 'outcomes': [{'name': 'Stanford Cardinal', 'price': 1.71}, {'name': 'Texas A&M Aggies', 'price': 2.1}]}]}, {'key': 'betus', 'title': 'BetUS', 'last_update': '2023-06-06T00:59:52Z', 'markets': [{'key': 'h2h', 'last_update': '2023-06-06T00:59:52Z', 'outcomes': [{'name': 'Stanford Cardinal', 'price': 1.71}, {'name': 'Texas A&M Aggies', 'price': 2.1}]}]}, {'key': 'betmgm', 'title': 'BetMGM', 'last_update': '2023-06-06T01:06:48Z', 'markets': [{'key': 'h2h', 'last_update': '2023-06-06T01:06:48Z', 'outcomes': [{'name': 'Stanford Cardinal', 'price': 1.62}, {'name': 'Texas A&M Aggies', 'price': 2.15}]}]}, {'key': 'twinspires', 'title': 'TwinSpires', 'last_update': '2023-06-06T00:58:52Z', 'markets': [{'key': 'h2h', 'last_update': '2023-06-06T00:58:52Z', 'outcomes': [{'name': 'Stanford Cardinal', 'price': 1.67}, {'name': 'Texas A&M Aggies', 'price': 2.15}]}]}, {'key': 'unibet_us', 'title': 'Unibet', 'last_update': '2023-06-06T00:59:27Z', 'markets': [{'key': 'h2h', 'last_update': '2023-06-06T00:59:27Z', 'outcomes': [{'name': 'Stanford Cardinal', 'price': 1.67}, {'name': 'Texas A&M Aggies', 'price': 2.15}]}]}, {'key': 'barstool', 'title': 'Barstool Sportsbook', 'last_update': '2023-06-06T00:59:41Z', 'markets': [{'key': 'h2h', 'last_update': '2023-06-06T00:59:41Z', 'outcomes': [{'name': 'Stanford Cardinal', 'price': 1.67}, {'name': 'Texas A&M Aggies', 'price': 2.15}]}]}, {'key': 'betrivers', 'title': 'BetRivers', 'last_update': '2023-06-06T00:59:33Z', 'markets': [{'key': 'h2h', 'last_update': '2023-06-06T00:59:33Z', 'outcomes': [{'name': 'Stanford Cardinal', 'price': 1.67}, {'name': 'Texas A&M Aggies', 'price': 2.15}]}]}, {'key': 'fanduel', 'title': 'FanDuel', 'last_update': '2023-06-06T01:07:47Z', 'markets': [{'key': 'h2h', 'last_update': '2023-06-06T01:07:47Z', 'outcomes': [{'name': 'Stanford Cardinal', 'price': 1.65}, {'name': 'Texas A&M Aggies', 'price': 2.16}]}]}, {'key': 'circasports', 'title': 'Circa Sports', 'last_update': '2023-06-06T00:59:58Z', 'markets': [{'key': 'h2h', 'last_update': '2023-06-06T00:59:58Z', 'outcomes': [{'name': 'Stanford Cardinal', 'price': 1.76}, {'name': 'Texas A&M Aggies', 'price': 2.12}]}]}, {'key': 'mybookieag', 'title': 'MyBookie.ag', 'last_update': '2023-06-06T01:06:13Z', 'markets': [{'key': 'h2h', 'last_update': '2023-06-06T01:06:13Z', 'outcomes': [{'name': 'Stanford Cardinal', 'price': 1.68}, {'name': 'Texas A&M Aggies', 'price': 2.06}]}]}]}\n",
      "{'id': 'b06aa211229b107d971a5246d9438be7', 'sport_key': 'baseball_mlb', 'sport_title': 'MLB', 'commence_time': '2023-06-06T01:10:00Z', 'home_team': 'San Diego Padres', 'away_team': 'Chicago Cubs', 'bookmakers': [{'key': 'draftkings', 'title': 'DraftKings', 'last_update': '2023-06-06T01:06:51Z', 'markets': [{'key': 'h2h', 'last_update': '2023-06-06T01:06:51Z', 'outcomes': [{'name': 'Chicago Cubs', 'price': 2.45}, {'name': 'San Diego Padres', 'price': 1.59}]}]}, {'key': 'lowvig', 'title': 'LowVig.ag', 'last_update': '2023-06-06T01:07:49Z', 'markets': [{'key': 'h2h', 'last_update': '2023-06-06T01:07:49Z', 'outcomes': [{'name': 'Chicago Cubs', 'price': 2.5}, {'name': 'San Diego Padres', 'price': 1.61}]}]}, {'key': 'betonlineag', 'title': 'BetOnline.ag', 'last_update': '2023-06-06T01:07:30Z', 'markets': [{'key': 'h2h', 'last_update': '2023-06-06T01:07:30Z', 'outcomes': [{'name': 'Chicago Cubs', 'price': 2.5}, {'name': 'San Diego Padres', 'price': 1.61}]}]}, {'key': 'bovada', 'title': 'Bovada', 'last_update': '2023-06-06T01:07:55Z', 'markets': [{'key': 'h2h', 'last_update': '2023-06-06T01:07:55Z', 'outcomes': [{'name': 'Chicago Cubs', 'price': 2.41}, {'name': 'San Diego Padres', 'price': 1.59}]}]}, {'key': 'williamhill_us', 'title': 'William Hill (US)', 'last_update': '2023-06-06T01:07:44Z', 'markets': [{'key': 'h2h', 'last_update': '2023-06-06T01:07:44Z', 'outcomes': [{'name': 'Chicago Cubs', 'price': 2.43}, {'name': 'San Diego Padres', 'price': 1.59}]}]}, {'key': 'wynnbet', 'title': 'WynnBET', 'last_update': '2023-06-06T01:06:40Z', 'markets': [{'key': 'h2h', 'last_update': '2023-06-06T01:06:40Z', 'outcomes': [{'name': 'Chicago Cubs', 'price': 2.52}, {'name': 'San Diego Padres', 'price': 1.6}]}]}, {'key': 'fanduel', 'title': 'FanDuel', 'last_update': '2023-06-06T01:07:42Z', 'markets': [{'key': 'h2h', 'last_update': '2023-06-06T01:07:42Z', 'outcomes': [{'name': 'Chicago Cubs', 'price': 2.44}, {'name': 'San Diego Padres', 'price': 1.58}]}]}, {'key': 'betus', 'title': 'BetUS', 'last_update': '2023-06-06T01:07:40Z', 'markets': [{'key': 'h2h', 'last_update': '2023-06-06T01:07:40Z', 'outcomes': [{'name': 'Chicago Cubs', 'price': 2.45}, {'name': 'San Diego Padres', 'price': 1.61}]}]}, {'key': 'circasports', 'title': 'Circa Sports', 'last_update': '2023-06-06T01:07:43Z', 'markets': [{'key': 'h2h', 'last_update': '2023-06-06T01:07:43Z', 'outcomes': [{'name': 'Chicago Cubs', 'price': 2.38}, {'name': 'San Diego Padres', 'price': 1.61}]}]}, {'key': 'superbook', 'title': 'SuperBook', 'last_update': '2023-06-06T01:07:27Z', 'markets': [{'key': 'h2h', 'last_update': '2023-06-06T01:07:27Z', 'outcomes': [{'name': 'Chicago Cubs', 'price': 2.43}, {'name': 'San Diego Padres', 'price': 1.6}]}]}, {'key': 'twinspires', 'title': 'TwinSpires', 'last_update': '2023-06-06T01:07:25Z', 'markets': [{'key': 'h2h', 'last_update': '2023-06-06T01:07:25Z', 'outcomes': [{'name': 'Chicago Cubs', 'price': 2.45}, {'name': 'San Diego Padres', 'price': 1.57}]}]}, {'key': 'barstool', 'title': 'Barstool Sportsbook', 'last_update': '2023-06-06T01:07:36Z', 'markets': [{'key': 'h2h', 'last_update': '2023-06-06T01:07:36Z', 'outcomes': [{'name': 'Chicago Cubs', 'price': 2.45}, {'name': 'San Diego Padres', 'price': 1.57}]}]}, {'key': 'unibet_us', 'title': 'Unibet', 'last_update': '2023-06-06T01:07:51Z', 'markets': [{'key': 'h2h', 'last_update': '2023-06-06T01:07:51Z', 'outcomes': [{'name': 'Chicago Cubs', 'price': 2.45}, {'name': 'San Diego Padres', 'price': 1.57}]}]}, {'key': 'betrivers', 'title': 'BetRivers', 'last_update': '2023-06-06T01:07:28Z', 'markets': [{'key': 'h2h', 'last_update': '2023-06-06T01:07:28Z', 'outcomes': [{'name': 'Chicago Cubs', 'price': 2.48}, {'name': 'San Diego Padres', 'price': 1.6}]}]}, {'key': 'betmgm', 'title': 'BetMGM', 'last_update': '2023-06-06T01:07:12Z', 'markets': [{'key': 'h2h', 'last_update': '2023-06-06T01:07:12Z', 'outcomes': [{'name': 'Chicago Cubs', 'price': 2.45}, {'name': 'San Diego Padres', 'price': 1.57}]}]}, {'key': 'foxbet', 'title': 'FOX Bet', 'last_update': '2023-06-06T01:07:21Z', 'markets': [{'key': 'h2h', 'last_update': '2023-06-06T01:07:21Z', 'outcomes': [{'name': 'Chicago Cubs', 'price': 2.38}, {'name': 'San Diego Padres', 'price': 1.55}]}]}, {'key': 'pointsbetus', 'title': 'PointsBet (US)', 'last_update': '2023-06-06T01:07:38Z', 'markets': [{'key': 'h2h', 'last_update': '2023-06-06T01:07:38Z', 'outcomes': [{'name': 'Chicago Cubs', 'price': 2.45}, {'name': 'San Diego Padres', 'price': 1.57}]}]}]}\n",
      "{'id': 'a0ed2a3568aea5e491139b72b0e1a1a9', 'sport_key': 'soccer_korea_kleague1', 'sport_title': 'K League 1', 'commence_time': '2023-06-06T07:30:00Z', 'home_team': 'Suwon FC', 'away_team': 'Ulsan Hyundai FC', 'bookmakers': [{'key': 'mybookieag', 'title': 'MyBookie.ag', 'last_update': '2023-06-06T01:06:19Z', 'markets': [{'key': 'h2h', 'last_update': '2023-06-06T01:06:19Z', 'outcomes': [{'name': 'Suwon FC', 'price': 5.2}, {'name': 'Ulsan Hyundai FC', 'price': 1.55}, {'name': 'Draw', 'price': 4.4}]}]}, {'key': 'williamhill_us', 'title': 'William Hill (US)', 'last_update': '2023-06-06T01:06:55Z', 'markets': [{'key': 'h2h', 'last_update': '2023-06-06T01:06:55Z', 'outcomes': [{'name': 'Suwon FC', 'price': 5.3}, {'name': 'Ulsan Hyundai FC', 'price': 1.53}, {'name': 'Draw', 'price': 4.05}]}]}, {'key': 'foxbet', 'title': 'FOX Bet', 'last_update': '2023-06-06T01:06:51Z', 'markets': [{'key': 'h2h', 'last_update': '2023-06-06T01:06:51Z', 'outcomes': [{'name': 'Suwon FC', 'price': 5.25}, {'name': 'Ulsan Hyundai FC', 'price': 1.53}, {'name': 'Draw', 'price': 4.33}]}]}, {'key': 'bovada', 'title': 'Bovada', 'last_update': '2023-06-06T01:06:40Z', 'markets': [{'key': 'h2h', 'last_update': '2023-06-06T01:06:40Z', 'outcomes': [{'name': 'Suwon FC', 'price': 5.2}, {'name': 'Ulsan Hyundai FC', 'price': 1.57}, {'name': 'Draw', 'price': 4.2}]}]}, {'key': 'betmgm', 'title': 'BetMGM', 'last_update': '2023-06-06T01:06:09Z', 'markets': [{'key': 'h2h', 'last_update': '2023-06-06T01:06:09Z', 'outcomes': [{'name': 'Suwon FC', 'price': 5.0}, {'name': 'Ulsan Hyundai FC', 'price': 1.57}, {'name': 'Draw', 'price': 4.2}]}]}, {'key': 'lowvig', 'title': 'LowVig.ag', 'last_update': '2023-06-06T01:07:22Z', 'markets': [{'key': 'h2h', 'last_update': '2023-06-06T01:07:22Z', 'outcomes': [{'name': 'Suwon FC', 'price': 4.95}, {'name': 'Ulsan Hyundai FC', 'price': 1.54}, {'name': 'Draw', 'price': 4.35}]}]}, {'key': 'betonlineag', 'title': 'BetOnline.ag', 'last_update': '2023-06-06T01:06:31Z', 'markets': [{'key': 'h2h', 'last_update': '2023-06-06T01:06:31Z', 'outcomes': [{'name': 'Suwon FC', 'price': 5.2}, {'name': 'Ulsan Hyundai FC', 'price': 1.52}, {'name': 'Draw', 'price': 4.4}]}]}, {'key': 'draftkings', 'title': 'DraftKings', 'last_update': '2023-06-06T01:07:38Z', 'markets': [{'key': 'h2h', 'last_update': '2023-06-06T01:07:38Z', 'outcomes': [{'name': 'Suwon FC', 'price': 5.5}, {'name': 'Ulsan Hyundai FC', 'price': 1.54}, {'name': 'Draw', 'price': 4.5}]}]}, {'key': 'betus', 'title': 'BetUS', 'last_update': '2023-06-06T01:05:57Z', 'markets': [{'key': 'h2h', 'last_update': '2023-06-06T01:05:57Z', 'outcomes': [{'name': 'Suwon FC', 'price': 5.25}, {'name': 'Ulsan Hyundai FC', 'price': 1.54}, {'name': 'Draw', 'price': 4.4}]}]}]}\n",
      "{'id': 'ea3c13931d9b63c07a78f1252fbb327b', 'sport_key': 'tennis_wta_french_open', 'sport_title': 'WTA French Open', 'commence_time': '2023-06-06T09:00:00Z', 'home_team': 'Karolina Muchova', 'away_team': 'Anastasia Pavlyuchenkova', 'bookmakers': [{'key': 'barstool', 'title': 'Barstool Sportsbook', 'last_update': '2023-06-06T01:06:37Z', 'markets': [{'key': 'h2h', 'last_update': '2023-06-06T01:06:37Z', 'outcomes': [{'name': 'Anastasia Pavlyuchenkova', 'price': 2.43}, {'name': 'Karolina Muchova', 'price': 1.57}]}]}, {'key': 'foxbet', 'title': 'FOX Bet', 'last_update': '2023-06-06T01:07:40Z', 'markets': [{'key': 'h2h', 'last_update': '2023-06-06T01:07:40Z', 'outcomes': [{'name': 'Anastasia Pavlyuchenkova', 'price': 2.35}, {'name': 'Karolina Muchova', 'price': 1.55}]}]}, {'key': 'draftkings', 'title': 'DraftKings', 'last_update': '2023-06-06T01:06:45Z', 'markets': [{'key': 'h2h', 'last_update': '2023-06-06T01:06:45Z', 'outcomes': [{'name': 'Anastasia Pavlyuchenkova', 'price': 2.45}, {'name': 'Karolina Muchova', 'price': 1.56}]}]}, {'key': 'betrivers', 'title': 'BetRivers', 'last_update': '2023-06-06T01:06:56Z', 'markets': [{'key': 'h2h', 'last_update': '2023-06-06T01:06:56Z', 'outcomes': [{'name': 'Anastasia Pavlyuchenkova', 'price': 2.43}, {'name': 'Karolina Muchova', 'price': 1.57}]}]}, {'key': 'unibet_us', 'title': 'Unibet', 'last_update': '2023-06-06T01:07:12Z', 'markets': [{'key': 'h2h', 'last_update': '2023-06-06T01:07:12Z', 'outcomes': [{'name': 'Anastasia Pavlyuchenkova', 'price': 2.43}, {'name': 'Karolina Muchova', 'price': 1.57}]}]}, {'key': 'mybookieag', 'title': 'MyBookie.ag', 'last_update': '2023-06-06T01:07:26Z', 'markets': [{'key': 'h2h', 'last_update': '2023-06-06T01:07:26Z', 'outcomes': [{'name': 'Anastasia Pavlyuchenkova', 'price': 2.37}, {'name': 'Karolina Muchova', 'price': 1.57}]}]}, {'key': 'twinspires', 'title': 'TwinSpires', 'last_update': '2023-06-06T01:07:06Z', 'markets': [{'key': 'h2h', 'last_update': '2023-06-06T01:07:06Z', 'outcomes': [{'name': 'Anastasia Pavlyuchenkova', 'price': 2.43}, {'name': 'Karolina Muchova', 'price': 1.57}]}]}, {'key': 'betmgm', 'title': 'BetMGM', 'last_update': '2023-06-06T01:07:13Z', 'markets': [{'key': 'h2h', 'last_update': '2023-06-06T01:07:13Z', 'outcomes': [{'name': 'Anastasia Pavlyuchenkova', 'price': 2.45}, {'name': 'Karolina Muchova', 'price': 1.54}]}]}, {'key': 'lowvig', 'title': 'LowVig.ag', 'last_update': '2023-06-06T01:07:15Z', 'markets': [{'key': 'h2h', 'last_update': '2023-06-06T01:07:15Z', 'outcomes': [{'name': 'Anastasia Pavlyuchenkova', 'price': 2.55}, {'name': 'Karolina Muchova', 'price': 1.57}]}]}, {'key': 'betonlineag', 'title': 'BetOnline.ag', 'last_update': '2023-06-06T01:06:42Z', 'markets': [{'key': 'h2h', 'last_update': '2023-06-06T01:06:42Z', 'outcomes': [{'name': 'Anastasia Pavlyuchenkova', 'price': 2.55}, {'name': 'Karolina Muchova', 'price': 1.57}]}]}, {'key': 'fanduel', 'title': 'FanDuel', 'last_update': '2023-06-06T01:06:43Z', 'markets': [{'key': 'h2h', 'last_update': '2023-06-06T01:06:43Z', 'outcomes': [{'name': 'Anastasia Pavlyuchenkova', 'price': 2.42}, {'name': 'Karolina Muchova', 'price': 1.58}]}]}]}\n",
      "{'id': '7b4577d4e2a27300c2e4e89a7c8178b2', 'sport_key': 'soccer_korea_kleague1', 'sport_title': 'K League 1', 'commence_time': '2023-06-06T09:00:00Z', 'home_team': 'Pohang Steelers', 'away_team': 'Jeju United FC', 'bookmakers': [{'key': 'williamhill_us', 'title': 'William Hill (US)', 'last_update': '2023-06-06T01:06:55Z', 'markets': [{'key': 'h2h', 'last_update': '2023-06-06T01:06:55Z', 'outcomes': [{'name': 'Jeju United FC', 'price': 3.7}, {'name': 'Pohang Steelers', 'price': 1.97}, {'name': 'Draw', 'price': 3.2}]}]}, {'key': 'mybookieag', 'title': 'MyBookie.ag', 'last_update': '2023-06-06T01:06:19Z', 'markets': [{'key': 'h2h', 'last_update': '2023-06-06T01:06:19Z', 'outcomes': [{'name': 'Jeju United FC', 'price': 3.55}, {'name': 'Pohang Steelers', 'price': 2.08}, {'name': 'Draw', 'price': 3.35}]}]}, {'key': 'bovada', 'title': 'Bovada', 'last_update': '2023-06-06T01:06:40Z', 'markets': [{'key': 'h2h', 'last_update': '2023-06-06T01:06:40Z', 'outcomes': [{'name': 'Jeju United FC', 'price': 3.55}, {'name': 'Pohang Steelers', 'price': 2.1}, {'name': 'Draw', 'price': 3.25}]}]}, {'key': 'foxbet', 'title': 'FOX Bet', 'last_update': '2023-06-06T01:06:51Z', 'markets': [{'key': 'h2h', 'last_update': '2023-06-06T01:06:51Z', 'outcomes': [{'name': 'Jeju United FC', 'price': 3.6}, {'name': 'Pohang Steelers', 'price': 2.05}, {'name': 'Draw', 'price': 3.25}]}]}, {'key': 'betmgm', 'title': 'BetMGM', 'last_update': '2023-06-06T01:06:09Z', 'markets': [{'key': 'h2h', 'last_update': '2023-06-06T01:06:09Z', 'outcomes': [{'name': 'Jeju United FC', 'price': 3.6}, {'name': 'Pohang Steelers', 'price': 2.05}, {'name': 'Draw', 'price': 3.3}]}]}, {'key': 'draftkings', 'title': 'DraftKings', 'last_update': '2023-06-06T01:07:38Z', 'markets': [{'key': 'h2h', 'last_update': '2023-06-06T01:07:38Z', 'outcomes': [{'name': 'Jeju United FC', 'price': 3.6}, {'name': 'Pohang Steelers', 'price': 2.1}, {'name': 'Draw', 'price': 3.4}]}]}, {'key': 'betus', 'title': 'BetUS', 'last_update': '2023-06-06T01:05:57Z', 'markets': [{'key': 'h2h', 'last_update': '2023-06-06T01:05:57Z', 'outcomes': [{'name': 'Jeju United FC', 'price': 3.55}, {'name': 'Pohang Steelers', 'price': 2.05}, {'name': 'Draw', 'price': 3.35}]}]}]}\n",
      "{'id': '40f1cdad0dc30150a16e605b846e9b3b', 'sport_key': 'tennis_wta_french_open', 'sport_title': 'WTA French Open', 'commence_time': '2023-06-06T10:30:00Z', 'home_team': 'Elina Svitolina', 'away_team': 'Aryna Sabalenka', 'bookmakers': [{'key': 'barstool', 'title': 'Barstool Sportsbook', 'last_update': '2023-06-06T01:06:37Z', 'markets': [{'key': 'h2h', 'last_update': '2023-06-06T01:06:37Z', 'outcomes': [{'name': 'Aryna Sabalenka', 'price': 1.22}, {'name': 'Elina Svitolina', 'price': 4.5}]}]}, {'key': 'betrivers', 'title': 'BetRivers', 'last_update': '2023-06-06T01:06:56Z', 'markets': [{'key': 'h2h', 'last_update': '2023-06-06T01:06:56Z', 'outcomes': [{'name': 'Aryna Sabalenka', 'price': 1.22}, {'name': 'Elina Svitolina', 'price': 4.5}]}]}, {'key': 'draftkings', 'title': 'DraftKings', 'last_update': '2023-06-06T01:06:45Z', 'markets': [{'key': 'h2h', 'last_update': '2023-06-06T01:06:45Z', 'outcomes': [{'name': 'Aryna Sabalenka', 'price': 1.22}, {'name': 'Elina Svitolina', 'price': 4.4}]}]}, {'key': 'twinspires', 'title': 'TwinSpires', 'last_update': '2023-06-06T01:07:06Z', 'markets': [{'key': 'h2h', 'last_update': '2023-06-06T01:07:06Z', 'outcomes': [{'name': 'Aryna Sabalenka', 'price': 1.22}, {'name': 'Elina Svitolina', 'price': 4.5}]}]}, {'key': 'foxbet', 'title': 'FOX Bet', 'last_update': '2023-06-06T01:07:40Z', 'markets': [{'key': 'h2h', 'last_update': '2023-06-06T01:07:40Z', 'outcomes': [{'name': 'Aryna Sabalenka', 'price': 1.22}, {'name': 'Elina Svitolina', 'price': 4.0}]}]}, {'key': 'betmgm', 'title': 'BetMGM', 'last_update': '2023-06-06T01:07:13Z', 'markets': [{'key': 'h2h', 'last_update': '2023-06-06T01:07:13Z', 'outcomes': [{'name': 'Aryna Sabalenka', 'price': 1.2}, {'name': 'Elina Svitolina', 'price': 4.6}]}]}, {'key': 'unibet_us', 'title': 'Unibet', 'last_update': '2023-06-06T01:07:12Z', 'markets': [{'key': 'h2h', 'last_update': '2023-06-06T01:07:12Z', 'outcomes': [{'name': 'Aryna Sabalenka', 'price': 1.22}, {'name': 'Elina Svitolina', 'price': 4.5}]}]}, {'key': 'mybookieag', 'title': 'MyBookie.ag', 'last_update': '2023-06-06T01:07:26Z', 'markets': [{'key': 'h2h', 'last_update': '2023-06-06T01:07:26Z', 'outcomes': [{'name': 'Aryna Sabalenka', 'price': 1.21}, {'name': 'Elina Svitolina', 'price': 4.3}]}]}, {'key': 'fanduel', 'title': 'FanDuel', 'last_update': '2023-06-06T01:06:43Z', 'markets': [{'key': 'h2h', 'last_update': '2023-06-06T01:06:43Z', 'outcomes': [{'name': 'Aryna Sabalenka', 'price': 1.22}, {'name': 'Elina Svitolina', 'price': 4.65}]}]}, {'key': 'betonlineag', 'title': 'BetOnline.ag', 'last_update': '2023-06-06T01:06:42Z', 'markets': [{'key': 'h2h', 'last_update': '2023-06-06T01:06:42Z', 'outcomes': [{'name': 'Aryna Sabalenka', 'price': 1.22}, {'name': 'Elina Svitolina', 'price': 4.57}]}]}, {'key': 'lowvig', 'title': 'LowVig.ag', 'last_update': '2023-06-06T01:07:15Z', 'markets': [{'key': 'h2h', 'last_update': '2023-06-06T01:07:15Z', 'outcomes': [{'name': 'Aryna Sabalenka', 'price': 1.22}, {'name': 'Elina Svitolina', 'price': 4.57}]}]}]}\n",
      "{'id': 'd6f7a1f5fdacb7cc0f038f2c1277a81b', 'sport_key': 'tennis_atp_french_open', 'sport_title': 'ATP French Open', 'commence_time': '2023-06-06T11:45:00Z', 'home_team': 'Novak Djokovic', 'away_team': 'Karen Khachanov', 'bookmakers': [{'key': 'mybookieag', 'title': 'MyBookie.ag', 'last_update': '2023-06-06T01:07:48Z', 'markets': [{'key': 'h2h', 'last_update': '2023-06-06T01:07:47Z', 'outcomes': [{'name': 'Karen Khachanov', 'price': 7.9}, {'name': 'Novak Djokovic', 'price': 1.07}]}]}, {'key': 'unibet_us', 'title': 'Unibet', 'last_update': '2023-06-06T01:06:37Z', 'markets': [{'key': 'h2h', 'last_update': '2023-06-06T01:06:37Z', 'outcomes': [{'name': 'Karen Khachanov', 'price': 8.0}, {'name': 'Novak Djokovic', 'price': 1.09}]}]}, {'key': 'barstool', 'title': 'Barstool Sportsbook', 'last_update': '2023-06-06T01:07:16Z', 'markets': [{'key': 'h2h', 'last_update': '2023-06-06T01:07:16Z', 'outcomes': [{'name': 'Karen Khachanov', 'price': 8.0}, {'name': 'Novak Djokovic', 'price': 1.09}]}]}, {'key': 'foxbet', 'title': 'FOX Bet', 'last_update': '2023-06-06T01:07:25Z', 'markets': [{'key': 'h2h', 'last_update': '2023-06-06T01:07:25Z', 'outcomes': [{'name': 'Karen Khachanov', 'price': 7.0}, {'name': 'Novak Djokovic', 'price': 1.08}]}]}, {'key': 'draftkings', 'title': 'DraftKings', 'last_update': '2023-06-06T01:07:32Z', 'markets': [{'key': 'h2h', 'last_update': '2023-06-06T01:07:32Z', 'outcomes': [{'name': 'Karen Khachanov', 'price': 8.0}, {'name': 'Novak Djokovic', 'price': 1.09}]}]}, {'key': 'betrivers', 'title': 'BetRivers', 'last_update': '2023-06-06T01:06:03Z', 'markets': [{'key': 'h2h', 'last_update': '2023-06-06T01:06:03Z', 'outcomes': [{'name': 'Karen Khachanov', 'price': 8.0}, {'name': 'Novak Djokovic', 'price': 1.09}]}]}, {'key': 'twinspires', 'title': 'TwinSpires', 'last_update': '2023-06-06T01:07:33Z', 'markets': [{'key': 'h2h', 'last_update': '2023-06-06T01:07:33Z', 'outcomes': [{'name': 'Karen Khachanov', 'price': 8.0}, {'name': 'Novak Djokovic', 'price': 1.09}]}]}, {'key': 'lowvig', 'title': 'LowVig.ag', 'last_update': '2023-06-06T01:06:12Z', 'markets': [{'key': 'h2h', 'last_update': '2023-06-06T01:06:12Z', 'outcomes': [{'name': 'Karen Khachanov', 'price': 9.25}, {'name': 'Novak Djokovic', 'price': 1.07}]}]}, {'key': 'betonlineag', 'title': 'BetOnline.ag', 'last_update': '2023-06-06T01:06:14Z', 'markets': [{'key': 'h2h', 'last_update': '2023-06-06T01:06:14Z', 'outcomes': [{'name': 'Karen Khachanov', 'price': 9.25}, {'name': 'Novak Djokovic', 'price': 1.07}]}]}, {'key': 'betmgm', 'title': 'BetMGM', 'last_update': '2023-06-06T01:06:20Z', 'markets': [{'key': 'h2h', 'last_update': '2023-06-06T01:06:20Z', 'outcomes': [{'name': 'Karen Khachanov', 'price': 8.0}, {'name': 'Novak Djokovic', 'price': 1.08}]}]}, {'key': 'fanduel', 'title': 'FanDuel', 'last_update': '2023-06-06T01:07:28Z', 'markets': [{'key': 'h2h', 'last_update': '2023-06-06T01:07:27Z', 'outcomes': [{'name': 'Karen Khachanov', 'price': 9.6}, {'name': 'Novak Djokovic', 'price': 1.06}]}]}]}\n",
      "{'id': 'e4b82750152fc0134388bea926e6b592', 'sport_key': 'cricket_odi', 'sport_title': 'One Day Internationals', 'commence_time': '2023-06-06T12:30:00Z', 'home_team': 'United Arab Emirates', 'away_team': 'West Indies', 'bookmakers': [{'key': 'draftkings', 'title': 'DraftKings', 'last_update': '2023-06-06T01:06:25Z', 'markets': [{'key': 'h2h', 'last_update': '2023-06-06T01:06:25Z', 'outcomes': [{'name': 'United Arab Emirates', 'price': 4.9}, {'name': 'West Indies', 'price': 1.17}]}]}, {'key': 'unibet_us', 'title': 'Unibet', 'last_update': '2023-06-06T01:07:40Z', 'markets': [{'key': 'h2h', 'last_update': '2023-06-06T01:07:40Z', 'outcomes': [{'name': 'United Arab Emirates', 'price': 4.75}, {'name': 'West Indies', 'price': 1.17}]}]}]}\n",
      "{'id': '6c091a7e1cf9a96582884af66dc5b7fd', 'sport_key': 'soccer_sweden_superettan', 'sport_title': 'Superettan - Sweden', 'commence_time': '2023-06-06T13:00:00Z', 'home_team': 'GIF Sundsvall', 'away_team': 'GAIS', 'bookmakers': [{'key': 'fanduel', 'title': 'FanDuel', 'last_update': '2023-06-06T01:06:29Z', 'markets': [{'key': 'h2h', 'last_update': '2023-06-06T01:06:29Z', 'outcomes': [{'name': 'GAIS', 'price': 1.83}, {'name': 'GIF Sundsvall', 'price': 3.8}, {'name': 'Draw', 'price': 3.5}]}]}, {'key': 'bovada', 'title': 'Bovada', 'last_update': '2023-06-06T01:06:05Z', 'markets': [{'key': 'h2h', 'last_update': '2023-06-06T01:06:05Z', 'outcomes': [{'name': 'GAIS', 'price': 1.95}, {'name': 'GIF Sundsvall', 'price': 3.5}, {'name': 'Draw', 'price': 3.45}]}]}, {'key': 'foxbet', 'title': 'FOX Bet', 'last_update': '2023-06-06T01:06:03Z', 'markets': [{'key': 'h2h', 'last_update': '2023-06-06T01:06:03Z', 'outcomes': [{'name': 'GAIS', 'price': 1.9}, {'name': 'GIF Sundsvall', 'price': 3.25}, {'name': 'Draw', 'price': 3.3}]}]}, {'key': 'mybookieag', 'title': 'MyBookie.ag', 'last_update': '2023-06-06T01:06:05Z', 'markets': [{'key': 'h2h', 'last_update': '2023-06-06T01:06:05Z', 'outcomes': [{'name': 'GAIS', 'price': 1.98}, {'name': 'GIF Sundsvall', 'price': 3.6}, {'name': 'Draw', 'price': 3.65}]}]}, {'key': 'williamhill_us', 'title': 'William Hill (US)', 'last_update': '2023-06-06T01:06:29Z', 'markets': [{'key': 'h2h', 'last_update': '2023-06-06T01:06:29Z', 'outcomes': [{'name': 'GAIS', 'price': 1.9}, {'name': 'GIF Sundsvall', 'price': 3.6}, {'name': 'Draw', 'price': 3.3}]}]}, {'key': 'betus', 'title': 'BetUS', 'last_update': '2023-06-06T01:06:47Z', 'markets': [{'key': 'h2h', 'last_update': '2023-06-06T01:06:47Z', 'outcomes': [{'name': 'GAIS', 'price': 1.91}, {'name': 'GIF Sundsvall', 'price': 3.7}, {'name': 'Draw', 'price': 3.55}]}]}, {'key': 'lowvig', 'title': 'LowVig.ag', 'last_update': '2023-06-06T01:06:52Z', 'markets': [{'key': 'h2h', 'last_update': '2023-06-06T01:06:52Z', 'outcomes': [{'name': 'GAIS', 'price': 1.93}, {'name': 'GIF Sundsvall', 'price': 3.4}, {'name': 'Draw', 'price': 3.55}]}]}, {'key': 'betonlineag', 'title': 'BetOnline.ag', 'last_update': '2023-06-06T01:07:05Z', 'markets': [{'key': 'h2h', 'last_update': '2023-06-06T01:07:05Z', 'outcomes': [{'name': 'GAIS', 'price': 1.93}, {'name': 'GIF Sundsvall', 'price': 3.4}, {'name': 'Draw', 'price': 3.55}]}]}]}\n"
     ]
    }
   ],
   "source": [
    "events = []  # Create an empty list to store events\n",
    "\n",
    "for data in odds_response:\n",
    "    events.append(Event(data))  # Create an Event object for each data item and add it to the events list\n",
    "    print(data) \n",
    "\n",
    "arbitrage_events = []  # Create an empty list to store arbitrage events\n",
    "\n",
    "for event in events:\n",
    "    best_odds = event.find_best_odds()  # Find the best odds for the event\n",
    "    if event.arbitrage():  # Check if the event presents an arbitrage opportunity\n",
    "        arbitrage_events.append(event)  # If so, add the event to the arbitrage_events list\n",
    "\n",
    "for event in arbitrage_events:\n",
    "    event.calculate_arbitrage_bets()  # Calculate the bet amounts for the event's arbitrage bets\n",
    "    event.convert_decimal_to_american()  # Convert the decimal odds to American odds\n",
    "\n"
   ]
  },
  {
   "cell_type": "code",
   "execution_count": 65,
   "id": "66966930",
   "metadata": {},
   "outputs": [
    {
     "name": "stdout",
     "output_type": "stream",
     "text": [
      "{'id': '51202dd62c556f420b6904eec64aba66', 'sport_key': 'baseball_mlb', 'sport_title': 'MLB', 'commence_time': '2023-06-05T23:05:00Z', 'home_team': 'Pittsburgh Pirates', 'away_team': 'Oakland Athletics', 'bookmakers': [{'key': 'draftkings', 'title': 'DraftKings', 'last_update': '2023-06-06T01:06:51Z', 'markets': [{'key': 'h2h', 'last_update': '2023-06-06T01:06:51Z', 'outcomes': [{'name': 'Oakland Athletics', 'price': 1.51}, {'name': 'Pittsburgh Pirates', 'price': 2.6}]}]}, {'key': 'bovada', 'title': 'Bovada', 'last_update': '2023-06-06T01:07:55Z', 'markets': [{'key': 'h2h', 'last_update': '2023-06-06T01:07:55Z', 'outcomes': [{'name': 'Oakland Athletics', 'price': 1.54}, {'name': 'Pittsburgh Pirates', 'price': 2.4}]}]}, {'key': 'fanduel', 'title': 'FanDuel', 'last_update': '2023-06-06T01:07:42Z', 'markets': [{'key': 'h2h', 'last_update': '2023-06-06T01:07:42Z', 'outcomes': [{'name': 'Oakland Athletics', 'price': 1.43}, {'name': 'Pittsburgh Pirates', 'price': 2.8}]}]}, {'key': 'circasports', 'title': 'Circa Sports', 'last_update': '2023-06-06T01:05:37Z', 'markets': [{'key': 'h2h', 'last_update': '2023-06-06T01:05:37Z', 'outcomes': [{'name': 'Oakland Athletics', 'price': 1.57}, {'name': 'Pittsburgh Pirates', 'price': 2.46}]}]}, {'key': 'foxbet', 'title': 'FOX Bet', 'last_update': '2023-06-06T01:07:21Z', 'markets': [{'key': 'h2h', 'last_update': '2023-06-06T01:07:21Z', 'outcomes': [{'name': 'Oakland Athletics', 'price': 1.5}, {'name': 'Pittsburgh Pirates', 'price': 2.4}]}]}, {'key': 'pointsbetus', 'title': 'PointsBet (US)', 'last_update': '2023-06-06T01:07:38Z', 'markets': [{'key': 'h2h', 'last_update': '2023-06-06T01:07:38Z', 'outcomes': [{'name': 'Oakland Athletics', 'price': 1.42}, {'name': 'Pittsburgh Pirates', 'price': 2.75}]}]}, {'key': 'betmgm', 'title': 'BetMGM', 'last_update': '2023-06-06T01:07:12Z', 'markets': [{'key': 'h2h', 'last_update': '2023-06-06T01:07:12Z', 'outcomes': [{'name': 'Oakland Athletics', 'price': 1.44}, {'name': 'Pittsburgh Pirates', 'price': 2.75}]}]}, {'key': 'barstool', 'title': 'Barstool Sportsbook', 'last_update': '2023-06-06T01:07:36Z', 'markets': [{'key': 'h2h', 'last_update': '2023-06-06T01:07:36Z', 'outcomes': [{'name': 'Oakland Athletics', 'price': 1.48}, {'name': 'Pittsburgh Pirates', 'price': 2.5}]}]}, {'key': 'unibet_us', 'title': 'Unibet', 'last_update': '2023-06-06T01:07:51Z', 'markets': [{'key': 'h2h', 'last_update': '2023-06-06T01:07:51Z', 'outcomes': [{'name': 'Oakland Athletics', 'price': 1.44}, {'name': 'Pittsburgh Pirates', 'price': 2.75}]}]}, {'key': 'twinspires', 'title': 'TwinSpires', 'last_update': '2023-06-06T01:07:25Z', 'markets': [{'key': 'h2h', 'last_update': '2023-06-06T01:07:25Z', 'outcomes': [{'name': 'Oakland Athletics', 'price': 1.44}, {'name': 'Pittsburgh Pirates', 'price': 2.6}]}]}]}\n",
      "{'id': 'b5a4f594a43084f31641442355e7512f', 'sport_key': 'baseball_mlb', 'sport_title': 'MLB', 'commence_time': '2023-06-05T23:10:00Z', 'home_team': 'Cincinnati Reds', 'away_team': 'Milwaukee Brewers', 'bookmakers': [{'key': 'draftkings', 'title': 'DraftKings', 'last_update': '2023-06-06T01:06:51Z', 'markets': [{'key': 'h2h', 'last_update': '2023-06-06T01:06:51Z', 'outcomes': [{'name': 'Cincinnati Reds', 'price': 1.15}, {'name': 'Milwaukee Brewers', 'price': 5.6}]}]}, {'key': 'bovada', 'title': 'Bovada', 'last_update': '2023-06-06T01:07:55Z', 'markets': [{'key': 'h2h', 'last_update': '2023-06-06T01:07:55Z', 'outcomes': [{'name': 'Cincinnati Reds', 'price': 1.13}, {'name': 'Milwaukee Brewers', 'price': 5.5}]}]}, {'key': 'fanduel', 'title': 'FanDuel', 'last_update': '2023-06-06T01:07:42Z', 'markets': [{'key': 'h2h', 'last_update': '2023-06-06T01:07:42Z', 'outcomes': [{'name': 'Cincinnati Reds', 'price': 1.11}, {'name': 'Milwaukee Brewers', 'price': 6.4}]}]}, {'key': 'circasports', 'title': 'Circa Sports', 'last_update': '2023-06-06T01:06:19Z', 'markets': [{'key': 'h2h', 'last_update': '2023-06-06T01:06:19Z', 'outcomes': [{'name': 'Cincinnati Reds', 'price': 1.13}, {'name': 'Milwaukee Brewers', 'price': 6.25}]}]}, {'key': 'foxbet', 'title': 'FOX Bet', 'last_update': '2023-06-06T01:07:21Z', 'markets': [{'key': 'h2h', 'last_update': '2023-06-06T01:07:21Z', 'outcomes': [{'name': 'Cincinnati Reds', 'price': 1.12}, {'name': 'Milwaukee Brewers', 'price': 5.25}]}]}, {'key': 'pointsbetus', 'title': 'PointsBet (US)', 'last_update': '2023-06-06T01:07:38Z', 'markets': [{'key': 'h2h', 'last_update': '2023-06-06T01:07:38Z', 'outcomes': [{'name': 'Cincinnati Reds', 'price': 1.2}, {'name': 'Milwaukee Brewers', 'price': 4.3}]}]}, {'key': 'twinspires', 'title': 'TwinSpires', 'last_update': '2023-06-06T01:07:25Z', 'markets': [{'key': 'h2h', 'last_update': '2023-06-06T01:07:25Z', 'outcomes': [{'name': 'Cincinnati Reds', 'price': 1.19}, {'name': 'Milwaukee Brewers', 'price': 4.6}]}]}, {'key': 'barstool', 'title': 'Barstool Sportsbook', 'last_update': '2023-06-06T01:07:36Z', 'markets': [{'key': 'h2h', 'last_update': '2023-06-06T01:07:36Z', 'outcomes': [{'name': 'Cincinnati Reds', 'price': 1.19}, {'name': 'Milwaukee Brewers', 'price': 4.6}]}]}, {'key': 'unibet_us', 'title': 'Unibet', 'last_update': '2023-06-06T01:07:51Z', 'markets': [{'key': 'h2h', 'last_update': '2023-06-06T01:07:51Z', 'outcomes': [{'name': 'Cincinnati Reds', 'price': 1.19}, {'name': 'Milwaukee Brewers', 'price': 4.6}]}]}, {'key': 'betmgm', 'title': 'BetMGM', 'last_update': '2023-06-06T01:07:12Z', 'markets': [{'key': 'h2h', 'last_update': '2023-06-06T01:07:12Z', 'outcomes': [{'name': 'Cincinnati Reds', 'price': 1.11}, {'name': 'Milwaukee Brewers', 'price': 6.25}]}]}]}\n",
      "{'id': 'f5bfac200a616f5fe65367499e09caae', 'sport_key': 'baseball_mlb', 'sport_title': 'MLB', 'commence_time': '2023-06-06T00:05:00Z', 'home_team': 'Texas Rangers', 'away_team': 'St. Louis Cardinals', 'bookmakers': [{'key': 'draftkings', 'title': 'DraftKings', 'last_update': '2023-06-06T01:06:51Z', 'markets': [{'key': 'h2h', 'last_update': '2023-06-06T01:06:51Z', 'outcomes': [{'name': 'St. Louis Cardinals', 'price': 4.5}, {'name': 'Texas Rangers', 'price': 1.21}]}]}, {'key': 'bovada', 'title': 'Bovada', 'last_update': '2023-06-06T01:07:55Z', 'markets': [{'key': 'h2h', 'last_update': '2023-06-06T01:07:55Z', 'outcomes': [{'name': 'St. Louis Cardinals', 'price': 3.85}, {'name': 'Texas Rangers', 'price': 1.24}]}]}, {'key': 'fanduel', 'title': 'FanDuel', 'last_update': '2023-06-06T01:07:42Z', 'markets': [{'key': 'h2h', 'last_update': '2023-06-06T01:07:42Z', 'outcomes': [{'name': 'St. Louis Cardinals', 'price': 4.6}, {'name': 'Texas Rangers', 'price': 1.17}]}]}, {'key': 'circasports', 'title': 'Circa Sports', 'last_update': '2023-06-06T01:04:56Z', 'markets': [{'key': 'h2h', 'last_update': '2023-06-06T01:04:56Z', 'outcomes': [{'name': 'St. Louis Cardinals', 'price': 3.84}, {'name': 'Texas Rangers', 'price': 1.28}]}]}, {'key': 'foxbet', 'title': 'FOX Bet', 'last_update': '2023-06-06T01:07:21Z', 'markets': [{'key': 'h2h', 'last_update': '2023-06-06T01:07:21Z', 'outcomes': [{'name': 'St. Louis Cardinals', 'price': 3.6}, {'name': 'Texas Rangers', 'price': 1.25}]}]}, {'key': 'twinspires', 'title': 'TwinSpires', 'last_update': '2023-06-06T01:07:25Z', 'markets': [{'key': 'h2h', 'last_update': '2023-06-06T01:07:25Z', 'outcomes': [{'name': 'St. Louis Cardinals', 'price': 4.4}, {'name': 'Texas Rangers', 'price': 1.21}]}]}, {'key': 'barstool', 'title': 'Barstool Sportsbook', 'last_update': '2023-06-06T01:07:36Z', 'markets': [{'key': 'h2h', 'last_update': '2023-06-06T01:07:36Z', 'outcomes': [{'name': 'St. Louis Cardinals', 'price': 4.4}, {'name': 'Texas Rangers', 'price': 1.21}]}]}, {'key': 'unibet_us', 'title': 'Unibet', 'last_update': '2023-06-06T01:07:51Z', 'markets': [{'key': 'h2h', 'last_update': '2023-06-06T01:07:51Z', 'outcomes': [{'name': 'St. Louis Cardinals', 'price': 4.4}, {'name': 'Texas Rangers', 'price': 1.21}]}]}, {'key': 'pointsbetus', 'title': 'PointsBet (US)', 'last_update': '2023-06-06T01:07:38Z', 'markets': [{'key': 'h2h', 'last_update': '2023-06-06T01:07:38Z', 'outcomes': [{'name': 'St. Louis Cardinals', 'price': 4.1}, {'name': 'Texas Rangers', 'price': 1.22}]}]}, {'key': 'betmgm', 'title': 'BetMGM', 'last_update': '2023-06-06T01:07:12Z', 'markets': [{'key': 'h2h', 'last_update': '2023-06-06T01:07:12Z', 'outcomes': [{'name': 'St. Louis Cardinals', 'price': 4.4}, {'name': 'Texas Rangers', 'price': 1.2}]}]}]}\n"
     ]
    }
   ],
   "source": [
    "with open('2_arbitrage_events.txt', 'w') as file:\n",
    "    for event in arbitrage_events:\n",
    "        event.calculate_arbitrage_bets()\n",
    "        event.convert_decimal_to_american()\n",
    "        file.write(str(event.data) + '\\n')\n",
    "        print(event.data)"
   ]
  },
  {
   "attachments": {},
   "cell_type": "markdown",
   "id": "4cf86515",
   "metadata": {},
   "source": [
    "### Creating Dataframe and Writing to Excel File\n",
    "\n",
    "This part generates an Excel file that presents information about arbitrage events, including their IDs, sport keys, expected earnings, and details about each outcome's bookmaker, name, odds, and bet amount."
   ]
  },
  {
   "cell_type": "code",
   "execution_count": 66,
   "id": "bdc8da60",
   "metadata": {},
   "outputs": [
    {
     "name": "stdout",
     "output_type": "stream",
     "text": [
      "[['Circa Sports', 'Oakland Athletics', 0.57], ['FanDuel', 'Pittsburgh Pirates', 17900.0]]\n",
      "[['PointsBet (US)', 'Cincinnati Reds', 0.2], ['FanDuel', 'Milwaukee Brewers', 53900.0]]\n",
      "[['FanDuel', 'St. Louis Cardinals', 35900.0], ['Circa Sports', 'Texas Rangers', 0.28]]\n"
     ]
    }
   ],
   "source": [
    "try:\n",
    "    MAX_OUTCOMES = max([event.num_outcomes for event in arbitrage_events])  # Find the maximum number of outcomes among all arbitrage events\n",
    "except ValueError:\n",
    "    print(\"No arbitrage events found.\")  # If there are no arbitrage events, print a message\n",
    "    MAX_OUTCOMES = 0\n",
    "\n",
    "ARBITRAGE_EVENTS_COUNT = len(arbitrage_events)  # Count the number of arbitrage events\n",
    "\n",
    "my_columns = [\n",
    "    'ID',\n",
    "    'Sport Key',\n",
    "    'Expected Earnings'\n",
    "] + list(\n",
    "    np.array([[f'Bookmaker #{outcome}', f'Name #{outcome}', f'Odds #{outcome}', f'Amount to Buy #{outcome}'] for outcome in range(1, MAX_OUTCOMES + 1)]).flatten()\n",
    ")  # Create a list of column names for the DataFrame\n",
    "\n",
    "dataframe = pd.DataFrame(columns=my_columns)  # Create an empty DataFrame with the specified column names\n",
    "\n",
    "for event in arbitrage_events:\n",
    "    print(event.best_odds)\n",
    "    row = [\n",
    "        event.id,\n",
    "        event.sport_key,\n",
    "        round(event.expected_earnings, 2)\n",
    "    ]  # Create a row with the event's ID, sport key, and rounded expected earnings\n",
    "\n",
    "    for index, outcome in enumerate(event.best_odds):\n",
    "        row += [\n",
    "            outcome[BOOKMAKER_INDEX],\n",
    "            outcome[NAME_INDEX],\n",
    "            outcome[ODDS_INDEX],\n",
    "            event.bet_amounts[index]\n",
    "        ]  # Add bookmaker, name, odds, and bet amount for each outcome to the row\n",
    "\n",
    "    while len(row) < len(my_columns):\n",
    "        row.append('N/A')  # Add 'N/A' for any remaining columns (if there are fewer outcomes than the maximum)\n",
    "\n",
    "    dataframe.loc[len(dataframe.index)] = row  # Add the row to the DataFrame\n",
    "\n",
    "with pd.ExcelWriter('3_arbitrage_bets.xlsx') as writer:\n",
    "    dataframe.to_excel(writer, index=False)  # Write the DataFrame to an Excel file, excluding the index\n"
   ]
  },
  {
   "cell_type": "code",
   "execution_count": 67,
   "id": "1976164f",
   "metadata": {},
   "outputs": [],
   "source": [
    "for event in arbitrage_events:\n",
    "    row = []  # Create an empty list to store the values for each row\n",
    "    row.append(event.id)  # Append the event id to the row list\n",
    "    row.append(event.sport_key)  # Append the sport key to the row list\n",
    "    row.append(round(event.expected_earnings, 2))  # Append the rounded expected earnings to the row list\n",
    "\n",
    "    for index, outcome in enumerate(event.best_odds):\n",
    "        # Append the bookmaker, name, odds, and bet amount for each outcome to the row list\n",
    "        row.append(outcome[BOOKMAKER_INDEX])\n",
    "        row.append(outcome[NAME_INDEX])\n",
    "        row.append(outcome[ODDS_INDEX])\n",
    "        row.append(event.bet_amounts[index])\n",
    "\n",
    "    # Add 'N/A' values to the row list to match the length of the dataframe columns\n",
    "    while len(row) < len(dataframe.columns):\n",
    "        row.append('N/A')\n",
    "\n",
    "    dataframe.loc[len(dataframe.index)] = row  # Add the row to the dataframe"
   ]
  },
  {
   "cell_type": "code",
   "execution_count": 68,
   "id": "9aacaf0d",
   "metadata": {},
   "outputs": [],
   "source": [
    "with pd.ExcelWriter('3_arbitrage_bets.xlsx') as writer:\n",
    "    dataframe.to_excel(writer, index=False)"
   ]
  },
  {
   "attachments": {},
   "cell_type": "markdown",
   "id": "84aa0611",
   "metadata": {},
   "source": [
    "### Formatting the Excel File\n",
    "\n",
    "This part of the code is responsible for applying formatting and styling to the cells in the Excel worksheet."
   ]
  },
  {
   "cell_type": "code",
   "execution_count": 69,
   "id": "917c28ca",
   "metadata": {},
   "outputs": [],
   "source": [
    "BLACK = '000000'  # Define color constant for black\n",
    "LIGHT_GREY = 'D6D6D6'  # Define color constant for light grey\n",
    "DARK_GREY = '9F9F9F'  # Define color constant for dark grey\n",
    "RED = 'FEA0A0'  # Define color constant for red\n",
    "BLUE = 'A0CEFE'  # Define color constant for blue\n",
    "YELLOW = 'FFE540'  # Define color constant for yellow\n",
    "\n",
    "COLORS = [RED, BLUE]  # Create a list of colors\n",
    "\n",
    "ID_COLUMN_FILL = PatternFill(fill_type='solid', start_color=DARK_GREY, end_color=DARK_GREY)  # Create fill pattern for ID column\n",
    "SPORT_KEY_COLUMN_FILL = PatternFill(fill_type='solid', start_color=LIGHT_GREY, end_color=LIGHT_GREY)  # Create fill pattern for sport key column\n",
    "EXPECTED_EARNINGS_COLUMN_FILL = PatternFill(fill_type='solid', start_color=YELLOW, end_color=YELLOW)  # Create fill pattern for expected earnings column\n",
    "\n",
    "CENTER_ALIGNMENT = Alignment(horizontal='center', vertical='bottom', indent=0)  # Define alignment style for center alignment\n",
    "\n",
    "TOP_ROW_BORDER = Border(bottom=Side(border_style='thick', color=BLACK))  # Define border style for top row\n",
    "NORMAL_ROW_BORDER = Border(top=Side(border_style='thin', color=LIGHT_GREY), bottom=Side(border_style='thin', color=DARK_GREY))  # Define border style for normal rows\n",
    "\n",
    "wb = load_workbook('3_arbitrage_bets.xlsx')  # Load the 'bets.xlsx' workbook\n",
    "ws = wb.active  # Select the active worksheet\n",
    "ws.title = 'Upcoming'  # Set the title of the worksheet to 'Upcoming'\n",
    "\n",
    "# Changing width of columns\n",
    "for col in range(1, 26):\n",
    "    ws.column_dimensions[chr(col + 64)].width = 20  # Set the width of each column\n",
    "\n",
    "# Apply fill and alignment styles to cells in column A for ID\n",
    "for cell in ws['A']:\n",
    "    cell.fill = ID_COLUMN_FILL\n",
    "    cell.alignment = CENTER_ALIGNMENT\n",
    "\n",
    "# Apply fill and alignment styles to cells in column B for sport key\n",
    "for cell in ws['B']:\n",
    "    cell.fill = SPORT_KEY_COLUMN_FILL\n",
    "    cell.alignment = CENTER_ALIGNMENT\n",
    "\n",
    "# Apply fill, alignment, and number format styles to cells in column C for expected earnings\n",
    "for cell in ws['C']:\n",
    "    cell.fill = EXPECTED_EARNINGS_COLUMN_FILL\n",
    "    cell.alignment = CENTER_ALIGNMENT\n",
    "    cell.number_format = numbers.BUILTIN_FORMATS[7]\n",
    "\n",
    "START_INDEX = 'D'\n",
    "# Apply alternating fill colors, alignment styles, and number formats to groups of four columns\n",
    "for index in range(MAX_OUTCOMES):\n",
    "    for col in ws[START_INDEX:chr(ord(START_INDEX) + 3)]:\n",
    "        for cell in col:\n",
    "            color = COLORS[int(index % 2)]\n",
    "            cell.fill = PatternFill(fill_type='solid', start_color=color, end_color=color)\n",
    "            cell.alignment = CENTER_ALIGNMENT\n",
    "            if cell.column % 4 == 3:\n",
    "                cell.number_format = numbers.BUILTIN_FORMATS[7]\n",
    "\n",
    "    START_INDEX = chr(ord(START_INDEX) + 4)\n",
    "\n",
    "# Apply border style to the top row of the worksheet\n",
    "for cell in ws['1']:\n",
    "    cell.border = TOP_ROW_BORDER\n",
    "\n",
    "# Apply border style to normal rows\n",
    "for row in range(2, ARBITRAGE_EVENTS_COUNT + 2):\n",
    "    for cell in ws[str(row)]:\n",
    "        cell.border = NORMAL_ROW_BORDER\n",
    "\n",
    "wb.save('3_arbitrage_bets.xlsx')  # Save the modified workbook\n"
   ]
  }
 ],
 "metadata": {
  "kernelspec": {
   "display_name": "Python 3 (ipykernel)",
   "language": "python",
   "name": "python3"
  },
  "language_info": {
   "codemirror_mode": {
    "name": "ipython",
    "version": 3
   },
   "file_extension": ".py",
   "mimetype": "text/x-python",
   "name": "python",
   "nbconvert_exporter": "python",
   "pygments_lexer": "ipython3",
   "version": "3.10.6"
  }
 },
 "nbformat": 4,
 "nbformat_minor": 5
}
