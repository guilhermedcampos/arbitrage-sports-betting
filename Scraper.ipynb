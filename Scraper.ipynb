{
 "cells": [
  {
   "attachments": {},
   "cell_type": "markdown",
   "id": "30146ed7",
   "metadata": {},
   "source": [
    "# Arbitrage Events Scraper"
   ]
  },
  {
   "attachments": {},
   "cell_type": "markdown",
   "id": "fa0524d5",
   "metadata": {},
   "source": [
    "This script will look for statistical arbitrage opportunities in the upcoming eight games across all sports using Live Sports Odds API.\n",
    "\n",
    "Documentation Link: https://the-odds-api.com/ "
   ]
  },
  {
   "attachments": {},
   "cell_type": "markdown",
   "id": "88d7d4e1",
   "metadata": {},
   "source": [
    "### Importing Libraries"
   ]
  },
  {
   "cell_type": "code",
   "execution_count": 1,
   "id": "31fa11dc",
   "metadata": {},
   "outputs": [],
   "source": [
    "import requests\n",
    "import json\n",
    "import xlsxwriter\n",
    "import pandas as pd\n",
    "import numpy as np\n",
    "import openpyxl\n",
    "import re\n",
    "from unidecode import unidecode\n",
    "from openpyxl import Workbook, load_workbook\n",
    "from openpyxl.styles import Border, Side, Font, Alignment, PatternFill, numbers"
   ]
  },
  {
   "attachments": {},
   "cell_type": "markdown",
   "id": "b99bcbe1",
   "metadata": {},
   "source": [
    "### Acquiring unique API_KEY  \n",
    "\n",
    "This key is unique. Retrieve one at TheOddsAPI website."
   ]
  },
  {
   "cell_type": "code",
   "execution_count": 2,
   "id": "65ad3c79",
   "metadata": {},
   "outputs": [],
   "source": [
    "API_KEY = '9decd631fa6303329122863cffa97744'"
   ]
  },
  {
   "attachments": {},
   "cell_type": "markdown",
   "id": "2728ca07",
   "metadata": {},
   "source": [
    "### Defining Constants and Making API Pull\n",
    "\n",
    "- ``BET_SIZE`` is the monetary amount in USD that you are willing to make for each bet. Defining ``BET_SIZE`` as 100 is telling the program that you want to bet a total of 100 dollars for each arbitrage opportunity that the program finds."
   ]
  },
  {
   "cell_type": "code",
   "execution_count": 3,
   "id": "b07f9912",
   "metadata": {
    "scrolled": false
   },
   "outputs": [],
   "source": [
    "SPORT = 'upcoming' # use the sport_key from the /sports endpoint below, or use 'upcoming' to see the next 8 games across all sports\n",
    "\n",
    "REGIONS = 'us' # uk | us | eu | au. Multiple can be specified if comma delimited\n",
    "\n",
    "MARKETS = 'h2h' # h2h | spreads | totals. Multiple can be specified if comma delimited\n",
    "\n",
    "ODDS_FORMAT = 'decimal' # decimal | american\n",
    "\n",
    "DATE_FORMAT = 'iso' # iso | unix\n",
    "\n",
    "BET_SIZE = 100\n",
    "\n",
    "odds_response = requests.get(\n",
    "    f'https://api.the-odds-api.com/v4/sports/{SPORT}/odds',\n",
    "    params={\n",
    "        'api_key': API_KEY,\n",
    "        'regions': REGIONS,\n",
    "        'markets': MARKETS,\n",
    "        'oddsFormat': ODDS_FORMAT,\n",
    "        'dateFormat': DATE_FORMAT,\n",
    "    }\n",
    ").json()"
   ]
  },
  {
   "cell_type": "code",
   "execution_count": 4,
   "id": "a406cfc7",
   "metadata": {},
   "outputs": [
    {
     "name": "stdout",
     "output_type": "stream",
     "text": [
      "[{'id': 'a0ed2a3568aea5e491139b72b0e1a1a9', 'sport_key': 'soccer_korea_kleague1', 'sport_title': 'K League 1', 'commence_time': '2023-06-06T07:30:39Z', 'home_team': 'Suwon FC', 'away_team': 'Ulsan Hyundai FC', 'bookmakers': [{'key': 'mybookieag', 'title': 'MyBookie.ag', 'last_update': '2023-06-06T07:50:20Z', 'markets': [{'key': 'h2h', 'last_update': '2023-06-06T07:50:20Z', 'outcomes': [{'name': 'Suwon FC', 'price': 4.6}, {'name': 'Ulsan Hyundai FC', 'price': 1.65}, {'name': 'Draw', 'price': 3.65}]}]}, {'key': 'williamhill_us', 'title': 'William Hill (US)', 'last_update': '2023-06-06T07:50:12Z', 'markets': [{'key': 'h2h', 'last_update': '2023-06-06T07:50:12Z', 'outcomes': [{'name': 'Suwon FC', 'price': 2.45}, {'name': 'Ulsan Hyundai FC', 'price': 2.6}, {'name': 'Draw', 'price': 3.3}]}]}, {'key': 'foxbet', 'title': 'FOX Bet', 'last_update': '2023-06-06T07:50:12Z', 'markets': [{'key': 'h2h', 'last_update': '2023-06-06T07:50:12Z', 'outcomes': [{'name': 'Suwon FC', 'price': 4.8}, {'name': 'Ulsan Hyundai FC', 'price': 1.62}, {'name': 'Draw', 'price': 3.6}]}]}, {'key': 'bovada', 'title': 'Bovada', 'last_update': '2023-06-06T07:50:30Z', 'markets': [{'key': 'h2h', 'last_update': '2023-06-06T07:50:30Z', 'outcomes': [{'name': 'Suwon FC', 'price': 2.18}, {'name': 'Ulsan Hyundai FC', 'price': 2.9}, {'name': 'Draw', 'price': 3.6}]}]}, {'key': 'betmgm', 'title': 'BetMGM', 'last_update': '2023-06-06T07:49:51Z', 'markets': [{'key': 'h2h', 'last_update': '2023-06-06T07:49:51Z', 'outcomes': [{'name': 'Suwon FC', 'price': 2.25}, {'name': 'Ulsan Hyundai FC', 'price': 2.55}, {'name': 'Draw', 'price': 3.4}]}]}, {'key': 'draftkings', 'title': 'DraftKings', 'last_update': '2023-06-06T07:50:31Z', 'markets': [{'key': 'h2h', 'last_update': '2023-06-06T07:50:31Z', 'outcomes': [{'name': 'Suwon FC', 'price': 2.35}, {'name': 'Ulsan Hyundai FC', 'price': 2.8}, {'name': 'Draw', 'price': 3.55}]}]}]}, {'id': 'ea3c13931d9b63c07a78f1252fbb327b', 'sport_key': 'tennis_wta_french_open', 'sport_title': 'WTA French Open', 'commence_time': '2023-06-06T09:00:00Z', 'home_team': 'Karolina Muchova', 'away_team': 'Anastasia Pavlyuchenkova', 'bookmakers': [{'key': 'barstool', 'title': 'Barstool Sportsbook', 'last_update': '2023-06-06T07:49:47Z', 'markets': [{'key': 'h2h', 'last_update': '2023-06-06T07:49:47Z', 'outcomes': [{'name': 'Anastasia Pavlyuchenkova', 'price': 2.43}, {'name': 'Karolina Muchova', 'price': 1.57}]}]}, {'key': 'foxbet', 'title': 'FOX Bet', 'last_update': '2023-06-06T07:50:00Z', 'markets': [{'key': 'h2h', 'last_update': '2023-06-06T07:50:00Z', 'outcomes': [{'name': 'Anastasia Pavlyuchenkova', 'price': 2.35}, {'name': 'Karolina Muchova', 'price': 1.55}]}]}, {'key': 'draftkings', 'title': 'DraftKings', 'last_update': '2023-06-06T07:49:44Z', 'markets': [{'key': 'h2h', 'last_update': '2023-06-06T07:49:44Z', 'outcomes': [{'name': 'Anastasia Pavlyuchenkova', 'price': 2.4}, {'name': 'Karolina Muchova', 'price': 1.59}]}]}, {'key': 'betrivers', 'title': 'BetRivers', 'last_update': '2023-06-06T07:49:54Z', 'markets': [{'key': 'h2h', 'last_update': '2023-06-06T07:49:54Z', 'outcomes': [{'name': 'Anastasia Pavlyuchenkova', 'price': 2.43}, {'name': 'Karolina Muchova', 'price': 1.57}]}]}, {'key': 'unibet_us', 'title': 'Unibet', 'last_update': '2023-06-06T07:50:34Z', 'markets': [{'key': 'h2h', 'last_update': '2023-06-06T07:50:34Z', 'outcomes': [{'name': 'Anastasia Pavlyuchenkova', 'price': 2.43}, {'name': 'Karolina Muchova', 'price': 1.57}]}]}, {'key': 'mybookieag', 'title': 'MyBookie.ag', 'last_update': '2023-06-06T07:50:03Z', 'markets': [{'key': 'h2h', 'last_update': '2023-06-06T07:50:03Z', 'outcomes': [{'name': 'Anastasia Pavlyuchenkova', 'price': 2.37}, {'name': 'Karolina Muchova', 'price': 1.57}]}]}, {'key': 'twinspires', 'title': 'TwinSpires', 'last_update': '2023-06-06T07:49:44Z', 'markets': [{'key': 'h2h', 'last_update': '2023-06-06T07:49:44Z', 'outcomes': [{'name': 'Anastasia Pavlyuchenkova', 'price': 2.43}, {'name': 'Karolina Muchova', 'price': 1.57}]}]}, {'key': 'betmgm', 'title': 'BetMGM', 'last_update': '2023-06-06T07:50:32Z', 'markets': [{'key': 'h2h', 'last_update': '2023-06-06T07:50:32Z', 'outcomes': [{'name': 'Anastasia Pavlyuchenkova', 'price': 2.45}, {'name': 'Karolina Muchova', 'price': 1.54}]}]}, {'key': 'lowvig', 'title': 'LowVig.ag', 'last_update': '2023-06-06T07:50:33Z', 'markets': [{'key': 'h2h', 'last_update': '2023-06-06T07:50:33Z', 'outcomes': [{'name': 'Anastasia Pavlyuchenkova', 'price': 2.44}, {'name': 'Karolina Muchova', 'price': 1.61}]}]}, {'key': 'betonlineag', 'title': 'BetOnline.ag', 'last_update': '2023-06-06T07:49:54Z', 'markets': [{'key': 'h2h', 'last_update': '2023-06-06T07:49:54Z', 'outcomes': [{'name': 'Anastasia Pavlyuchenkova', 'price': 2.44}, {'name': 'Karolina Muchova', 'price': 1.61}]}]}, {'key': 'fanduel', 'title': 'FanDuel', 'last_update': '2023-06-06T07:50:13Z', 'markets': [{'key': 'h2h', 'last_update': '2023-06-06T07:50:13Z', 'outcomes': [{'name': 'Anastasia Pavlyuchenkova', 'price': 2.44}, {'name': 'Karolina Muchova', 'price': 1.6}]}]}]}, {'id': '7b4577d4e2a27300c2e4e89a7c8178b2', 'sport_key': 'soccer_korea_kleague1', 'sport_title': 'K League 1', 'commence_time': '2023-06-06T09:00:00Z', 'home_team': 'Pohang Steelers', 'away_team': 'Jeju United FC', 'bookmakers': [{'key': 'williamhill_us', 'title': 'William Hill (US)', 'last_update': '2023-06-06T07:50:12Z', 'markets': [{'key': 'h2h', 'last_update': '2023-06-06T07:50:12Z', 'outcomes': [{'name': 'Jeju United FC', 'price': 3.5}, {'name': 'Pohang Steelers', 'price': 2.02}, {'name': 'Draw', 'price': 3.2}]}]}, {'key': 'mybookieag', 'title': 'MyBookie.ag', 'last_update': '2023-06-06T07:50:20Z', 'markets': [{'key': 'h2h', 'last_update': '2023-06-06T07:50:20Z', 'outcomes': [{'name': 'Jeju United FC', 'price': 3.4}, {'name': 'Pohang Steelers', 'price': 2.07}, {'name': 'Draw', 'price': 3.5}]}]}, {'key': 'bovada', 'title': 'Bovada', 'last_update': '2023-06-06T07:50:30Z', 'markets': [{'key': 'h2h', 'last_update': '2023-06-06T07:50:30Z', 'outcomes': [{'name': 'Jeju United FC', 'price': 3.4}, {'name': 'Pohang Steelers', 'price': 2.1}, {'name': 'Draw', 'price': 3.4}]}]}, {'key': 'foxbet', 'title': 'FOX Bet', 'last_update': '2023-06-06T07:50:12Z', 'markets': [{'key': 'h2h', 'last_update': '2023-06-06T07:50:12Z', 'outcomes': [{'name': 'Jeju United FC', 'price': 3.45}, {'name': 'Pohang Steelers', 'price': 2.0}, {'name': 'Draw', 'price': 3.45}]}]}, {'key': 'betmgm', 'title': 'BetMGM', 'last_update': '2023-06-06T07:49:51Z', 'markets': [{'key': 'h2h', 'last_update': '2023-06-06T07:49:51Z', 'outcomes': [{'name': 'Jeju United FC', 'price': 3.4}, {'name': 'Pohang Steelers', 'price': 2.0}, {'name': 'Draw', 'price': 3.5}]}]}, {'key': 'draftkings', 'title': 'DraftKings', 'last_update': '2023-06-06T07:50:31Z', 'markets': [{'key': 'h2h', 'last_update': '2023-06-06T07:50:31Z', 'outcomes': [{'name': 'Jeju United FC', 'price': 3.55}, {'name': 'Pohang Steelers', 'price': 2.05}, {'name': 'Draw', 'price': 3.55}]}]}, {'key': 'betus', 'title': 'BetUS', 'last_update': '2023-06-06T07:50:00Z', 'markets': [{'key': 'h2h', 'last_update': '2023-06-06T07:50:00Z', 'outcomes': [{'name': 'Jeju United FC', 'price': 3.4}, {'name': 'Pohang Steelers', 'price': 2.1}, {'name': 'Draw', 'price': 3.35}]}]}]}, {'id': '40f1cdad0dc30150a16e605b846e9b3b', 'sport_key': 'tennis_wta_french_open', 'sport_title': 'WTA French Open', 'commence_time': '2023-06-06T10:30:00Z', 'home_team': 'Elina Svitolina', 'away_team': 'Aryna Sabalenka', 'bookmakers': [{'key': 'barstool', 'title': 'Barstool Sportsbook', 'last_update': '2023-06-06T07:49:47Z', 'markets': [{'key': 'h2h', 'last_update': '2023-06-06T07:49:47Z', 'outcomes': [{'name': 'Aryna Sabalenka', 'price': 1.22}, {'name': 'Elina Svitolina', 'price': 4.5}]}]}, {'key': 'betrivers', 'title': 'BetRivers', 'last_update': '2023-06-06T07:49:54Z', 'markets': [{'key': 'h2h', 'last_update': '2023-06-06T07:49:54Z', 'outcomes': [{'name': 'Aryna Sabalenka', 'price': 1.22}, {'name': 'Elina Svitolina', 'price': 4.5}]}]}, {'key': 'draftkings', 'title': 'DraftKings', 'last_update': '2023-06-06T07:49:44Z', 'markets': [{'key': 'h2h', 'last_update': '2023-06-06T07:49:44Z', 'outcomes': [{'name': 'Aryna Sabalenka', 'price': 1.22}, {'name': 'Elina Svitolina', 'price': 4.4}]}]}, {'key': 'twinspires', 'title': 'TwinSpires', 'last_update': '2023-06-06T07:49:44Z', 'markets': [{'key': 'h2h', 'last_update': '2023-06-06T07:49:44Z', 'outcomes': [{'name': 'Aryna Sabalenka', 'price': 1.22}, {'name': 'Elina Svitolina', 'price': 4.5}]}]}, {'key': 'foxbet', 'title': 'FOX Bet', 'last_update': '2023-06-06T07:50:00Z', 'markets': [{'key': 'h2h', 'last_update': '2023-06-06T07:50:00Z', 'outcomes': [{'name': 'Aryna Sabalenka', 'price': 1.22}, {'name': 'Elina Svitolina', 'price': 4.0}]}]}, {'key': 'betmgm', 'title': 'BetMGM', 'last_update': '2023-06-06T07:50:32Z', 'markets': [{'key': 'h2h', 'last_update': '2023-06-06T07:50:32Z', 'outcomes': [{'name': 'Aryna Sabalenka', 'price': 1.22}, {'name': 'Elina Svitolina', 'price': 4.4}]}]}, {'key': 'unibet_us', 'title': 'Unibet', 'last_update': '2023-06-06T07:50:34Z', 'markets': [{'key': 'h2h', 'last_update': '2023-06-06T07:50:34Z', 'outcomes': [{'name': 'Aryna Sabalenka', 'price': 1.22}, {'name': 'Elina Svitolina', 'price': 4.5}]}]}, {'key': 'mybookieag', 'title': 'MyBookie.ag', 'last_update': '2023-06-06T07:50:03Z', 'markets': [{'key': 'h2h', 'last_update': '2023-06-06T07:50:03Z', 'outcomes': [{'name': 'Aryna Sabalenka', 'price': 1.21}, {'name': 'Elina Svitolina', 'price': 4.3}]}]}, {'key': 'fanduel', 'title': 'FanDuel', 'last_update': '2023-06-06T07:50:13Z', 'markets': [{'key': 'h2h', 'last_update': '2023-06-06T07:50:13Z', 'outcomes': [{'name': 'Aryna Sabalenka', 'price': 1.22}, {'name': 'Elina Svitolina', 'price': 4.7}]}]}, {'key': 'betonlineag', 'title': 'BetOnline.ag', 'last_update': '2023-06-06T07:49:54Z', 'markets': [{'key': 'h2h', 'last_update': '2023-06-06T07:49:54Z', 'outcomes': [{'name': 'Aryna Sabalenka', 'price': 1.25}, {'name': 'Elina Svitolina', 'price': 4.28}]}]}, {'key': 'lowvig', 'title': 'LowVig.ag', 'last_update': '2023-06-06T07:50:33Z', 'markets': [{'key': 'h2h', 'last_update': '2023-06-06T07:50:33Z', 'outcomes': [{'name': 'Aryna Sabalenka', 'price': 1.25}, {'name': 'Elina Svitolina', 'price': 4.28}]}]}]}, {'id': 'd6f7a1f5fdacb7cc0f038f2c1277a81b', 'sport_key': 'tennis_atp_french_open', 'sport_title': 'ATP French Open', 'commence_time': '2023-06-06T11:45:00Z', 'home_team': 'Novak Djokovic', 'away_team': 'Karen Khachanov', 'bookmakers': [{'key': 'mybookieag', 'title': 'MyBookie.ag', 'last_update': '2023-06-06T07:50:07Z', 'markets': [{'key': 'h2h', 'last_update': '2023-06-06T07:50:07Z', 'outcomes': [{'name': 'Karen Khachanov', 'price': 7.9}, {'name': 'Novak Djokovic', 'price': 1.07}]}]}, {'key': 'unibet_us', 'title': 'Unibet', 'last_update': '2023-06-06T07:50:32Z', 'markets': [{'key': 'h2h', 'last_update': '2023-06-06T07:50:32Z', 'outcomes': [{'name': 'Karen Khachanov', 'price': 8.0}, {'name': 'Novak Djokovic', 'price': 1.09}]}]}, {'key': 'barstool', 'title': 'Barstool Sportsbook', 'last_update': '2023-06-06T07:49:56Z', 'markets': [{'key': 'h2h', 'last_update': '2023-06-06T07:49:56Z', 'outcomes': [{'name': 'Karen Khachanov', 'price': 8.0}, {'name': 'Novak Djokovic', 'price': 1.09}]}]}, {'key': 'foxbet', 'title': 'FOX Bet', 'last_update': '2023-06-06T07:49:26Z', 'markets': [{'key': 'h2h', 'last_update': '2023-06-06T07:49:26Z', 'outcomes': [{'name': 'Karen Khachanov', 'price': 7.0}, {'name': 'Novak Djokovic', 'price': 1.08}]}]}, {'key': 'draftkings', 'title': 'DraftKings', 'last_update': '2023-06-06T07:50:21Z', 'markets': [{'key': 'h2h', 'last_update': '2023-06-06T07:50:21Z', 'outcomes': [{'name': 'Karen Khachanov', 'price': 8.0}, {'name': 'Novak Djokovic', 'price': 1.09}]}]}, {'key': 'betrivers', 'title': 'BetRivers', 'last_update': '2023-06-06T07:49:40Z', 'markets': [{'key': 'h2h', 'last_update': '2023-06-06T07:49:40Z', 'outcomes': [{'name': 'Karen Khachanov', 'price': 8.0}, {'name': 'Novak Djokovic', 'price': 1.09}]}]}, {'key': 'twinspires', 'title': 'TwinSpires', 'last_update': '2023-06-06T07:50:21Z', 'markets': [{'key': 'h2h', 'last_update': '2023-06-06T07:50:21Z', 'outcomes': [{'name': 'Karen Khachanov', 'price': 8.0}, {'name': 'Novak Djokovic', 'price': 1.09}]}]}, {'key': 'lowvig', 'title': 'LowVig.ag', 'last_update': '2023-06-06T07:49:30Z', 'markets': [{'key': 'h2h', 'last_update': '2023-06-06T07:49:30Z', 'outcomes': [{'name': 'Karen Khachanov', 'price': 9.25}, {'name': 'Novak Djokovic', 'price': 1.07}]}]}, {'key': 'betonlineag', 'title': 'BetOnline.ag', 'last_update': '2023-06-06T07:50:17Z', 'markets': [{'key': 'h2h', 'last_update': '2023-06-06T07:50:17Z', 'outcomes': [{'name': 'Karen Khachanov', 'price': 9.25}, {'name': 'Novak Djokovic', 'price': 1.07}]}]}, {'key': 'betmgm', 'title': 'BetMGM', 'last_update': '2023-06-06T07:49:03Z', 'markets': [{'key': 'h2h', 'last_update': '2023-06-06T07:49:03Z', 'outcomes': [{'name': 'Karen Khachanov', 'price': 8.5}, {'name': 'Novak Djokovic', 'price': 1.07}]}]}, {'key': 'fanduel', 'title': 'FanDuel', 'last_update': '2023-06-06T07:50:21Z', 'markets': [{'key': 'h2h', 'last_update': '2023-06-06T07:50:21Z', 'outcomes': [{'name': 'Karen Khachanov', 'price': 9.1}, {'name': 'Novak Djokovic', 'price': 1.06}]}]}]}, {'id': 'e4b82750152fc0134388bea926e6b592', 'sport_key': 'cricket_odi', 'sport_title': 'One Day Internationals', 'commence_time': '2023-06-06T12:30:00Z', 'home_team': 'United Arab Emirates', 'away_team': 'West Indies', 'bookmakers': [{'key': 'draftkings', 'title': 'DraftKings', 'last_update': '2023-06-06T07:50:31Z', 'markets': [{'key': 'h2h', 'last_update': '2023-06-06T07:50:31Z', 'outcomes': [{'name': 'United Arab Emirates', 'price': 4.9}, {'name': 'West Indies', 'price': 1.17}]}]}, {'key': 'unibet_us', 'title': 'Unibet', 'last_update': '2023-06-06T07:49:17Z', 'markets': [{'key': 'h2h', 'last_update': '2023-06-06T07:49:17Z', 'outcomes': [{'name': 'United Arab Emirates', 'price': 4.75}, {'name': 'West Indies', 'price': 1.17}]}]}]}, {'id': '6c091a7e1cf9a96582884af66dc5b7fd', 'sport_key': 'soccer_sweden_superettan', 'sport_title': 'Superettan - Sweden', 'commence_time': '2023-06-06T13:00:00Z', 'home_team': 'GIF Sundsvall', 'away_team': 'GAIS', 'bookmakers': [{'key': 'fanduel', 'title': 'FanDuel', 'last_update': '2023-06-06T07:49:32Z', 'markets': [{'key': 'h2h', 'last_update': '2023-06-06T07:49:32Z', 'outcomes': [{'name': 'GAIS', 'price': 1.67}, {'name': 'GIF Sundsvall', 'price': 4.4}, {'name': 'Draw', 'price': 3.8}]}]}, {'key': 'bovada', 'title': 'Bovada', 'last_update': '2023-06-06T07:49:42Z', 'markets': [{'key': 'h2h', 'last_update': '2023-06-06T07:49:42Z', 'outcomes': [{'name': 'GAIS', 'price': 1.77}, {'name': 'GIF Sundsvall', 'price': 4.1}, {'name': 'Draw', 'price': 3.7}]}]}, {'key': 'foxbet', 'title': 'FOX Bet', 'last_update': '2023-06-06T07:50:10Z', 'markets': [{'key': 'h2h', 'last_update': '2023-06-06T07:50:10Z', 'outcomes': [{'name': 'GAIS', 'price': 1.67}, {'name': 'GIF Sundsvall', 'price': 3.9}, {'name': 'Draw', 'price': 3.5}]}]}, {'key': 'mybookieag', 'title': 'MyBookie.ag', 'last_update': '2023-06-06T07:49:09Z', 'markets': [{'key': 'h2h', 'last_update': '2023-06-06T07:49:09Z', 'outcomes': [{'name': 'GAIS', 'price': 1.76}, {'name': 'GIF Sundsvall', 'price': 4.2}, {'name': 'Draw', 'price': 3.9}]}]}, {'key': 'williamhill_us', 'title': 'William Hill (US)', 'last_update': '2023-06-06T07:49:17Z', 'markets': [{'key': 'h2h', 'last_update': '2023-06-06T07:49:17Z', 'outcomes': [{'name': 'GAIS', 'price': 1.69}, {'name': 'GIF Sundsvall', 'price': 4.3}, {'name': 'Draw', 'price': 3.55}]}]}, {'key': 'betus', 'title': 'BetUS', 'last_update': '2023-06-06T07:50:13Z', 'markets': [{'key': 'h2h', 'last_update': '2023-06-06T07:50:13Z', 'outcomes': [{'name': 'GAIS', 'price': 1.8}, {'name': 'GIF Sundsvall', 'price': 3.9}, {'name': 'Draw', 'price': 3.7}]}]}, {'key': 'lowvig', 'title': 'LowVig.ag', 'last_update': '2023-06-06T07:49:25Z', 'markets': [{'key': 'h2h', 'last_update': '2023-06-06T07:49:25Z', 'outcomes': [{'name': 'GAIS', 'price': 1.7}, {'name': 'GIF Sundsvall', 'price': 4.15}, {'name': 'Draw', 'price': 3.85}]}]}, {'key': 'betonlineag', 'title': 'BetOnline.ag', 'last_update': '2023-06-06T07:50:17Z', 'markets': [{'key': 'h2h', 'last_update': '2023-06-06T07:50:17Z', 'outcomes': [{'name': 'GAIS', 'price': 1.7}, {'name': 'GIF Sundsvall', 'price': 4.15}, {'name': 'Draw', 'price': 3.85}]}]}]}, {'id': '39cdd05e35603b3da165c8893012466b', 'sport_key': 'soccer_sweden_superettan', 'sport_title': 'Superettan - Sweden', 'commence_time': '2023-06-06T13:00:00Z', 'home_team': 'Helsingborgs IF', 'away_team': 'Jönköpings Södra IF', 'bookmakers': [{'key': 'fanduel', 'title': 'FanDuel', 'last_update': '2023-06-06T07:49:32Z', 'markets': [{'key': 'h2h', 'last_update': '2023-06-06T07:49:32Z', 'outcomes': [{'name': 'Helsingborgs IF', 'price': 2.6}, {'name': 'Jönköpings Södra IF', 'price': 2.5}, {'name': 'Draw', 'price': 3.2}]}]}, {'key': 'foxbet', 'title': 'FOX Bet', 'last_update': '2023-06-06T07:50:10Z', 'markets': [{'key': 'h2h', 'last_update': '2023-06-06T07:50:10Z', 'outcomes': [{'name': 'Helsingborgs IF', 'price': 2.5}, {'name': 'Jönköpings Södra IF', 'price': 2.38}, {'name': 'Draw', 'price': 3.1}]}]}, {'key': 'bovada', 'title': 'Bovada', 'last_update': '2023-06-06T07:49:42Z', 'markets': [{'key': 'h2h', 'last_update': '2023-06-06T07:49:42Z', 'outcomes': [{'name': 'Helsingborgs IF', 'price': 2.65}, {'name': 'Jönköpings Södra IF', 'price': 2.6}, {'name': 'Draw', 'price': 3.2}]}]}, {'key': 'mybookieag', 'title': 'MyBookie.ag', 'last_update': '2023-06-06T07:49:09Z', 'markets': [{'key': 'h2h', 'last_update': '2023-06-06T07:49:09Z', 'outcomes': [{'name': 'Helsingborgs IF', 'price': 2.65}, {'name': 'Jönköpings Södra IF', 'price': 2.6}, {'name': 'Draw', 'price': 3.35}]}]}, {'key': 'williamhill_us', 'title': 'William Hill (US)', 'last_update': '2023-06-06T07:49:17Z', 'markets': [{'key': 'h2h', 'last_update': '2023-06-06T07:49:17Z', 'outcomes': [{'name': 'Helsingborgs IF', 'price': 2.65}, {'name': 'Jönköpings Södra IF', 'price': 2.45}, {'name': 'Draw', 'price': 3.1}]}]}, {'key': 'betus', 'title': 'BetUS', 'last_update': '2023-06-06T07:50:13Z', 'markets': [{'key': 'h2h', 'last_update': '2023-06-06T07:50:13Z', 'outcomes': [{'name': 'Helsingborgs IF', 'price': 2.45}, {'name': 'Jönköpings Södra IF', 'price': 2.75}, {'name': 'Draw', 'price': 3.3}]}]}, {'key': 'lowvig', 'title': 'LowVig.ag', 'last_update': '2023-06-06T07:49:25Z', 'markets': [{'key': 'h2h', 'last_update': '2023-06-06T07:49:25Z', 'outcomes': [{'name': 'Helsingborgs IF', 'price': 2.58}, {'name': 'Jönköpings Södra IF', 'price': 2.48}, {'name': 'Draw', 'price': 3.45}]}]}, {'key': 'betonlineag', 'title': 'BetOnline.ag', 'last_update': '2023-06-06T07:50:17Z', 'markets': [{'key': 'h2h', 'last_update': '2023-06-06T07:50:17Z', 'outcomes': [{'name': 'Helsingborgs IF', 'price': 2.58}, {'name': 'Jönköpings Södra IF', 'price': 2.48}, {'name': 'Draw', 'price': 3.45}]}]}]}, {'id': 'e20c1d6de2df55c86800ee0094b7489d', 'sport_key': 'soccer_sweden_superettan', 'sport_title': 'Superettan - Sweden', 'commence_time': '2023-06-06T13:00:00Z', 'home_team': 'Örgryte IS', 'away_team': 'Landskrona BoIS', 'bookmakers': [{'key': 'fanduel', 'title': 'FanDuel', 'last_update': '2023-06-06T07:49:32Z', 'markets': [{'key': 'h2h', 'last_update': '2023-06-06T07:49:32Z', 'outcomes': [{'name': 'Landskrona BoIS', 'price': 3.3}, {'name': 'Örgryte IS', 'price': 2.05}, {'name': 'Draw', 'price': 3.3}]}]}, {'key': 'foxbet', 'title': 'FOX Bet', 'last_update': '2023-06-06T07:50:10Z', 'markets': [{'key': 'h2h', 'last_update': '2023-06-06T07:50:10Z', 'outcomes': [{'name': 'Landskrona BoIS', 'price': 3.0}, {'name': 'Örgryte IS', 'price': 2.05}, {'name': 'Draw', 'price': 3.15}]}]}, {'key': 'bovada', 'title': 'Bovada', 'last_update': '2023-06-06T07:49:42Z', 'markets': [{'key': 'h2h', 'last_update': '2023-06-06T07:49:42Z', 'outcomes': [{'name': 'Landskrona BoIS', 'price': 3.2}, {'name': 'Örgryte IS', 'price': 2.15}, {'name': 'Draw', 'price': 3.3}]}]}, {'key': 'mybookieag', 'title': 'MyBookie.ag', 'last_update': '2023-06-06T07:49:09Z', 'markets': [{'key': 'h2h', 'last_update': '2023-06-06T07:49:09Z', 'outcomes': [{'name': 'Landskrona BoIS', 'price': 3.25}, {'name': 'Örgryte IS', 'price': 2.15}, {'name': 'Draw', 'price': 3.45}]}]}, {'key': 'williamhill_us', 'title': 'William Hill (US)', 'last_update': '2023-06-06T07:49:17Z', 'markets': [{'key': 'h2h', 'last_update': '2023-06-06T07:49:17Z', 'outcomes': [{'name': 'Landskrona BoIS', 'price': 3.15}, {'name': 'Örgryte IS', 'price': 2.08}, {'name': 'Draw', 'price': 3.25}]}]}, {'key': 'betonlineag', 'title': 'BetOnline.ag', 'last_update': '2023-06-06T07:50:17Z', 'markets': [{'key': 'h2h', 'last_update': '2023-06-06T07:50:17Z', 'outcomes': [{'name': 'Landskrona BoIS', 'price': 3.15}, {'name': 'Örgryte IS', 'price': 2.16}, {'name': 'Draw', 'price': 3.3}]}]}, {'key': 'lowvig', 'title': 'LowVig.ag', 'last_update': '2023-06-06T07:49:25Z', 'markets': [{'key': 'h2h', 'last_update': '2023-06-06T07:49:25Z', 'outcomes': [{'name': 'Landskrona BoIS', 'price': 3.15}, {'name': 'Örgryte IS', 'price': 2.16}, {'name': 'Draw', 'price': 3.3}]}]}, {'key': 'betus', 'title': 'BetUS', 'last_update': '2023-06-06T07:50:13Z', 'markets': [{'key': 'h2h', 'last_update': '2023-06-06T07:50:13Z', 'outcomes': [{'name': 'Landskrona BoIS', 'price': 3.4}, {'name': 'Örgryte IS', 'price': 2.05}, {'name': 'Draw', 'price': 3.45}]}]}]}]\n"
     ]
    }
   ],
   "source": [
    "# odds_response\n",
    "print(odds_response)\n",
    "\n",
    "# saves data to upcoming_events.txt\n",
    "with open('1_upcoming_events.txt', 'w') as f:\n",
    "    json.dump(odds_response, f)"
   ]
  },
  {
   "attachments": {},
   "cell_type": "markdown",
   "id": "795b37df",
   "metadata": {},
   "source": [
    "### Event Class\n",
    "\n",
    "\n",
    "The Event class represents a sporting event and provides methods to find the best odds, determine if there is an opportunity for arbitrage, convert decimal odds to American odds, and calculate the bet amounts for arbitrage betting.\n",
    "\n",
    "The code is structured in a way that encapsulates the functionality related to the event and its odds. It utilizes the data provided in the constructor to initialize the event and extract relevant information such as the sport key and ID.\n",
    "\n",
    "- find_best_odds iterates over the bookmakers and outcomes to find the best odds for each outcome in the event. It populates the best_odds list with the bookmaker, outcome name, and odds.\n",
    "\n",
    "- arbitrage calculates the total arbitrage percentage based on the best odds and determines if there is an opportunity for arbitrage betting. It checks if the sum of the reciprocals of the odds is less than 1.\n",
    "\n",
    "- convert_decimal_to_american converts the decimal odds in best_odds to American odds format.\n",
    "\n",
    "- calculate_arbitrage_bets calculates the bet amounts for each outcome based on the individual arbitrage percentages and the total arbitrage percentage.\n",
    "\n",
    "- Each ``Event`` object represents an indivudal sporting event.\n",
    "\n",
    "- The ``data`` parameter contains all of the odds data that is received from the API call."
   ]
  },
  {
   "cell_type": "code",
   "execution_count": 5,
   "id": "bccd45dc",
   "metadata": {},
   "outputs": [],
   "source": [
    "BOOKMAKER_INDEX = 0  # Index for the bookmaker in the best_odds list\n",
    "NAME_INDEX = 1  # Index for the name in the best_odds list\n",
    "ODDS_INDEX = 2  # Index for the odds in the best_odds list\n",
    "FIRST = 0  # Constant value for the first element in a list\n",
    "\n",
    "class Event:\n",
    "    def __init__(self, data):\n",
    "        self.data = data\n",
    "        self.sport_key = data['sport_key']  # Store the sport_key from the data dictionary\n",
    "        self.id = data['id']  # Store the id from the data dictionary\n",
    "        \n",
    "    def find_best_odds(self):\n",
    "        # Determine the number of possible outcomes for a sporting event\n",
    "        num_outcomes = len(self.data['bookmakers'][FIRST]['markets'][FIRST]['outcomes'])\n",
    "        self.num_outcomes = num_outcomes\n",
    "\n",
    "        # Initialize the best_odds list with initial values\n",
    "        best_odds = [[None, None, float('-inf')] for _ in range(num_outcomes)]\n",
    "        # Format: [Bookmaker, Name, Price]\n",
    "\n",
    "        bookmakers = event.data['bookmakers']  # Retrieve the bookmakers from the event data\n",
    "        for index, bookmaker in enumerate(bookmakers):\n",
    "\n",
    "            # Determine the odds offered by each bookmaker\n",
    "            for outcome in range(num_outcomes):\n",
    "\n",
    "                # Check if any of the bookmaker odds are better than the current best odds\n",
    "                bookmaker_odds = float(bookmaker['markets'][FIRST]['outcomes'][outcome]['price'])\n",
    "                current_best_odds = best_odds[outcome][ODDS_INDEX]\n",
    "\n",
    "                if bookmaker_odds > current_best_odds:\n",
    "                    best_odds[outcome][BOOKMAKER_INDEX] = bookmaker['title']\n",
    "                    best_odds[outcome][NAME_INDEX] = bookmaker['markets'][FIRST]['outcomes'][outcome]['name']\n",
    "                    best_odds[outcome][ODDS_INDEX] = bookmaker_odds\n",
    "                    \n",
    "        self.best_odds = best_odds\n",
    "        return best_odds\n",
    "    \n",
    "    def arbitrage(self):\n",
    "        total_arbitrage_percentage = 0\n",
    "        for odds in self.best_odds:\n",
    "            total_arbitrage_percentage += (1.0 / odds[ODDS_INDEX])\n",
    "            \n",
    "        self.total_arbitrage_percentage = total_arbitrage_percentage\n",
    "        self.expected_earnings = (BET_SIZE / total_arbitrage_percentage) - BET_SIZE\n",
    "        \n",
    "        # Check if the sum of the reciprocals of the odds is less than 1, indicating an arbitrage opportunity\n",
    "        if total_arbitrage_percentage < 1:\n",
    "            return True\n",
    "        return False\n",
    "    \n",
    "    # Convert decimal/European best odds to American best odds\n",
    "    def convert_decimal_to_american(self):\n",
    "        best_odds = self.best_odds\n",
    "        for odds in best_odds:\n",
    "            decimal = odds[ODDS_INDEX]\n",
    "            if decimal >= 2:\n",
    "                american = (decimal - 1) * 100\n",
    "            elif decimal < 2:\n",
    "                american = -100 / (decimal - 1)\n",
    "            odds[ODDS_INDEX] = round(american, 2)\n",
    "        return best_odds\n",
    "     \n",
    "    def calculate_arbitrage_bets(self):\n",
    "        bet_amounts = []\n",
    "        for outcome in range(self.num_outcomes):\n",
    "            individual_arbitrage_percentage = 1 / self.best_odds[outcome][ODDS_INDEX]\n",
    "            bet_amount = (BET_SIZE * individual_arbitrage_percentage) / self.total_arbitrage_percentage\n",
    "            bet_amounts.append(round(bet_amount, 2))\n",
    "        \n",
    "        self.bet_amounts = bet_amounts\n",
    "        return\n"
   ]
  },
  {
   "attachments": {},
   "cell_type": "markdown",
   "id": "0737847a",
   "metadata": {},
   "source": [
    "### Parsing Events and Calculating Arbitrage Opportunities\n",
    "\n",
    "First loop iterates over the odds_response data and creates an Event object for each data item. The Event objects are then added to the events list.\n",
    "\n",
    "Second loop iterates over the events list and checks if each event has an opportunity for arbitrage by calling the arbitrage() function. If an event has an opportunity for arbitrage, it is added to the arbitrage_events list.\n",
    "\n",
    "Last loop iterates over the arbitrage_events list and performs calculations related to arbitrage betting for each event. The calculate_arbitrage_bets() method calculates the bet amounts, while the convert_decimal_to_american() method converts the odds from decimal format to American format.\n",
    "\n",
    "This calculation will use unbiased arbitrage, where the profit is the same regardless of the outcome."
   ]
  },
  {
   "cell_type": "code",
   "execution_count": 6,
   "id": "9d71f761",
   "metadata": {},
   "outputs": [
    {
     "name": "stdout",
     "output_type": "stream",
     "text": [
      "{'id': 'a0ed2a3568aea5e491139b72b0e1a1a9', 'sport_key': 'soccer_korea_kleague1', 'sport_title': 'K League 1', 'commence_time': '2023-06-06T07:30:39Z', 'home_team': 'Suwon FC', 'away_team': 'Ulsan Hyundai FC', 'bookmakers': [{'key': 'mybookieag', 'title': 'MyBookie.ag', 'last_update': '2023-06-06T07:50:20Z', 'markets': [{'key': 'h2h', 'last_update': '2023-06-06T07:50:20Z', 'outcomes': [{'name': 'Suwon FC', 'price': 4.6}, {'name': 'Ulsan Hyundai FC', 'price': 1.65}, {'name': 'Draw', 'price': 3.65}]}]}, {'key': 'williamhill_us', 'title': 'William Hill (US)', 'last_update': '2023-06-06T07:50:12Z', 'markets': [{'key': 'h2h', 'last_update': '2023-06-06T07:50:12Z', 'outcomes': [{'name': 'Suwon FC', 'price': 2.45}, {'name': 'Ulsan Hyundai FC', 'price': 2.6}, {'name': 'Draw', 'price': 3.3}]}]}, {'key': 'foxbet', 'title': 'FOX Bet', 'last_update': '2023-06-06T07:50:12Z', 'markets': [{'key': 'h2h', 'last_update': '2023-06-06T07:50:12Z', 'outcomes': [{'name': 'Suwon FC', 'price': 4.8}, {'name': 'Ulsan Hyundai FC', 'price': 1.62}, {'name': 'Draw', 'price': 3.6}]}]}, {'key': 'bovada', 'title': 'Bovada', 'last_update': '2023-06-06T07:50:30Z', 'markets': [{'key': 'h2h', 'last_update': '2023-06-06T07:50:30Z', 'outcomes': [{'name': 'Suwon FC', 'price': 2.18}, {'name': 'Ulsan Hyundai FC', 'price': 2.9}, {'name': 'Draw', 'price': 3.6}]}]}, {'key': 'betmgm', 'title': 'BetMGM', 'last_update': '2023-06-06T07:49:51Z', 'markets': [{'key': 'h2h', 'last_update': '2023-06-06T07:49:51Z', 'outcomes': [{'name': 'Suwon FC', 'price': 2.25}, {'name': 'Ulsan Hyundai FC', 'price': 2.55}, {'name': 'Draw', 'price': 3.4}]}]}, {'key': 'draftkings', 'title': 'DraftKings', 'last_update': '2023-06-06T07:50:31Z', 'markets': [{'key': 'h2h', 'last_update': '2023-06-06T07:50:31Z', 'outcomes': [{'name': 'Suwon FC', 'price': 2.35}, {'name': 'Ulsan Hyundai FC', 'price': 2.8}, {'name': 'Draw', 'price': 3.55}]}]}]}\n",
      "{'id': 'ea3c13931d9b63c07a78f1252fbb327b', 'sport_key': 'tennis_wta_french_open', 'sport_title': 'WTA French Open', 'commence_time': '2023-06-06T09:00:00Z', 'home_team': 'Karolina Muchova', 'away_team': 'Anastasia Pavlyuchenkova', 'bookmakers': [{'key': 'barstool', 'title': 'Barstool Sportsbook', 'last_update': '2023-06-06T07:49:47Z', 'markets': [{'key': 'h2h', 'last_update': '2023-06-06T07:49:47Z', 'outcomes': [{'name': 'Anastasia Pavlyuchenkova', 'price': 2.43}, {'name': 'Karolina Muchova', 'price': 1.57}]}]}, {'key': 'foxbet', 'title': 'FOX Bet', 'last_update': '2023-06-06T07:50:00Z', 'markets': [{'key': 'h2h', 'last_update': '2023-06-06T07:50:00Z', 'outcomes': [{'name': 'Anastasia Pavlyuchenkova', 'price': 2.35}, {'name': 'Karolina Muchova', 'price': 1.55}]}]}, {'key': 'draftkings', 'title': 'DraftKings', 'last_update': '2023-06-06T07:49:44Z', 'markets': [{'key': 'h2h', 'last_update': '2023-06-06T07:49:44Z', 'outcomes': [{'name': 'Anastasia Pavlyuchenkova', 'price': 2.4}, {'name': 'Karolina Muchova', 'price': 1.59}]}]}, {'key': 'betrivers', 'title': 'BetRivers', 'last_update': '2023-06-06T07:49:54Z', 'markets': [{'key': 'h2h', 'last_update': '2023-06-06T07:49:54Z', 'outcomes': [{'name': 'Anastasia Pavlyuchenkova', 'price': 2.43}, {'name': 'Karolina Muchova', 'price': 1.57}]}]}, {'key': 'unibet_us', 'title': 'Unibet', 'last_update': '2023-06-06T07:50:34Z', 'markets': [{'key': 'h2h', 'last_update': '2023-06-06T07:50:34Z', 'outcomes': [{'name': 'Anastasia Pavlyuchenkova', 'price': 2.43}, {'name': 'Karolina Muchova', 'price': 1.57}]}]}, {'key': 'mybookieag', 'title': 'MyBookie.ag', 'last_update': '2023-06-06T07:50:03Z', 'markets': [{'key': 'h2h', 'last_update': '2023-06-06T07:50:03Z', 'outcomes': [{'name': 'Anastasia Pavlyuchenkova', 'price': 2.37}, {'name': 'Karolina Muchova', 'price': 1.57}]}]}, {'key': 'twinspires', 'title': 'TwinSpires', 'last_update': '2023-06-06T07:49:44Z', 'markets': [{'key': 'h2h', 'last_update': '2023-06-06T07:49:44Z', 'outcomes': [{'name': 'Anastasia Pavlyuchenkova', 'price': 2.43}, {'name': 'Karolina Muchova', 'price': 1.57}]}]}, {'key': 'betmgm', 'title': 'BetMGM', 'last_update': '2023-06-06T07:50:32Z', 'markets': [{'key': 'h2h', 'last_update': '2023-06-06T07:50:32Z', 'outcomes': [{'name': 'Anastasia Pavlyuchenkova', 'price': 2.45}, {'name': 'Karolina Muchova', 'price': 1.54}]}]}, {'key': 'lowvig', 'title': 'LowVig.ag', 'last_update': '2023-06-06T07:50:33Z', 'markets': [{'key': 'h2h', 'last_update': '2023-06-06T07:50:33Z', 'outcomes': [{'name': 'Anastasia Pavlyuchenkova', 'price': 2.44}, {'name': 'Karolina Muchova', 'price': 1.61}]}]}, {'key': 'betonlineag', 'title': 'BetOnline.ag', 'last_update': '2023-06-06T07:49:54Z', 'markets': [{'key': 'h2h', 'last_update': '2023-06-06T07:49:54Z', 'outcomes': [{'name': 'Anastasia Pavlyuchenkova', 'price': 2.44}, {'name': 'Karolina Muchova', 'price': 1.61}]}]}, {'key': 'fanduel', 'title': 'FanDuel', 'last_update': '2023-06-06T07:50:13Z', 'markets': [{'key': 'h2h', 'last_update': '2023-06-06T07:50:13Z', 'outcomes': [{'name': 'Anastasia Pavlyuchenkova', 'price': 2.44}, {'name': 'Karolina Muchova', 'price': 1.6}]}]}]}\n",
      "{'id': '7b4577d4e2a27300c2e4e89a7c8178b2', 'sport_key': 'soccer_korea_kleague1', 'sport_title': 'K League 1', 'commence_time': '2023-06-06T09:00:00Z', 'home_team': 'Pohang Steelers', 'away_team': 'Jeju United FC', 'bookmakers': [{'key': 'williamhill_us', 'title': 'William Hill (US)', 'last_update': '2023-06-06T07:50:12Z', 'markets': [{'key': 'h2h', 'last_update': '2023-06-06T07:50:12Z', 'outcomes': [{'name': 'Jeju United FC', 'price': 3.5}, {'name': 'Pohang Steelers', 'price': 2.02}, {'name': 'Draw', 'price': 3.2}]}]}, {'key': 'mybookieag', 'title': 'MyBookie.ag', 'last_update': '2023-06-06T07:50:20Z', 'markets': [{'key': 'h2h', 'last_update': '2023-06-06T07:50:20Z', 'outcomes': [{'name': 'Jeju United FC', 'price': 3.4}, {'name': 'Pohang Steelers', 'price': 2.07}, {'name': 'Draw', 'price': 3.5}]}]}, {'key': 'bovada', 'title': 'Bovada', 'last_update': '2023-06-06T07:50:30Z', 'markets': [{'key': 'h2h', 'last_update': '2023-06-06T07:50:30Z', 'outcomes': [{'name': 'Jeju United FC', 'price': 3.4}, {'name': 'Pohang Steelers', 'price': 2.1}, {'name': 'Draw', 'price': 3.4}]}]}, {'key': 'foxbet', 'title': 'FOX Bet', 'last_update': '2023-06-06T07:50:12Z', 'markets': [{'key': 'h2h', 'last_update': '2023-06-06T07:50:12Z', 'outcomes': [{'name': 'Jeju United FC', 'price': 3.45}, {'name': 'Pohang Steelers', 'price': 2.0}, {'name': 'Draw', 'price': 3.45}]}]}, {'key': 'betmgm', 'title': 'BetMGM', 'last_update': '2023-06-06T07:49:51Z', 'markets': [{'key': 'h2h', 'last_update': '2023-06-06T07:49:51Z', 'outcomes': [{'name': 'Jeju United FC', 'price': 3.4}, {'name': 'Pohang Steelers', 'price': 2.0}, {'name': 'Draw', 'price': 3.5}]}]}, {'key': 'draftkings', 'title': 'DraftKings', 'last_update': '2023-06-06T07:50:31Z', 'markets': [{'key': 'h2h', 'last_update': '2023-06-06T07:50:31Z', 'outcomes': [{'name': 'Jeju United FC', 'price': 3.55}, {'name': 'Pohang Steelers', 'price': 2.05}, {'name': 'Draw', 'price': 3.55}]}]}, {'key': 'betus', 'title': 'BetUS', 'last_update': '2023-06-06T07:50:00Z', 'markets': [{'key': 'h2h', 'last_update': '2023-06-06T07:50:00Z', 'outcomes': [{'name': 'Jeju United FC', 'price': 3.4}, {'name': 'Pohang Steelers', 'price': 2.1}, {'name': 'Draw', 'price': 3.35}]}]}]}\n",
      "{'id': '40f1cdad0dc30150a16e605b846e9b3b', 'sport_key': 'tennis_wta_french_open', 'sport_title': 'WTA French Open', 'commence_time': '2023-06-06T10:30:00Z', 'home_team': 'Elina Svitolina', 'away_team': 'Aryna Sabalenka', 'bookmakers': [{'key': 'barstool', 'title': 'Barstool Sportsbook', 'last_update': '2023-06-06T07:49:47Z', 'markets': [{'key': 'h2h', 'last_update': '2023-06-06T07:49:47Z', 'outcomes': [{'name': 'Aryna Sabalenka', 'price': 1.22}, {'name': 'Elina Svitolina', 'price': 4.5}]}]}, {'key': 'betrivers', 'title': 'BetRivers', 'last_update': '2023-06-06T07:49:54Z', 'markets': [{'key': 'h2h', 'last_update': '2023-06-06T07:49:54Z', 'outcomes': [{'name': 'Aryna Sabalenka', 'price': 1.22}, {'name': 'Elina Svitolina', 'price': 4.5}]}]}, {'key': 'draftkings', 'title': 'DraftKings', 'last_update': '2023-06-06T07:49:44Z', 'markets': [{'key': 'h2h', 'last_update': '2023-06-06T07:49:44Z', 'outcomes': [{'name': 'Aryna Sabalenka', 'price': 1.22}, {'name': 'Elina Svitolina', 'price': 4.4}]}]}, {'key': 'twinspires', 'title': 'TwinSpires', 'last_update': '2023-06-06T07:49:44Z', 'markets': [{'key': 'h2h', 'last_update': '2023-06-06T07:49:44Z', 'outcomes': [{'name': 'Aryna Sabalenka', 'price': 1.22}, {'name': 'Elina Svitolina', 'price': 4.5}]}]}, {'key': 'foxbet', 'title': 'FOX Bet', 'last_update': '2023-06-06T07:50:00Z', 'markets': [{'key': 'h2h', 'last_update': '2023-06-06T07:50:00Z', 'outcomes': [{'name': 'Aryna Sabalenka', 'price': 1.22}, {'name': 'Elina Svitolina', 'price': 4.0}]}]}, {'key': 'betmgm', 'title': 'BetMGM', 'last_update': '2023-06-06T07:50:32Z', 'markets': [{'key': 'h2h', 'last_update': '2023-06-06T07:50:32Z', 'outcomes': [{'name': 'Aryna Sabalenka', 'price': 1.22}, {'name': 'Elina Svitolina', 'price': 4.4}]}]}, {'key': 'unibet_us', 'title': 'Unibet', 'last_update': '2023-06-06T07:50:34Z', 'markets': [{'key': 'h2h', 'last_update': '2023-06-06T07:50:34Z', 'outcomes': [{'name': 'Aryna Sabalenka', 'price': 1.22}, {'name': 'Elina Svitolina', 'price': 4.5}]}]}, {'key': 'mybookieag', 'title': 'MyBookie.ag', 'last_update': '2023-06-06T07:50:03Z', 'markets': [{'key': 'h2h', 'last_update': '2023-06-06T07:50:03Z', 'outcomes': [{'name': 'Aryna Sabalenka', 'price': 1.21}, {'name': 'Elina Svitolina', 'price': 4.3}]}]}, {'key': 'fanduel', 'title': 'FanDuel', 'last_update': '2023-06-06T07:50:13Z', 'markets': [{'key': 'h2h', 'last_update': '2023-06-06T07:50:13Z', 'outcomes': [{'name': 'Aryna Sabalenka', 'price': 1.22}, {'name': 'Elina Svitolina', 'price': 4.7}]}]}, {'key': 'betonlineag', 'title': 'BetOnline.ag', 'last_update': '2023-06-06T07:49:54Z', 'markets': [{'key': 'h2h', 'last_update': '2023-06-06T07:49:54Z', 'outcomes': [{'name': 'Aryna Sabalenka', 'price': 1.25}, {'name': 'Elina Svitolina', 'price': 4.28}]}]}, {'key': 'lowvig', 'title': 'LowVig.ag', 'last_update': '2023-06-06T07:50:33Z', 'markets': [{'key': 'h2h', 'last_update': '2023-06-06T07:50:33Z', 'outcomes': [{'name': 'Aryna Sabalenka', 'price': 1.25}, {'name': 'Elina Svitolina', 'price': 4.28}]}]}]}\n",
      "{'id': 'd6f7a1f5fdacb7cc0f038f2c1277a81b', 'sport_key': 'tennis_atp_french_open', 'sport_title': 'ATP French Open', 'commence_time': '2023-06-06T11:45:00Z', 'home_team': 'Novak Djokovic', 'away_team': 'Karen Khachanov', 'bookmakers': [{'key': 'mybookieag', 'title': 'MyBookie.ag', 'last_update': '2023-06-06T07:50:07Z', 'markets': [{'key': 'h2h', 'last_update': '2023-06-06T07:50:07Z', 'outcomes': [{'name': 'Karen Khachanov', 'price': 7.9}, {'name': 'Novak Djokovic', 'price': 1.07}]}]}, {'key': 'unibet_us', 'title': 'Unibet', 'last_update': '2023-06-06T07:50:32Z', 'markets': [{'key': 'h2h', 'last_update': '2023-06-06T07:50:32Z', 'outcomes': [{'name': 'Karen Khachanov', 'price': 8.0}, {'name': 'Novak Djokovic', 'price': 1.09}]}]}, {'key': 'barstool', 'title': 'Barstool Sportsbook', 'last_update': '2023-06-06T07:49:56Z', 'markets': [{'key': 'h2h', 'last_update': '2023-06-06T07:49:56Z', 'outcomes': [{'name': 'Karen Khachanov', 'price': 8.0}, {'name': 'Novak Djokovic', 'price': 1.09}]}]}, {'key': 'foxbet', 'title': 'FOX Bet', 'last_update': '2023-06-06T07:49:26Z', 'markets': [{'key': 'h2h', 'last_update': '2023-06-06T07:49:26Z', 'outcomes': [{'name': 'Karen Khachanov', 'price': 7.0}, {'name': 'Novak Djokovic', 'price': 1.08}]}]}, {'key': 'draftkings', 'title': 'DraftKings', 'last_update': '2023-06-06T07:50:21Z', 'markets': [{'key': 'h2h', 'last_update': '2023-06-06T07:50:21Z', 'outcomes': [{'name': 'Karen Khachanov', 'price': 8.0}, {'name': 'Novak Djokovic', 'price': 1.09}]}]}, {'key': 'betrivers', 'title': 'BetRivers', 'last_update': '2023-06-06T07:49:40Z', 'markets': [{'key': 'h2h', 'last_update': '2023-06-06T07:49:40Z', 'outcomes': [{'name': 'Karen Khachanov', 'price': 8.0}, {'name': 'Novak Djokovic', 'price': 1.09}]}]}, {'key': 'twinspires', 'title': 'TwinSpires', 'last_update': '2023-06-06T07:50:21Z', 'markets': [{'key': 'h2h', 'last_update': '2023-06-06T07:50:21Z', 'outcomes': [{'name': 'Karen Khachanov', 'price': 8.0}, {'name': 'Novak Djokovic', 'price': 1.09}]}]}, {'key': 'lowvig', 'title': 'LowVig.ag', 'last_update': '2023-06-06T07:49:30Z', 'markets': [{'key': 'h2h', 'last_update': '2023-06-06T07:49:30Z', 'outcomes': [{'name': 'Karen Khachanov', 'price': 9.25}, {'name': 'Novak Djokovic', 'price': 1.07}]}]}, {'key': 'betonlineag', 'title': 'BetOnline.ag', 'last_update': '2023-06-06T07:50:17Z', 'markets': [{'key': 'h2h', 'last_update': '2023-06-06T07:50:17Z', 'outcomes': [{'name': 'Karen Khachanov', 'price': 9.25}, {'name': 'Novak Djokovic', 'price': 1.07}]}]}, {'key': 'betmgm', 'title': 'BetMGM', 'last_update': '2023-06-06T07:49:03Z', 'markets': [{'key': 'h2h', 'last_update': '2023-06-06T07:49:03Z', 'outcomes': [{'name': 'Karen Khachanov', 'price': 8.5}, {'name': 'Novak Djokovic', 'price': 1.07}]}]}, {'key': 'fanduel', 'title': 'FanDuel', 'last_update': '2023-06-06T07:50:21Z', 'markets': [{'key': 'h2h', 'last_update': '2023-06-06T07:50:21Z', 'outcomes': [{'name': 'Karen Khachanov', 'price': 9.1}, {'name': 'Novak Djokovic', 'price': 1.06}]}]}]}\n",
      "{'id': 'e4b82750152fc0134388bea926e6b592', 'sport_key': 'cricket_odi', 'sport_title': 'One Day Internationals', 'commence_time': '2023-06-06T12:30:00Z', 'home_team': 'United Arab Emirates', 'away_team': 'West Indies', 'bookmakers': [{'key': 'draftkings', 'title': 'DraftKings', 'last_update': '2023-06-06T07:50:31Z', 'markets': [{'key': 'h2h', 'last_update': '2023-06-06T07:50:31Z', 'outcomes': [{'name': 'United Arab Emirates', 'price': 4.9}, {'name': 'West Indies', 'price': 1.17}]}]}, {'key': 'unibet_us', 'title': 'Unibet', 'last_update': '2023-06-06T07:49:17Z', 'markets': [{'key': 'h2h', 'last_update': '2023-06-06T07:49:17Z', 'outcomes': [{'name': 'United Arab Emirates', 'price': 4.75}, {'name': 'West Indies', 'price': 1.17}]}]}]}\n",
      "{'id': '6c091a7e1cf9a96582884af66dc5b7fd', 'sport_key': 'soccer_sweden_superettan', 'sport_title': 'Superettan - Sweden', 'commence_time': '2023-06-06T13:00:00Z', 'home_team': 'GIF Sundsvall', 'away_team': 'GAIS', 'bookmakers': [{'key': 'fanduel', 'title': 'FanDuel', 'last_update': '2023-06-06T07:49:32Z', 'markets': [{'key': 'h2h', 'last_update': '2023-06-06T07:49:32Z', 'outcomes': [{'name': 'GAIS', 'price': 1.67}, {'name': 'GIF Sundsvall', 'price': 4.4}, {'name': 'Draw', 'price': 3.8}]}]}, {'key': 'bovada', 'title': 'Bovada', 'last_update': '2023-06-06T07:49:42Z', 'markets': [{'key': 'h2h', 'last_update': '2023-06-06T07:49:42Z', 'outcomes': [{'name': 'GAIS', 'price': 1.77}, {'name': 'GIF Sundsvall', 'price': 4.1}, {'name': 'Draw', 'price': 3.7}]}]}, {'key': 'foxbet', 'title': 'FOX Bet', 'last_update': '2023-06-06T07:50:10Z', 'markets': [{'key': 'h2h', 'last_update': '2023-06-06T07:50:10Z', 'outcomes': [{'name': 'GAIS', 'price': 1.67}, {'name': 'GIF Sundsvall', 'price': 3.9}, {'name': 'Draw', 'price': 3.5}]}]}, {'key': 'mybookieag', 'title': 'MyBookie.ag', 'last_update': '2023-06-06T07:49:09Z', 'markets': [{'key': 'h2h', 'last_update': '2023-06-06T07:49:09Z', 'outcomes': [{'name': 'GAIS', 'price': 1.76}, {'name': 'GIF Sundsvall', 'price': 4.2}, {'name': 'Draw', 'price': 3.9}]}]}, {'key': 'williamhill_us', 'title': 'William Hill (US)', 'last_update': '2023-06-06T07:49:17Z', 'markets': [{'key': 'h2h', 'last_update': '2023-06-06T07:49:17Z', 'outcomes': [{'name': 'GAIS', 'price': 1.69}, {'name': 'GIF Sundsvall', 'price': 4.3}, {'name': 'Draw', 'price': 3.55}]}]}, {'key': 'betus', 'title': 'BetUS', 'last_update': '2023-06-06T07:50:13Z', 'markets': [{'key': 'h2h', 'last_update': '2023-06-06T07:50:13Z', 'outcomes': [{'name': 'GAIS', 'price': 1.8}, {'name': 'GIF Sundsvall', 'price': 3.9}, {'name': 'Draw', 'price': 3.7}]}]}, {'key': 'lowvig', 'title': 'LowVig.ag', 'last_update': '2023-06-06T07:49:25Z', 'markets': [{'key': 'h2h', 'last_update': '2023-06-06T07:49:25Z', 'outcomes': [{'name': 'GAIS', 'price': 1.7}, {'name': 'GIF Sundsvall', 'price': 4.15}, {'name': 'Draw', 'price': 3.85}]}]}, {'key': 'betonlineag', 'title': 'BetOnline.ag', 'last_update': '2023-06-06T07:50:17Z', 'markets': [{'key': 'h2h', 'last_update': '2023-06-06T07:50:17Z', 'outcomes': [{'name': 'GAIS', 'price': 1.7}, {'name': 'GIF Sundsvall', 'price': 4.15}, {'name': 'Draw', 'price': 3.85}]}]}]}\n",
      "{'id': '39cdd05e35603b3da165c8893012466b', 'sport_key': 'soccer_sweden_superettan', 'sport_title': 'Superettan - Sweden', 'commence_time': '2023-06-06T13:00:00Z', 'home_team': 'Helsingborgs IF', 'away_team': 'Jönköpings Södra IF', 'bookmakers': [{'key': 'fanduel', 'title': 'FanDuel', 'last_update': '2023-06-06T07:49:32Z', 'markets': [{'key': 'h2h', 'last_update': '2023-06-06T07:49:32Z', 'outcomes': [{'name': 'Helsingborgs IF', 'price': 2.6}, {'name': 'Jönköpings Södra IF', 'price': 2.5}, {'name': 'Draw', 'price': 3.2}]}]}, {'key': 'foxbet', 'title': 'FOX Bet', 'last_update': '2023-06-06T07:50:10Z', 'markets': [{'key': 'h2h', 'last_update': '2023-06-06T07:50:10Z', 'outcomes': [{'name': 'Helsingborgs IF', 'price': 2.5}, {'name': 'Jönköpings Södra IF', 'price': 2.38}, {'name': 'Draw', 'price': 3.1}]}]}, {'key': 'bovada', 'title': 'Bovada', 'last_update': '2023-06-06T07:49:42Z', 'markets': [{'key': 'h2h', 'last_update': '2023-06-06T07:49:42Z', 'outcomes': [{'name': 'Helsingborgs IF', 'price': 2.65}, {'name': 'Jönköpings Södra IF', 'price': 2.6}, {'name': 'Draw', 'price': 3.2}]}]}, {'key': 'mybookieag', 'title': 'MyBookie.ag', 'last_update': '2023-06-06T07:49:09Z', 'markets': [{'key': 'h2h', 'last_update': '2023-06-06T07:49:09Z', 'outcomes': [{'name': 'Helsingborgs IF', 'price': 2.65}, {'name': 'Jönköpings Södra IF', 'price': 2.6}, {'name': 'Draw', 'price': 3.35}]}]}, {'key': 'williamhill_us', 'title': 'William Hill (US)', 'last_update': '2023-06-06T07:49:17Z', 'markets': [{'key': 'h2h', 'last_update': '2023-06-06T07:49:17Z', 'outcomes': [{'name': 'Helsingborgs IF', 'price': 2.65}, {'name': 'Jönköpings Södra IF', 'price': 2.45}, {'name': 'Draw', 'price': 3.1}]}]}, {'key': 'betus', 'title': 'BetUS', 'last_update': '2023-06-06T07:50:13Z', 'markets': [{'key': 'h2h', 'last_update': '2023-06-06T07:50:13Z', 'outcomes': [{'name': 'Helsingborgs IF', 'price': 2.45}, {'name': 'Jönköpings Södra IF', 'price': 2.75}, {'name': 'Draw', 'price': 3.3}]}]}, {'key': 'lowvig', 'title': 'LowVig.ag', 'last_update': '2023-06-06T07:49:25Z', 'markets': [{'key': 'h2h', 'last_update': '2023-06-06T07:49:25Z', 'outcomes': [{'name': 'Helsingborgs IF', 'price': 2.58}, {'name': 'Jönköpings Södra IF', 'price': 2.48}, {'name': 'Draw', 'price': 3.45}]}]}, {'key': 'betonlineag', 'title': 'BetOnline.ag', 'last_update': '2023-06-06T07:50:17Z', 'markets': [{'key': 'h2h', 'last_update': '2023-06-06T07:50:17Z', 'outcomes': [{'name': 'Helsingborgs IF', 'price': 2.58}, {'name': 'Jönköpings Södra IF', 'price': 2.48}, {'name': 'Draw', 'price': 3.45}]}]}]}\n",
      "{'id': 'e20c1d6de2df55c86800ee0094b7489d', 'sport_key': 'soccer_sweden_superettan', 'sport_title': 'Superettan - Sweden', 'commence_time': '2023-06-06T13:00:00Z', 'home_team': 'Örgryte IS', 'away_team': 'Landskrona BoIS', 'bookmakers': [{'key': 'fanduel', 'title': 'FanDuel', 'last_update': '2023-06-06T07:49:32Z', 'markets': [{'key': 'h2h', 'last_update': '2023-06-06T07:49:32Z', 'outcomes': [{'name': 'Landskrona BoIS', 'price': 3.3}, {'name': 'Örgryte IS', 'price': 2.05}, {'name': 'Draw', 'price': 3.3}]}]}, {'key': 'foxbet', 'title': 'FOX Bet', 'last_update': '2023-06-06T07:50:10Z', 'markets': [{'key': 'h2h', 'last_update': '2023-06-06T07:50:10Z', 'outcomes': [{'name': 'Landskrona BoIS', 'price': 3.0}, {'name': 'Örgryte IS', 'price': 2.05}, {'name': 'Draw', 'price': 3.15}]}]}, {'key': 'bovada', 'title': 'Bovada', 'last_update': '2023-06-06T07:49:42Z', 'markets': [{'key': 'h2h', 'last_update': '2023-06-06T07:49:42Z', 'outcomes': [{'name': 'Landskrona BoIS', 'price': 3.2}, {'name': 'Örgryte IS', 'price': 2.15}, {'name': 'Draw', 'price': 3.3}]}]}, {'key': 'mybookieag', 'title': 'MyBookie.ag', 'last_update': '2023-06-06T07:49:09Z', 'markets': [{'key': 'h2h', 'last_update': '2023-06-06T07:49:09Z', 'outcomes': [{'name': 'Landskrona BoIS', 'price': 3.25}, {'name': 'Örgryte IS', 'price': 2.15}, {'name': 'Draw', 'price': 3.45}]}]}, {'key': 'williamhill_us', 'title': 'William Hill (US)', 'last_update': '2023-06-06T07:49:17Z', 'markets': [{'key': 'h2h', 'last_update': '2023-06-06T07:49:17Z', 'outcomes': [{'name': 'Landskrona BoIS', 'price': 3.15}, {'name': 'Örgryte IS', 'price': 2.08}, {'name': 'Draw', 'price': 3.25}]}]}, {'key': 'betonlineag', 'title': 'BetOnline.ag', 'last_update': '2023-06-06T07:50:17Z', 'markets': [{'key': 'h2h', 'last_update': '2023-06-06T07:50:17Z', 'outcomes': [{'name': 'Landskrona BoIS', 'price': 3.15}, {'name': 'Örgryte IS', 'price': 2.16}, {'name': 'Draw', 'price': 3.3}]}]}, {'key': 'lowvig', 'title': 'LowVig.ag', 'last_update': '2023-06-06T07:49:25Z', 'markets': [{'key': 'h2h', 'last_update': '2023-06-06T07:49:25Z', 'outcomes': [{'name': 'Landskrona BoIS', 'price': 3.15}, {'name': 'Örgryte IS', 'price': 2.16}, {'name': 'Draw', 'price': 3.3}]}]}, {'key': 'betus', 'title': 'BetUS', 'last_update': '2023-06-06T07:50:13Z', 'markets': [{'key': 'h2h', 'last_update': '2023-06-06T07:50:13Z', 'outcomes': [{'name': 'Landskrona BoIS', 'price': 3.4}, {'name': 'Örgryte IS', 'price': 2.05}, {'name': 'Draw', 'price': 3.45}]}]}]}\n"
     ]
    }
   ],
   "source": [
    "events = []  # Create an empty list to store events\n",
    "\n",
    "for data in odds_response:\n",
    "    events.append(Event(data))  # Create an Event object for each data item and add it to the events list\n",
    "    print(data) \n",
    "\n",
    "arbitrage_events = []  # Create an empty list to store arbitrage events\n",
    "\n",
    "for event in events:\n",
    "    best_odds = event.find_best_odds()  # Find the best odds for the event\n",
    "    if event.arbitrage():  # Check if the event presents an arbitrage opportunity\n",
    "        arbitrage_events.append(event)  # If so, add the event to the arbitrage_events list\n",
    "\n",
    "for event in arbitrage_events:\n",
    "    event.calculate_arbitrage_bets()  # Calculate the bet amounts for the event's arbitrage bets\n",
    "    event.convert_decimal_to_american()  # Convert the decimal odds to American odds\n",
    "\n"
   ]
  },
  {
   "cell_type": "code",
   "execution_count": 7,
   "id": "66966930",
   "metadata": {},
   "outputs": [
    {
     "name": "stdout",
     "output_type": "stream",
     "text": [
      "{'id': 'a0ed2a3568aea5e491139b72b0e1a1a9', 'sport_key': 'soccer_korea_kleague1', 'sport_title': 'K League 1', 'commence_time': '2023-06-06T07:30:39Z', 'home_team': 'Suwon FC', 'away_team': 'Ulsan Hyundai FC', 'bookmakers': [{'key': 'mybookieag', 'title': 'MyBookie.ag', 'last_update': '2023-06-06T07:50:20Z', 'markets': [{'key': 'h2h', 'last_update': '2023-06-06T07:50:20Z', 'outcomes': [{'name': 'Suwon FC', 'price': 4.6}, {'name': 'Ulsan Hyundai FC', 'price': 1.65}, {'name': 'Draw', 'price': 3.65}]}]}, {'key': 'williamhill_us', 'title': 'William Hill (US)', 'last_update': '2023-06-06T07:50:12Z', 'markets': [{'key': 'h2h', 'last_update': '2023-06-06T07:50:12Z', 'outcomes': [{'name': 'Suwon FC', 'price': 2.45}, {'name': 'Ulsan Hyundai FC', 'price': 2.6}, {'name': 'Draw', 'price': 3.3}]}]}, {'key': 'foxbet', 'title': 'FOX Bet', 'last_update': '2023-06-06T07:50:12Z', 'markets': [{'key': 'h2h', 'last_update': '2023-06-06T07:50:12Z', 'outcomes': [{'name': 'Suwon FC', 'price': 4.8}, {'name': 'Ulsan Hyundai FC', 'price': 1.62}, {'name': 'Draw', 'price': 3.6}]}]}, {'key': 'bovada', 'title': 'Bovada', 'last_update': '2023-06-06T07:50:30Z', 'markets': [{'key': 'h2h', 'last_update': '2023-06-06T07:50:30Z', 'outcomes': [{'name': 'Suwon FC', 'price': 2.18}, {'name': 'Ulsan Hyundai FC', 'price': 2.9}, {'name': 'Draw', 'price': 3.6}]}]}, {'key': 'betmgm', 'title': 'BetMGM', 'last_update': '2023-06-06T07:49:51Z', 'markets': [{'key': 'h2h', 'last_update': '2023-06-06T07:49:51Z', 'outcomes': [{'name': 'Suwon FC', 'price': 2.25}, {'name': 'Ulsan Hyundai FC', 'price': 2.55}, {'name': 'Draw', 'price': 3.4}]}]}, {'key': 'draftkings', 'title': 'DraftKings', 'last_update': '2023-06-06T07:50:31Z', 'markets': [{'key': 'h2h', 'last_update': '2023-06-06T07:50:31Z', 'outcomes': [{'name': 'Suwon FC', 'price': 2.35}, {'name': 'Ulsan Hyundai FC', 'price': 2.8}, {'name': 'Draw', 'price': 3.55}]}]}]}\n"
     ]
    }
   ],
   "source": [
    "with open('2_arbitrage_events.txt', 'w') as file:\n",
    "    for event in arbitrage_events:\n",
    "        event.calculate_arbitrage_bets()\n",
    "        event.convert_decimal_to_american()\n",
    "        file.write(str(event.data) + '\\n')\n",
    "        print(event.data)"
   ]
  },
  {
   "attachments": {},
   "cell_type": "markdown",
   "id": "4cf86515",
   "metadata": {},
   "source": [
    "### Creating Dataframe and Writing to Excel File\n",
    "\n",
    "This part generates an Excel file that presents information about arbitrage events, including their IDs, sport keys, expected earnings, and details about each outcome's bookmaker, name, odds, and bet amount."
   ]
  },
  {
   "cell_type": "code",
   "execution_count": 8,
   "id": "bdc8da60",
   "metadata": {},
   "outputs": [
    {
     "name": "stdout",
     "output_type": "stream",
     "text": [
      "[['FOX Bet', 'Suwon FC', 37900.0], ['Bovada', 'Ulsan Hyundai FC', 18900.0], ['MyBookie.ag', 'Draw', 26400.0]]\n"
     ]
    }
   ],
   "source": [
    "try:\n",
    "    MAX_OUTCOMES = max([event.num_outcomes for event in arbitrage_events])  # Find the maximum number of outcomes among all arbitrage events\n",
    "except ValueError:\n",
    "    print(\"No arbitrage events found.\")  # If there are no arbitrage events, print a message\n",
    "    MAX_OUTCOMES = 0\n",
    "\n",
    "ARBITRAGE_EVENTS_COUNT = len(arbitrage_events)  # Count the number of arbitrage events\n",
    "\n",
    "my_columns = [\n",
    "    'ID',\n",
    "    'Sport Key',\n",
    "    'Expected Earnings'\n",
    "] + list(\n",
    "    np.array([[f'Bookmaker #{outcome}', f'Name #{outcome}', f'Odds #{outcome}', f'Amount to Buy #{outcome}'] for outcome in range(1, MAX_OUTCOMES + 1)]).flatten()\n",
    ")  # Create a list of column names for the DataFrame\n",
    "\n",
    "dataframe = pd.DataFrame(columns=my_columns)  # Create an empty DataFrame with the specified column names\n",
    "\n",
    "for event in arbitrage_events:\n",
    "    print(event.best_odds)\n",
    "    row = [\n",
    "        event.id,\n",
    "        event.sport_key,\n",
    "        round(event.expected_earnings, 2)\n",
    "    ]  # Create a row with the event's ID, sport key, and rounded expected earnings\n",
    "\n",
    "    for index, outcome in enumerate(event.best_odds):\n",
    "        row += [\n",
    "            outcome[BOOKMAKER_INDEX],\n",
    "            outcome[NAME_INDEX],\n",
    "            outcome[ODDS_INDEX],\n",
    "            event.bet_amounts[index]\n",
    "        ]  # Add bookmaker, name, odds, and bet amount for each outcome to the row\n",
    "\n",
    "    while len(row) < len(my_columns):\n",
    "        row.append('N/A')  # Add 'N/A' for any remaining columns (if there are fewer outcomes than the maximum)\n",
    "\n",
    "    dataframe.loc[len(dataframe.index)] = row  # Add the row to the DataFrame\n",
    "\n",
    "with pd.ExcelWriter('3_arbitrage_bets.xlsx') as writer:\n",
    "    dataframe.to_excel(writer, index=False)  # Write the DataFrame to an Excel file, excluding the index\n"
   ]
  },
  {
   "cell_type": "code",
   "execution_count": 9,
   "id": "1976164f",
   "metadata": {},
   "outputs": [],
   "source": [
    "for event in arbitrage_events:\n",
    "    row = []  # Create an empty list to store the values for each row\n",
    "    row.append(event.id)  # Append the event id to the row list\n",
    "    row.append(event.sport_key)  # Append the sport key to the row list\n",
    "    row.append(round(event.expected_earnings, 2))  # Append the rounded expected earnings to the row list\n",
    "\n",
    "    for index, outcome in enumerate(event.best_odds):\n",
    "        # Append the bookmaker, name, odds, and bet amount for each outcome to the row list\n",
    "        row.append(outcome[BOOKMAKER_INDEX])\n",
    "        row.append(outcome[NAME_INDEX])\n",
    "        row.append(outcome[ODDS_INDEX])\n",
    "        row.append(event.bet_amounts[index])\n",
    "\n",
    "    # Add 'N/A' values to the row list to match the length of the dataframe columns\n",
    "    while len(row) < len(dataframe.columns):\n",
    "        row.append('N/A')\n",
    "\n",
    "    dataframe.loc[len(dataframe.index)] = row  # Add the row to the dataframe"
   ]
  },
  {
   "cell_type": "code",
   "execution_count": 10,
   "id": "9aacaf0d",
   "metadata": {},
   "outputs": [],
   "source": [
    "with pd.ExcelWriter('3_arbitrage_bets.xlsx') as writer:\n",
    "    dataframe.to_excel(writer, index=False)"
   ]
  },
  {
   "attachments": {},
   "cell_type": "markdown",
   "id": "84aa0611",
   "metadata": {},
   "source": [
    "### Formatting the Excel File\n",
    "\n",
    "This part of the code is responsible for applying formatting and styling to the cells in the Excel worksheet."
   ]
  },
  {
   "cell_type": "code",
   "execution_count": 11,
   "id": "917c28ca",
   "metadata": {},
   "outputs": [],
   "source": [
    "BLACK = '000000'  # Define color constant for black\n",
    "LIGHT_GREY = 'D6D6D6'  # Define color constant for light grey\n",
    "DARK_GREY = '9F9F9F'  # Define color constant for dark grey\n",
    "RED = 'FEA0A0'  # Define color constant for red\n",
    "BLUE = 'A0CEFE'  # Define color constant for blue\n",
    "YELLOW = 'FFE540'  # Define color constant for yellow\n",
    "\n",
    "COLORS = [RED, BLUE]  # Create a list of colors\n",
    "\n",
    "ID_COLUMN_FILL = PatternFill(fill_type='solid', start_color=DARK_GREY, end_color=DARK_GREY)  # Create fill pattern for ID column\n",
    "SPORT_KEY_COLUMN_FILL = PatternFill(fill_type='solid', start_color=LIGHT_GREY, end_color=LIGHT_GREY)  # Create fill pattern for sport key column\n",
    "EXPECTED_EARNINGS_COLUMN_FILL = PatternFill(fill_type='solid', start_color=YELLOW, end_color=YELLOW)  # Create fill pattern for expected earnings column\n",
    "\n",
    "CENTER_ALIGNMENT = Alignment(horizontal='center', vertical='bottom', indent=0)  # Define alignment style for center alignment\n",
    "\n",
    "TOP_ROW_BORDER = Border(bottom=Side(border_style='thick', color=BLACK))  # Define border style for top row\n",
    "NORMAL_ROW_BORDER = Border(top=Side(border_style='thin', color=LIGHT_GREY), bottom=Side(border_style='thin', color=DARK_GREY))  # Define border style for normal rows\n",
    "\n",
    "wb = load_workbook('3_arbitrage_bets.xlsx')  # Load the 'bets.xlsx' workbook\n",
    "ws = wb.active  # Select the active worksheet\n",
    "ws.title = 'Upcoming'  # Set the title of the worksheet to 'Upcoming'\n",
    "\n",
    "# Changing width of columns\n",
    "for col in range(1, 26):\n",
    "    ws.column_dimensions[chr(col + 64)].width = 20  # Set the width of each column\n",
    "\n",
    "# Apply fill and alignment styles to cells in column A for ID\n",
    "for cell in ws['A']:\n",
    "    cell.fill = ID_COLUMN_FILL\n",
    "    cell.alignment = CENTER_ALIGNMENT\n",
    "\n",
    "# Apply fill and alignment styles to cells in column B for sport key\n",
    "for cell in ws['B']:\n",
    "    cell.fill = SPORT_KEY_COLUMN_FILL\n",
    "    cell.alignment = CENTER_ALIGNMENT\n",
    "\n",
    "# Apply fill, alignment, and number format styles to cells in column C for expected earnings\n",
    "for cell in ws['C']:\n",
    "    cell.fill = EXPECTED_EARNINGS_COLUMN_FILL\n",
    "    cell.alignment = CENTER_ALIGNMENT\n",
    "    cell.number_format = numbers.BUILTIN_FORMATS[7]\n",
    "\n",
    "START_INDEX = 'D'\n",
    "# Apply alternating fill colors, alignment styles, and number formats to groups of four columns\n",
    "for index in range(MAX_OUTCOMES):\n",
    "    for col in ws[START_INDEX:chr(ord(START_INDEX) + 3)]:\n",
    "        for cell in col:\n",
    "            color = COLORS[int(index % 2)]\n",
    "            cell.fill = PatternFill(fill_type='solid', start_color=color, end_color=color)\n",
    "            cell.alignment = CENTER_ALIGNMENT\n",
    "            if cell.column % 4 == 3:\n",
    "                cell.number_format = numbers.BUILTIN_FORMATS[7]\n",
    "\n",
    "    START_INDEX = chr(ord(START_INDEX) + 4)\n",
    "\n",
    "# Apply border style to the top row of the worksheet\n",
    "for cell in ws['1']:\n",
    "    cell.border = TOP_ROW_BORDER\n",
    "\n",
    "# Apply border style to normal rows\n",
    "for row in range(2, ARBITRAGE_EVENTS_COUNT + 2):\n",
    "    for cell in ws[str(row)]:\n",
    "        cell.border = NORMAL_ROW_BORDER\n",
    "\n",
    "wb.save('3_arbitrage_bets.xlsx')  # Save the modified workbook\n"
   ]
  }
 ],
 "metadata": {
  "kernelspec": {
   "display_name": "Python 3 (ipykernel)",
   "language": "python",
   "name": "python3"
  },
  "language_info": {
   "codemirror_mode": {
    "name": "ipython",
    "version": 3
   },
   "file_extension": ".py",
   "mimetype": "text/x-python",
   "name": "python",
   "nbconvert_exporter": "python",
   "pygments_lexer": "ipython3",
   "version": "3.10.6"
  }
 },
 "nbformat": 4,
 "nbformat_minor": 5
}
