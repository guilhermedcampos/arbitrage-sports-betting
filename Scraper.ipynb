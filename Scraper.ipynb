{
 "cells": [
  {
   "attachments": {},
   "cell_type": "markdown",
   "id": "30146ed7",
   "metadata": {},
   "source": [
    "# Arbitrage Events Scraper"
   ]
  },
  {
   "attachments": {},
   "cell_type": "markdown",
   "id": "fa0524d5",
   "metadata": {},
   "source": [
    "This script will look for statistical arbitrage opportunities in the upcoming eight games across all sports using Live Sports Odds API.\n",
    "\n",
    "Documentation Link: https://the-odds-api.com/ "
   ]
  },
  {
   "attachments": {},
   "cell_type": "markdown",
   "id": "88d7d4e1",
   "metadata": {},
   "source": [
    "### Importing Libraries"
   ]
  },
  {
   "cell_type": "code",
   "execution_count": 2,
   "id": "31fa11dc",
   "metadata": {},
   "outputs": [],
   "source": [
    "import requests\n",
    "import json\n",
    "import xlsxwriter\n",
    "import pandas as pd\n",
    "import numpy as np\n",
    "import openpyxl\n",
    "import re\n",
    "import os\n",
    "from unidecode import unidecode\n",
    "from openpyxl import Workbook, load_workbook\n",
    "from openpyxl.styles import Border, Side, Font, Alignment, PatternFill, numbers"
   ]
  },
  {
   "attachments": {},
   "cell_type": "markdown",
   "id": "b99bcbe1",
   "metadata": {},
   "source": [
    "### Acquiring unique API_KEY  \n",
    "\n",
    "This key is unique. Retrieve one at TheOddsAPI website."
   ]
  },
  {
   "cell_type": "code",
   "execution_count": 2,
   "id": "65ad3c79",
   "metadata": {},
   "outputs": [],
   "source": [
    "API_KEY = '9decd631fa6303329122863cffa97744'"
   ]
  },
  {
   "attachments": {},
   "cell_type": "markdown",
   "id": "2728ca07",
   "metadata": {},
   "source": [
    "### Defining Constants and Making API Pull\n",
    "\n",
    "- ``BET_SIZE`` is the monetary amount in USD that you are willing to make for each bet. Defining ``BET_SIZE`` as 100 is telling the program that you want to bet a total of 100 dollars for each arbitrage opportunity that the program finds."
   ]
  },
  {
   "cell_type": "code",
   "execution_count": 3,
   "id": "b07f9912",
   "metadata": {
    "scrolled": false
   },
   "outputs": [],
   "source": [
    "SPORT = 'upcoming' # use the sport_key from the /sports endpoint below, or use 'upcoming' to see the next 8 games across all sports\n",
    "\n",
    "REGIONS = 'us' # uk | us | eu | au. Multiple can be specified if comma delimited\n",
    "\n",
    "MARKETS = 'h2h' # h2h | spreads | totals. Multiple can be specified if comma delimited\n",
    "\n",
    "ODDS_FORMAT = 'decimal' # decimal | american\n",
    "\n",
    "DATE_FORMAT = 'iso' # iso | unix\n",
    "\n",
    "BET_SIZE = 100\n",
    "\n",
    "odds_response = requests.get(\n",
    "    f'https://api.the-odds-api.com/v4/sports/{SPORT}/odds',\n",
    "    params={\n",
    "        'api_key': API_KEY,\n",
    "        'regions': REGIONS,\n",
    "        'markets': MARKETS,\n",
    "        'oddsFormat': ODDS_FORMAT,\n",
    "        'dateFormat': DATE_FORMAT,\n",
    "    }\n",
    ").json()"
   ]
  },
  {
   "cell_type": "code",
   "execution_count": 4,
   "id": "a406cfc7",
   "metadata": {},
   "outputs": [
    {
     "name": "stdout",
     "output_type": "stream",
     "text": [
      "[{'id': '5b8c49cf9b6b29f30a90677a43efd417', 'sport_key': 'cricket_t20_blast', 'sport_title': 'T20 Blast', 'commence_time': '2023-06-09T17:30:00Z', 'home_team': 'Derbyshire', 'away_team': 'Nottinghamshire', 'bookmakers': [{'key': 'bovada', 'title': 'Bovada', 'last_update': '2023-06-09T19:31:35Z', 'markets': [{'key': 'h2h', 'last_update': '2023-06-09T19:31:35Z', 'outcomes': [{'name': 'Derbyshire', 'price': 3.9}, {'name': 'Nottinghamshire', 'price': 1.23}]}]}]}, {'id': '33eeba08c8d4349b11af50e2dd7658b3', 'sport_key': 'soccer_league_of_ireland', 'sport_title': 'League of Ireland', 'commence_time': '2023-06-09T18:45:32Z', 'home_team': 'Derry City', 'away_team': 'Bohemians', 'bookmakers': [{'key': 'mybookieag', 'title': 'MyBookie.ag', 'last_update': '2023-06-09T19:31:29Z', 'markets': [{'key': 'h2h', 'last_update': '2023-06-09T19:31:29Z', 'outcomes': [{'name': 'Bohemians', 'price': 4.1}, {'name': 'Derry City', 'price': 2.3}, {'name': 'Draw', 'price': 2.35}]}]}, {'key': 'foxbet', 'title': 'FOX Bet', 'last_update': '2023-06-09T19:31:47Z', 'markets': [{'key': 'h2h', 'last_update': '2023-06-09T19:31:47Z', 'outcomes': [{'name': 'Bohemians', 'price': 3.8}, {'name': 'Derry City', 'price': 2.4}, {'name': 'Draw', 'price': 2.3}]}]}, {'key': 'draftkings', 'title': 'DraftKings', 'last_update': '2023-06-09T19:31:37Z', 'markets': [{'key': 'h2h', 'last_update': '2023-06-09T19:31:37Z', 'outcomes': [{'name': 'Bohemians', 'price': 4.5}, {'name': 'Derry City', 'price': 2.6}, {'name': 'Draw', 'price': 2.2}]}]}, {'key': 'bovada', 'title': 'Bovada', 'last_update': '2023-06-09T19:31:34Z', 'markets': [{'key': 'h2h', 'last_update': '2023-06-09T19:31:34Z', 'outcomes': [{'name': 'Bohemians', 'price': 4.3}, {'name': 'Derry City', 'price': 2.46}, {'name': 'Draw', 'price': 2.26}]}]}, {'key': 'williamhill_us', 'title': 'William Hill (US)', 'last_update': '2023-06-09T19:31:28Z', 'markets': [{'key': 'h2h', 'last_update': '2023-06-09T19:31:28Z', 'outcomes': [{'name': 'Bohemians', 'price': 3.95}, {'name': 'Derry City', 'price': 2.5}, {'name': 'Draw', 'price': 2.17}]}]}]}, {'id': 'f4c76a0f191f1ff8a31e6cd14f04d08f', 'sport_key': 'soccer_league_of_ireland', 'sport_title': 'League of Ireland', 'commence_time': '2023-06-09T18:45:45Z', 'home_team': 'Cork City', 'away_team': 'Dundalk', 'bookmakers': [{'key': 'mybookieag', 'title': 'MyBookie.ag', 'last_update': '2023-06-09T19:31:29Z', 'markets': [{'key': 'h2h', 'last_update': '2023-06-09T19:31:29Z', 'outcomes': [{'name': 'Cork City', 'price': 1.6}, {'name': 'Dundalk', 'price': 5.4}, {'name': 'Draw', 'price': 3.4}]}]}, {'key': 'foxbet', 'title': 'FOX Bet', 'last_update': '2023-06-09T19:31:47Z', 'markets': [{'key': 'h2h', 'last_update': '2023-06-09T19:31:47Z', 'outcomes': [{'name': 'Cork City', 'price': 1.62}, {'name': 'Dundalk', 'price': 5.5}, {'name': 'Draw', 'price': 3.15}]}]}, {'key': 'draftkings', 'title': 'DraftKings', 'last_update': '2023-06-09T19:31:37Z', 'markets': [{'key': 'h2h', 'last_update': '2023-06-09T19:31:37Z', 'outcomes': [{'name': 'Cork City', 'price': 3.25}, {'name': 'Dundalk', 'price': 3.0}, {'name': 'Draw', 'price': 2.4}]}]}, {'key': 'bovada', 'title': 'Bovada', 'last_update': '2023-06-09T19:31:34Z', 'markets': [{'key': 'h2h', 'last_update': '2023-06-09T19:31:34Z', 'outcomes': [{'name': 'Cork City', 'price': 1.57}, {'name': 'Dundalk', 'price': 6.25}, {'name': 'Draw', 'price': 3.5}]}]}, {'key': 'williamhill_us', 'title': 'William Hill (US)', 'last_update': '2023-06-09T19:31:28Z', 'markets': [{'key': 'h2h', 'last_update': '2023-06-09T19:31:28Z', 'outcomes': [{'name': 'Cork City', 'price': 3.1}, {'name': 'Dundalk', 'price': 2.85}, {'name': 'Draw', 'price': 2.3}]}]}]}, {'id': 'b99bb2b8fb0ebcc0705133a742ed8f40', 'sport_key': 'soccer_league_of_ireland', 'sport_title': 'League of Ireland', 'commence_time': '2023-06-09T18:46:46Z', 'home_team': 'Shelbourne Dublin', 'away_team': 'Sligo Rovers', 'bookmakers': [{'key': 'mybookieag', 'title': 'MyBookie.ag', 'last_update': '2023-06-09T19:31:29Z', 'markets': [{'key': 'h2h', 'last_update': '2023-06-09T19:31:29Z', 'outcomes': [{'name': 'Shelbourne Dublin', 'price': 1.47}, {'name': 'Sligo Rovers', 'price': 6.75}, {'name': 'Draw', 'price': 3.65}]}]}, {'key': 'foxbet', 'title': 'FOX Bet', 'last_update': '2023-06-09T19:31:47Z', 'markets': [{'key': 'h2h', 'last_update': '2023-06-09T19:31:47Z', 'outcomes': [{'name': 'Shelbourne Dublin', 'price': 2.9}, {'name': 'Sligo Rovers', 'price': 2.8}, {'name': 'Draw', 'price': 2.45}]}]}, {'key': 'draftkings', 'title': 'DraftKings', 'last_update': '2023-06-09T19:31:37Z', 'markets': [{'key': 'h2h', 'last_update': '2023-06-09T19:31:37Z', 'outcomes': [{'name': 'Shelbourne Dublin', 'price': 3.0}, {'name': 'Sligo Rovers', 'price': 3.2}, {'name': 'Draw', 'price': 2.35}]}]}, {'key': 'bovada', 'title': 'Bovada', 'last_update': '2023-06-09T19:31:34Z', 'markets': [{'key': 'h2h', 'last_update': '2023-06-09T19:31:34Z', 'outcomes': [{'name': 'Shelbourne Dublin', 'price': 2.95}, {'name': 'Sligo Rovers', 'price': 2.95}, {'name': 'Draw', 'price': 2.4}]}]}, {'key': 'williamhill_us', 'title': 'William Hill (US)', 'last_update': '2023-06-09T19:31:28Z', 'markets': [{'key': 'h2h', 'last_update': '2023-06-09T19:31:28Z', 'outcomes': [{'name': 'Shelbourne Dublin', 'price': 3.0}, {'name': 'Sligo Rovers', 'price': 2.85}, {'name': 'Draw', 'price': 2.35}]}]}]}, {'id': 'd39424f9319390ad81f7409c7619a91a', 'sport_key': 'soccer_league_of_ireland', 'sport_title': 'League of Ireland', 'commence_time': '2023-06-09T18:46:59Z', 'home_team': 'Drogheda United', 'away_team': 'St Patricks Athletic', 'bookmakers': [{'key': 'mybookieag', 'title': 'MyBookie.ag', 'last_update': '2023-06-09T19:31:29Z', 'markets': [{'key': 'h2h', 'last_update': '2023-06-09T19:31:29Z', 'outcomes': [{'name': 'Drogheda United', 'price': 1.75}, {'name': 'St Patricks Athletic', 'price': 4.4}, {'name': 'Draw', 'price': 3.35}]}]}, {'key': 'foxbet', 'title': 'FOX Bet', 'last_update': '2023-06-09T19:31:47Z', 'markets': [{'key': 'h2h', 'last_update': '2023-06-09T19:31:47Z', 'outcomes': [{'name': 'Drogheda United', 'price': 1.75}, {'name': 'St Patricks Athletic', 'price': 4.4}, {'name': 'Draw', 'price': 3.15}]}]}, {'key': 'draftkings', 'title': 'DraftKings', 'last_update': '2023-06-09T19:29:31Z', 'markets': [{'key': 'h2h', 'last_update': '2023-06-09T19:29:31Z', 'outcomes': [{'name': 'Drogheda United', 'price': 1.71}, {'name': 'St Patricks Athletic', 'price': 5.0}, {'name': 'Draw', 'price': 3.55}]}]}, {'key': 'bovada', 'title': 'Bovada', 'last_update': '2023-06-09T19:31:34Z', 'markets': [{'key': 'h2h', 'last_update': '2023-06-09T19:31:34Z', 'outcomes': [{'name': 'Drogheda United', 'price': 1.76}, {'name': 'St Patricks Athletic', 'price': 4.7}, {'name': 'Draw', 'price': 3.3}]}]}, {'key': 'williamhill_us', 'title': 'William Hill (US)', 'last_update': '2023-06-09T19:31:28Z', 'markets': [{'key': 'h2h', 'last_update': '2023-06-09T19:31:28Z', 'outcomes': [{'name': 'Drogheda United', 'price': 1.69}, {'name': 'St Patricks Athletic', 'price': 4.8}, {'name': 'Draw', 'price': 3.2}]}]}]}, {'id': 'ad4d0740d861f4ba24522ce0454782dc', 'sport_key': 'soccer_league_of_ireland', 'sport_title': 'League of Ireland', 'commence_time': '2023-06-09T18:59:17Z', 'home_team': 'Shamrock Rovers', 'away_team': 'UC Dublin', 'bookmakers': [{'key': 'mybookieag', 'title': 'MyBookie.ag', 'last_update': '2023-06-09T19:31:29Z', 'markets': [{'key': 'h2h', 'last_update': '2023-06-09T19:31:29Z', 'outcomes': [{'name': 'Shamrock Rovers', 'price': 1.01}, {'name': 'UC Dublin', 'price': 55.0}, {'name': 'Draw', 'price': 11.0}]}]}, {'key': 'foxbet', 'title': 'FOX Bet', 'last_update': '2023-06-09T19:31:47Z', 'markets': [{'key': 'h2h', 'last_update': '2023-06-09T19:31:47Z', 'outcomes': [{'name': 'Shamrock Rovers', 'price': 1.02}, {'name': 'UC Dublin', 'price': 31.0}, {'name': 'Draw', 'price': 12.0}]}]}, {'key': 'draftkings', 'title': 'DraftKings', 'last_update': '2023-06-09T19:23:59Z', 'markets': [{'key': 'h2h', 'last_update': '2023-06-09T19:23:59Z', 'outcomes': [{'name': 'Shamrock Rovers', 'price': 1.01}, {'name': 'UC Dublin', 'price': 36.0}, {'name': 'Draw', 'price': 21.0}]}]}, {'key': 'bovada', 'title': 'Bovada', 'last_update': '2023-06-09T19:31:34Z', 'markets': [{'key': 'h2h', 'last_update': '2023-06-09T19:31:34Z', 'outcomes': [{'name': 'Shamrock Rovers', 'price': 1.01}, {'name': 'UC Dublin', 'price': 86.0}, {'name': 'Draw', 'price': 13.0}]}]}, {'key': 'williamhill_us', 'title': 'William Hill (US)', 'last_update': '2023-06-09T19:31:28Z', 'markets': [{'key': 'h2h', 'last_update': '2023-06-09T19:31:28Z', 'outcomes': [{'name': 'Shamrock Rovers', 'price': 1.0}, {'name': 'UC Dublin', 'price': 36.0}, {'name': 'Draw', 'price': 12.0}]}]}]}, {'id': '43f786f376d2c73ab3e82bb2467d67f9', 'sport_key': 'boxing_boxing', 'sport_title': 'Boxing', 'commence_time': '2023-06-09T19:05:00Z', 'home_team': 'Carl Fail', 'away_team': 'Frank Madsen', 'bookmakers': [{'key': 'draftkings', 'title': 'DraftKings', 'last_update': '2023-06-09T19:16:52Z', 'markets': [{'key': 'h2h', 'last_update': '2023-06-09T19:16:52Z', 'outcomes': [{'name': 'Carl Fail', 'price': 1.01}, {'name': 'Frank Madsen', 'price': 14.0}]}]}]}, {'id': 'b565b78b93cf964e42a1cce922cbdfb5', 'sport_key': 'boxing_boxing', 'sport_title': 'Boxing', 'commence_time': '2023-06-09T19:30:00Z', 'home_team': 'Royston Barney-Smith', 'away_team': 'Christian Lopez Flores', 'bookmakers': [{'key': 'betonlineag', 'title': 'BetOnline.ag', 'last_update': '2023-06-09T19:31:36Z', 'markets': [{'key': 'h2h', 'last_update': '2023-06-09T19:31:36Z', 'outcomes': [{'name': 'Christian Lopez Flores', 'price': 21.0}, {'name': 'Royston Barney-Smith', 'price': 1.01}]}]}, {'key': 'draftkings', 'title': 'DraftKings', 'last_update': '2023-06-09T19:29:26Z', 'markets': [{'key': 'h2h', 'last_update': '2023-06-09T19:29:26Z', 'outcomes': [{'name': 'Christian Lopez Flores', 'price': 13.0}, {'name': 'Royston Barney-Smith', 'price': 1.02}]}]}]}, {'id': '70c85e954a20e53ecb169d8f51eb5e85', 'sport_key': 'boxing_boxing', 'sport_title': 'Boxing', 'commence_time': '2023-06-09T20:00:00Z', 'home_team': 'Ezra Taylor', 'away_team': 'Khalid Graidia', 'bookmakers': [{'key': 'betonlineag', 'title': 'BetOnline.ag', 'last_update': '2023-06-09T19:31:36Z', 'markets': [{'key': 'h2h', 'last_update': '2023-06-09T19:31:36Z', 'outcomes': [{'name': 'Ezra Taylor', 'price': 1.02}, {'name': 'Khalid Graidia', 'price': 15.0}]}]}, {'key': 'draftkings', 'title': 'DraftKings', 'last_update': '2023-06-09T19:31:32Z', 'markets': [{'key': 'h2h', 'last_update': '2023-06-09T19:31:31Z', 'outcomes': [{'name': 'Ezra Taylor', 'price': 1.04}, {'name': 'Khalid Graidia', 'price': 10.0}]}]}]}, {'id': 'a0e94d07f1b3c61c596e69ea0b7594c2', 'sport_key': 'boxing_boxing', 'sport_title': 'Boxing', 'commence_time': '2023-06-09T20:30:00Z', 'home_team': 'Mark Chamberlain', 'away_team': 'Marvin Demollari', 'bookmakers': [{'key': 'draftkings', 'title': 'DraftKings', 'last_update': '2023-06-09T19:31:32Z', 'markets': [{'key': 'h2h', 'last_update': '2023-06-09T19:31:31Z', 'outcomes': [{'name': 'Mark Chamberlain', 'price': 1.04}, {'name': 'Marvin Demollari', 'price': 10.5}]}]}, {'key': 'betonlineag', 'title': 'BetOnline.ag', 'last_update': '2023-06-09T19:31:36Z', 'markets': [{'key': 'h2h', 'last_update': '2023-06-09T19:31:36Z', 'outcomes': [{'name': 'Mark Chamberlain', 'price': 1.03}, {'name': 'Marvin Demollari', 'price': 13.0}]}]}, {'key': 'betus', 'title': 'BetUS', 'last_update': '2023-06-09T19:31:23Z', 'markets': [{'key': 'h2h', 'last_update': '2023-06-09T19:31:23Z', 'outcomes': [{'name': 'Mark Chamberlain', 'price': 1.04}, {'name': 'Marvin Demollari', 'price': 10.0}]}]}]}, {'id': '6b00c3fa712d67adfb2529779be68149', 'sport_key': 'baseball_ncaa', 'sport_title': 'NCAA Baseball', 'commence_time': '2023-06-09T21:00:00Z', 'home_team': 'Indiana St Sycamores', 'away_team': 'TCU Horned Frogs', 'bookmakers': [{'key': 'draftkings', 'title': 'DraftKings', 'last_update': '2023-06-09T19:31:08Z', 'markets': [{'key': 'h2h', 'last_update': '2023-06-09T19:31:08Z', 'outcomes': [{'name': 'Indiana St Sycamores', 'price': 2.55}, {'name': 'TCU Horned Frogs', 'price': 1.53}]}]}, {'key': 'betmgm', 'title': 'BetMGM', 'last_update': '2023-06-09T19:31:23Z', 'markets': [{'key': 'h2h', 'last_update': '2023-06-09T19:31:23Z', 'outcomes': [{'name': 'Indiana St Sycamores', 'price': 2.6}, {'name': 'TCU Horned Frogs', 'price': 1.48}]}]}, {'key': 'betus', 'title': 'BetUS', 'last_update': '2023-06-09T19:31:17Z', 'markets': [{'key': 'h2h', 'last_update': '2023-06-09T19:31:17Z', 'outcomes': [{'name': 'Indiana St Sycamores', 'price': 2.65}, {'name': 'TCU Horned Frogs', 'price': 1.48}]}]}, {'key': 'williamhill_us', 'title': 'William Hill (US)', 'last_update': '2023-06-09T19:31:04Z', 'markets': [{'key': 'h2h', 'last_update': '2023-06-09T19:31:04Z', 'outcomes': [{'name': 'Indiana St Sycamores', 'price': 2.55}, {'name': 'TCU Horned Frogs', 'price': 1.53}]}]}, {'key': 'bovada', 'title': 'Bovada', 'last_update': '2023-06-09T19:31:30Z', 'markets': [{'key': 'h2h', 'last_update': '2023-06-09T19:31:30Z', 'outcomes': [{'name': 'Indiana St Sycamores', 'price': 2.6}, {'name': 'TCU Horned Frogs', 'price': 1.47}]}]}, {'key': 'barstool', 'title': 'Barstool Sportsbook', 'last_update': '2023-06-09T19:31:06Z', 'markets': [{'key': 'h2h', 'last_update': '2023-06-09T19:31:06Z', 'outcomes': [{'name': 'Indiana St Sycamores', 'price': 2.48}, {'name': 'TCU Horned Frogs', 'price': 1.49}]}]}, {'key': 'betrivers', 'title': 'BetRivers', 'last_update': '2023-06-09T19:31:16Z', 'markets': [{'key': 'h2h', 'last_update': '2023-06-09T19:31:16Z', 'outcomes': [{'name': 'Indiana St Sycamores', 'price': 2.48}, {'name': 'TCU Horned Frogs', 'price': 1.49}]}]}, {'key': 'unibet_us', 'title': 'Unibet', 'last_update': '2023-06-09T19:31:22Z', 'markets': [{'key': 'h2h', 'last_update': '2023-06-09T19:31:21Z', 'outcomes': [{'name': 'Indiana St Sycamores', 'price': 2.48}, {'name': 'TCU Horned Frogs', 'price': 1.49}]}]}, {'key': 'twinspires', 'title': 'TwinSpires', 'last_update': '2023-06-09T19:31:25Z', 'markets': [{'key': 'h2h', 'last_update': '2023-06-09T19:31:25Z', 'outcomes': [{'name': 'Indiana St Sycamores', 'price': 2.48}, {'name': 'TCU Horned Frogs', 'price': 1.49}]}]}, {'key': 'fanduel', 'title': 'FanDuel', 'last_update': '2023-06-09T19:31:29Z', 'markets': [{'key': 'h2h', 'last_update': '2023-06-09T19:31:29Z', 'outcomes': [{'name': 'Indiana St Sycamores', 'price': 2.42}, {'name': 'TCU Horned Frogs', 'price': 1.54}]}]}, {'key': 'lowvig', 'title': 'LowVig.ag', 'last_update': '2023-06-09T19:31:45Z', 'markets': [{'key': 'h2h', 'last_update': '2023-06-09T19:31:45Z', 'outcomes': [{'name': 'Indiana St Sycamores', 'price': 2.75}, {'name': 'TCU Horned Frogs', 'price': 1.47}]}]}, {'key': 'betonlineag', 'title': 'BetOnline.ag', 'last_update': '2023-06-09T19:31:06Z', 'markets': [{'key': 'h2h', 'last_update': '2023-06-09T19:31:06Z', 'outcomes': [{'name': 'Indiana St Sycamores', 'price': 2.7}, {'name': 'TCU Horned Frogs', 'price': 1.48}]}]}, {'key': 'circasports', 'title': 'Circa Sports', 'last_update': '2023-06-09T19:31:25Z', 'markets': [{'key': 'h2h', 'last_update': '2023-06-09T19:31:25Z', 'outcomes': [{'name': 'Indiana St Sycamores', 'price': 2.7}, {'name': 'TCU Horned Frogs', 'price': 1.51}]}]}]}, {'id': '6f6faf438e2ea41ba904e05c947196ff', 'sport_key': 'boxing_boxing', 'sport_title': 'Boxing', 'commence_time': '2023-06-09T21:30:00Z', 'home_team': 'David Adeleye', 'away_team': 'Emir Ahmatovic', 'bookmakers': [{'key': 'draftkings', 'title': 'DraftKings', 'last_update': '2023-06-09T19:31:32Z', 'markets': [{'key': 'h2h', 'last_update': '2023-06-09T19:31:31Z', 'outcomes': [{'name': 'David Adeleye', 'price': 1.03}, {'name': 'Emir Ahmatovic', 'price': 11.0}]}]}, {'key': 'betus', 'title': 'BetUS', 'last_update': '2023-06-09T19:31:23Z', 'markets': [{'key': 'h2h', 'last_update': '2023-06-09T19:31:23Z', 'outcomes': [{'name': 'David Adeleye', 'price': 1.04}, {'name': 'Emir Ahmatovic', 'price': 10.0}]}]}, {'key': 'betonlineag', 'title': 'BetOnline.ag', 'last_update': '2023-06-09T19:31:36Z', 'markets': [{'key': 'h2h', 'last_update': '2023-06-09T19:31:36Z', 'outcomes': [{'name': 'David Adeleye', 'price': 1.03}, {'name': 'Emir Ahmatovic', 'price': 13.0}]}]}, {'key': 'fanduel', 'title': 'FanDuel', 'last_update': '2023-06-09T19:31:08Z', 'markets': [{'key': 'h2h', 'last_update': '2023-06-09T19:31:08Z', 'outcomes': [{'name': 'David Adeleye', 'price': 1.04}, {'name': 'Emir Ahmatovic', 'price': 12.6}]}]}]}, {'id': 'e733ebc74db56a5b42c410f7071fa89f', 'sport_key': 'baseball_ncaa', 'sport_title': 'NCAA Baseball', 'commence_time': '2023-06-09T22:00:00Z', 'home_team': 'Florida Gators', 'away_team': 'South Carolina Gamecocks', 'bookmakers': [{'key': 'draftkings', 'title': 'DraftKings', 'last_update': '2023-06-09T19:31:08Z', 'markets': [{'key': 'h2h', 'last_update': '2023-06-09T19:31:08Z', 'outcomes': [{'name': 'Florida Gators', 'price': 1.54}, {'name': 'South Carolina Gamecocks', 'price': 2.5}]}]}, {'key': 'betus', 'title': 'BetUS', 'last_update': '2023-06-09T19:31:17Z', 'markets': [{'key': 'h2h', 'last_update': '2023-06-09T19:31:17Z', 'outcomes': [{'name': 'Florida Gators', 'price': 1.5}, {'name': 'South Carolina Gamecocks', 'price': 2.6}]}]}, {'key': 'betmgm', 'title': 'BetMGM', 'last_update': '2023-06-09T19:31:23Z', 'markets': [{'key': 'h2h', 'last_update': '2023-06-09T19:31:23Z', 'outcomes': [{'name': 'Florida Gators', 'price': 1.53}, {'name': 'South Carolina Gamecocks', 'price': 2.45}]}]}, {'key': 'williamhill_us', 'title': 'William Hill (US)', 'last_update': '2023-06-09T19:31:04Z', 'markets': [{'key': 'h2h', 'last_update': '2023-06-09T19:31:04Z', 'outcomes': [{'name': 'Florida Gators', 'price': 1.53}, {'name': 'South Carolina Gamecocks', 'price': 2.55}]}]}, {'key': 'bovada', 'title': 'Bovada', 'last_update': '2023-06-09T19:31:30Z', 'markets': [{'key': 'h2h', 'last_update': '2023-06-09T19:31:30Z', 'outcomes': [{'name': 'Florida Gators', 'price': 1.48}, {'name': 'South Carolina Gamecocks', 'price': 2.55}]}]}, {'key': 'barstool', 'title': 'Barstool Sportsbook', 'last_update': '2023-06-09T19:31:06Z', 'markets': [{'key': 'h2h', 'last_update': '2023-06-09T19:31:06Z', 'outcomes': [{'name': 'Florida Gators', 'price': 1.51}, {'name': 'South Carolina Gamecocks', 'price': 2.45}]}]}, {'key': 'betrivers', 'title': 'BetRivers', 'last_update': '2023-06-09T19:31:16Z', 'markets': [{'key': 'h2h', 'last_update': '2023-06-09T19:31:16Z', 'outcomes': [{'name': 'Florida Gators', 'price': 1.51}, {'name': 'South Carolina Gamecocks', 'price': 2.45}]}]}, {'key': 'unibet_us', 'title': 'Unibet', 'last_update': '2023-06-09T19:31:22Z', 'markets': [{'key': 'h2h', 'last_update': '2023-06-09T19:31:21Z', 'outcomes': [{'name': 'Florida Gators', 'price': 1.51}, {'name': 'South Carolina Gamecocks', 'price': 2.45}]}]}, {'key': 'twinspires', 'title': 'TwinSpires', 'last_update': '2023-06-09T19:31:25Z', 'markets': [{'key': 'h2h', 'last_update': '2023-06-09T19:31:25Z', 'outcomes': [{'name': 'Florida Gators', 'price': 1.51}, {'name': 'South Carolina Gamecocks', 'price': 2.45}]}]}, {'key': 'fanduel', 'title': 'FanDuel', 'last_update': '2023-06-09T19:31:29Z', 'markets': [{'key': 'h2h', 'last_update': '2023-06-09T19:31:29Z', 'outcomes': [{'name': 'Florida Gators', 'price': 1.5}, {'name': 'South Carolina Gamecocks', 'price': 2.54}]}]}, {'key': 'lowvig', 'title': 'LowVig.ag', 'last_update': '2023-06-09T19:31:45Z', 'markets': [{'key': 'h2h', 'last_update': '2023-06-09T19:31:45Z', 'outcomes': [{'name': 'Florida Gators', 'price': 1.5}, {'name': 'South Carolina Gamecocks', 'price': 2.6}]}]}, {'key': 'betonlineag', 'title': 'BetOnline.ag', 'last_update': '2023-06-09T19:31:06Z', 'markets': [{'key': 'h2h', 'last_update': '2023-06-09T19:31:06Z', 'outcomes': [{'name': 'Florida Gators', 'price': 1.5}, {'name': 'South Carolina Gamecocks', 'price': 2.6}]}]}, {'key': 'circasports', 'title': 'Circa Sports', 'last_update': '2023-06-09T19:31:25Z', 'markets': [{'key': 'h2h', 'last_update': '2023-06-09T19:31:25Z', 'outcomes': [{'name': 'Florida Gators', 'price': 1.53}, {'name': 'South Carolina Gamecocks', 'price': 2.65}]}]}]}, {'id': 'd67b5202af7d8bb229dbcc263e7adb51', 'sport_key': 'baseball_mlb', 'sport_title': 'MLB', 'commence_time': '2023-06-09T22:40:00Z', 'home_team': 'Detroit Tigers', 'away_team': 'Arizona Diamondbacks', 'bookmakers': [{'key': 'draftkings', 'title': 'DraftKings', 'last_update': '2023-06-09T19:31:41Z', 'markets': [{'key': 'h2h', 'last_update': '2023-06-09T19:31:41Z', 'outcomes': [{'name': 'Arizona Diamondbacks', 'price': 1.69}, {'name': 'Detroit Tigers', 'price': 2.25}]}]}, {'key': 'lowvig', 'title': 'LowVig.ag', 'last_update': '2023-06-09T19:30:23Z', 'markets': [{'key': 'h2h', 'last_update': '2023-06-09T19:30:22Z', 'outcomes': [{'name': 'Arizona Diamondbacks', 'price': 1.74}, {'name': 'Detroit Tigers', 'price': 2.26}]}]}, {'key': 'betonlineag', 'title': 'BetOnline.ag', 'last_update': '2023-06-09T19:31:37Z', 'markets': [{'key': 'h2h', 'last_update': '2023-06-09T19:31:37Z', 'outcomes': [{'name': 'Arizona Diamondbacks', 'price': 1.74}, {'name': 'Detroit Tigers', 'price': 2.26}]}]}, {'key': 'fanduel', 'title': 'FanDuel', 'last_update': '2023-06-09T19:31:37Z', 'markets': [{'key': 'h2h', 'last_update': '2023-06-09T19:31:37Z', 'outcomes': [{'name': 'Arizona Diamondbacks', 'price': 1.69}, {'name': 'Detroit Tigers', 'price': 2.22}]}]}, {'key': 'betus', 'title': 'BetUS', 'last_update': '2023-06-09T19:30:47Z', 'markets': [{'key': 'h2h', 'last_update': '2023-06-09T19:30:47Z', 'outcomes': [{'name': 'Arizona Diamondbacks', 'price': 1.71}, {'name': 'Detroit Tigers', 'price': 2.25}]}]}, {'key': 'bovada', 'title': 'Bovada', 'last_update': '2023-06-09T19:31:30Z', 'markets': [{'key': 'h2h', 'last_update': '2023-06-09T19:31:30Z', 'outcomes': [{'name': 'Arizona Diamondbacks', 'price': 1.69}, {'name': 'Detroit Tigers', 'price': 2.22}]}]}, {'key': 'williamhill_us', 'title': 'William Hill (US)', 'last_update': '2023-06-09T19:31:16Z', 'markets': [{'key': 'h2h', 'last_update': '2023-06-09T19:31:16Z', 'outcomes': [{'name': 'Arizona Diamondbacks', 'price': 1.69}, {'name': 'Detroit Tigers', 'price': 2.22}]}]}, {'key': 'circasports', 'title': 'Circa Sports', 'last_update': '2023-06-09T19:30:59Z', 'markets': [{'key': 'h2h', 'last_update': '2023-06-09T19:30:59Z', 'outcomes': [{'name': 'Arizona Diamondbacks', 'price': 1.72}, {'name': 'Detroit Tigers', 'price': 2.17}]}]}, {'key': 'twinspires', 'title': 'TwinSpires', 'last_update': '2023-06-09T19:31:43Z', 'markets': [{'key': 'h2h', 'last_update': '2023-06-09T19:31:43Z', 'outcomes': [{'name': 'Arizona Diamondbacks', 'price': 1.68}, {'name': 'Detroit Tigers', 'price': 2.25}]}]}, {'key': 'betrivers', 'title': 'BetRivers', 'last_update': '2023-06-09T19:31:42Z', 'markets': [{'key': 'h2h', 'last_update': '2023-06-09T19:31:42Z', 'outcomes': [{'name': 'Arizona Diamondbacks', 'price': 1.7}, {'name': 'Detroit Tigers', 'price': 2.25}]}]}, {'key': 'barstool', 'title': 'Barstool Sportsbook', 'last_update': '2023-06-09T19:31:45Z', 'markets': [{'key': 'h2h', 'last_update': '2023-06-09T19:31:45Z', 'outcomes': [{'name': 'Arizona Diamondbacks', 'price': 1.68}, {'name': 'Detroit Tigers', 'price': 2.25}]}]}, {'key': 'unibet_us', 'title': 'Unibet', 'last_update': '2023-06-09T19:30:24Z', 'markets': [{'key': 'h2h', 'last_update': '2023-06-09T19:30:24Z', 'outcomes': [{'name': 'Arizona Diamondbacks', 'price': 1.68}, {'name': 'Detroit Tigers', 'price': 2.25}]}]}, {'key': 'betmgm', 'title': 'BetMGM', 'last_update': '2023-06-09T19:30:45Z', 'markets': [{'key': 'h2h', 'last_update': '2023-06-09T19:30:45Z', 'outcomes': [{'name': 'Arizona Diamondbacks', 'price': 1.69}, {'name': 'Detroit Tigers', 'price': 2.2}]}]}, {'key': 'mybookieag', 'title': 'MyBookie.ag', 'last_update': '2023-06-09T19:31:18Z', 'markets': [{'key': 'h2h', 'last_update': '2023-06-09T19:31:18Z', 'outcomes': [{'name': 'Arizona Diamondbacks', 'price': 1.69}, {'name': 'Detroit Tigers', 'price': 2.18}]}]}, {'key': 'foxbet', 'title': 'FOX Bet', 'last_update': '2023-06-09T19:29:26Z', 'markets': [{'key': 'h2h', 'last_update': '2023-06-09T19:29:26Z', 'outcomes': [{'name': 'Arizona Diamondbacks', 'price': 1.65}, {'name': 'Detroit Tigers', 'price': 2.15}]}]}, {'key': 'pointsbetus', 'title': 'PointsBet (US)', 'last_update': '2023-06-09T19:30:55Z', 'markets': [{'key': 'h2h', 'last_update': '2023-06-09T19:30:55Z', 'outcomes': [{'name': 'Arizona Diamondbacks', 'price': 1.69}, {'name': 'Detroit Tigers', 'price': 2.2}]}]}, {'key': 'wynnbet', 'title': 'WynnBET', 'last_update': '2023-06-09T19:31:02Z', 'markets': [{'key': 'h2h', 'last_update': '2023-06-09T19:31:02Z', 'outcomes': [{'name': 'Arizona Diamondbacks', 'price': 1.71}, {'name': 'Detroit Tigers', 'price': 2.28}]}]}, {'key': 'superbook', 'title': 'SuperBook', 'last_update': '2023-06-09T19:30:59Z', 'markets': [{'key': 'h2h', 'last_update': '2023-06-09T19:30:59Z', 'outcomes': [{'name': 'Arizona Diamondbacks', 'price': 1.7}, {'name': 'Detroit Tigers', 'price': 2.22}]}]}]}, {'id': '8d5e2f0a88501a3ac60f91c103a2e7fc', 'sport_key': 'baseball_mlb', 'sport_title': 'MLB', 'commence_time': '2023-06-09T22:40:00Z', 'home_team': 'Tampa Bay Rays', 'away_team': 'Texas Rangers', 'bookmakers': [{'key': 'draftkings', 'title': 'DraftKings', 'last_update': '2023-06-09T19:31:41Z', 'markets': [{'key': 'h2h', 'last_update': '2023-06-09T19:31:41Z', 'outcomes': [{'name': 'Tampa Bay Rays', 'price': 1.59}, {'name': 'Texas Rangers', 'price': 2.45}]}]}, {'key': 'betonlineag', 'title': 'BetOnline.ag', 'last_update': '2023-06-09T19:31:37Z', 'markets': [{'key': 'h2h', 'last_update': '2023-06-09T19:31:37Z', 'outcomes': [{'name': 'Tampa Bay Rays', 'price': 1.61}, {'name': 'Texas Rangers', 'price': 2.5}]}]}, {'key': 'lowvig', 'title': 'LowVig.ag', 'last_update': '2023-06-09T19:30:23Z', 'markets': [{'key': 'h2h', 'last_update': '2023-06-09T19:30:22Z', 'outcomes': [{'name': 'Tampa Bay Rays', 'price': 1.61}, {'name': 'Texas Rangers', 'price': 2.5}]}]}, {'key': 'fanduel', 'title': 'FanDuel', 'last_update': '2023-06-09T19:31:37Z', 'markets': [{'key': 'h2h', 'last_update': '2023-06-09T19:31:37Z', 'outcomes': [{'name': 'Tampa Bay Rays', 'price': 1.6}, {'name': 'Texas Rangers', 'price': 2.42}]}]}, {'key': 'betus', 'title': 'BetUS', 'last_update': '2023-06-09T19:30:47Z', 'markets': [{'key': 'h2h', 'last_update': '2023-06-09T19:30:47Z', 'outcomes': [{'name': 'Tampa Bay Rays', 'price': 1.6}, {'name': 'Texas Rangers', 'price': 2.47}]}]}, {'key': 'bovada', 'title': 'Bovada', 'last_update': '2023-06-09T19:31:30Z', 'markets': [{'key': 'h2h', 'last_update': '2023-06-09T19:31:30Z', 'outcomes': [{'name': 'Tampa Bay Rays', 'price': 1.59}, {'name': 'Texas Rangers', 'price': 2.41}]}]}, {'key': 'williamhill_us', 'title': 'William Hill (US)', 'last_update': '2023-06-09T19:31:16Z', 'markets': [{'key': 'h2h', 'last_update': '2023-06-09T19:31:16Z', 'outcomes': [{'name': 'Tampa Bay Rays', 'price': 1.59}, {'name': 'Texas Rangers', 'price': 2.43}]}]}, {'key': 'circasports', 'title': 'Circa Sports', 'last_update': '2023-06-09T19:30:59Z', 'markets': [{'key': 'h2h', 'last_update': '2023-06-09T19:30:59Z', 'outcomes': [{'name': 'Tampa Bay Rays', 'price': 1.62}, {'name': 'Texas Rangers', 'price': 2.35}]}]}, {'key': 'betrivers', 'title': 'BetRivers', 'last_update': '2023-06-09T19:31:42Z', 'markets': [{'key': 'h2h', 'last_update': '2023-06-09T19:31:42Z', 'outcomes': [{'name': 'Tampa Bay Rays', 'price': 1.57}, {'name': 'Texas Rangers', 'price': 2.5}]}]}, {'key': 'barstool', 'title': 'Barstool Sportsbook', 'last_update': '2023-06-09T19:31:45Z', 'markets': [{'key': 'h2h', 'last_update': '2023-06-09T19:31:45Z', 'outcomes': [{'name': 'Tampa Bay Rays', 'price': 1.57}, {'name': 'Texas Rangers', 'price': 2.48}]}]}, {'key': 'unibet_us', 'title': 'Unibet', 'last_update': '2023-06-09T19:30:24Z', 'markets': [{'key': 'h2h', 'last_update': '2023-06-09T19:30:24Z', 'outcomes': [{'name': 'Tampa Bay Rays', 'price': 1.57}, {'name': 'Texas Rangers', 'price': 2.48}]}]}, {'key': 'twinspires', 'title': 'TwinSpires', 'last_update': '2023-06-09T19:31:43Z', 'markets': [{'key': 'h2h', 'last_update': '2023-06-09T19:31:43Z', 'outcomes': [{'name': 'Tampa Bay Rays', 'price': 1.56}, {'name': 'Texas Rangers', 'price': 2.48}]}]}, {'key': 'mybookieag', 'title': 'MyBookie.ag', 'last_update': '2023-06-09T19:31:18Z', 'markets': [{'key': 'h2h', 'last_update': '2023-06-09T19:31:18Z', 'outcomes': [{'name': 'Tampa Bay Rays', 'price': 1.56}, {'name': 'Texas Rangers', 'price': 2.45}]}]}, {'key': 'pointsbetus', 'title': 'PointsBet (US)', 'last_update': '2023-06-09T19:30:55Z', 'markets': [{'key': 'h2h', 'last_update': '2023-06-09T19:30:55Z', 'outcomes': [{'name': 'Tampa Bay Rays', 'price': 1.57}, {'name': 'Texas Rangers', 'price': 2.45}]}]}, {'key': 'foxbet', 'title': 'FOX Bet', 'last_update': '2023-06-09T19:29:26Z', 'markets': [{'key': 'h2h', 'last_update': '2023-06-09T19:29:26Z', 'outcomes': [{'name': 'Tampa Bay Rays', 'price': 1.53}, {'name': 'Texas Rangers', 'price': 2.4}]}]}, {'key': 'betmgm', 'title': 'BetMGM', 'last_update': '2023-06-09T19:30:45Z', 'markets': [{'key': 'h2h', 'last_update': '2023-06-09T19:30:45Z', 'outcomes': [{'name': 'Tampa Bay Rays', 'price': 1.57}, {'name': 'Texas Rangers', 'price': 2.45}]}]}, {'key': 'wynnbet', 'title': 'WynnBET', 'last_update': '2023-06-09T19:31:02Z', 'markets': [{'key': 'h2h', 'last_update': '2023-06-09T19:31:02Z', 'outcomes': [{'name': 'Tampa Bay Rays', 'price': 1.62}, {'name': 'Texas Rangers', 'price': 2.46}]}]}, {'key': 'superbook', 'title': 'SuperBook', 'last_update': '2023-06-09T19:30:59Z', 'markets': [{'key': 'h2h', 'last_update': '2023-06-09T19:30:59Z', 'outcomes': [{'name': 'Tampa Bay Rays', 'price': 1.6}, {'name': 'Texas Rangers', 'price': 2.43}]}]}]}, {'id': '0cb5e668685d05f7521d499bb450ed8d', 'sport_key': 'soccer_argentina_primera_division', 'sport_title': 'Primera División - Argentina', 'commence_time': '2023-06-09T23:00:00Z', 'home_team': 'Independiente', 'away_team': 'Sarmiento de Junin', 'bookmakers': [{'key': 'fanduel', 'title': 'FanDuel', 'last_update': '2023-06-09T19:30:28Z', 'markets': [{'key': 'h2h', 'last_update': '2023-06-09T19:30:28Z', 'outcomes': [{'name': 'Independiente', 'price': 1.95}, {'name': 'Sarmiento de Junin', 'price': 4.1}, {'name': 'Draw', 'price': 2.95}]}]}, {'key': 'mybookieag', 'title': 'MyBookie.ag', 'last_update': '2023-06-09T19:30:36Z', 'markets': [{'key': 'h2h', 'last_update': '2023-06-09T19:30:36Z', 'outcomes': [{'name': 'Independiente', 'price': 2.08}, {'name': 'Sarmiento de Junin', 'price': 3.9}, {'name': 'Draw', 'price': 3.1}]}]}, {'key': 'foxbet', 'title': 'FOX Bet', 'last_update': '2023-06-09T19:30:24Z', 'markets': [{'key': 'h2h', 'last_update': '2023-06-09T19:30:24Z', 'outcomes': [{'name': 'Independiente', 'price': 1.91}, {'name': 'Sarmiento de Junin', 'price': 3.7}, {'name': 'Draw', 'price': 2.88}]}]}, {'key': 'bovada', 'title': 'Bovada', 'last_update': '2023-06-09T19:30:31Z', 'markets': [{'key': 'h2h', 'last_update': '2023-06-09T19:30:31Z', 'outcomes': [{'name': 'Independiente', 'price': 2.05}, {'name': 'Sarmiento de Junin', 'price': 3.95}, {'name': 'Draw', 'price': 3.0}]}]}, {'key': 'betmgm', 'title': 'BetMGM', 'last_update': '2023-06-09T19:30:17Z', 'markets': [{'key': 'h2h', 'last_update': '2023-06-09T19:30:17Z', 'outcomes': [{'name': 'Independiente', 'price': 2.0}, {'name': 'Sarmiento de Junin', 'price': 4.0}, {'name': 'Draw', 'price': 3.1}]}]}, {'key': 'superbook', 'title': 'SuperBook', 'last_update': '2023-06-09T19:30:32Z', 'markets': [{'key': 'h2h', 'last_update': '2023-06-09T19:30:32Z', 'outcomes': [{'name': 'Independiente', 'price': 2.05}, {'name': 'Sarmiento de Junin', 'price': 4.0}, {'name': 'Draw', 'price': 3.15}]}]}, {'key': 'betus', 'title': 'BetUS', 'last_update': '2023-06-09T19:31:41Z', 'markets': [{'key': 'h2h', 'last_update': '2023-06-09T19:31:41Z', 'outcomes': [{'name': 'Independiente', 'price': 2.05}, {'name': 'Sarmiento de Junin', 'price': 4.0}, {'name': 'Draw', 'price': 3.05}]}]}, {'key': 'draftkings', 'title': 'DraftKings', 'last_update': '2023-06-09T19:30:36Z', 'markets': [{'key': 'h2h', 'last_update': '2023-06-09T19:30:36Z', 'outcomes': [{'name': 'Independiente', 'price': 2.0}, {'name': 'Sarmiento de Junin', 'price': 4.2}, {'name': 'Draw', 'price': 3.15}]}]}, {'key': 'lowvig', 'title': 'LowVig.ag', 'last_update': '2023-06-09T19:30:22Z', 'markets': [{'key': 'h2h', 'last_update': '2023-06-09T19:30:22Z', 'outcomes': [{'name': 'Independiente', 'price': 2.0}, {'name': 'Sarmiento de Junin', 'price': 4.35}, {'name': 'Draw', 'price': 3.13}]}]}, {'key': 'betonlineag', 'title': 'BetOnline.ag', 'last_update': '2023-06-09T19:30:47Z', 'markets': [{'key': 'h2h', 'last_update': '2023-06-09T19:30:47Z', 'outcomes': [{'name': 'Independiente', 'price': 2.0}, {'name': 'Sarmiento de Junin', 'price': 4.35}, {'name': 'Draw', 'price': 3.13}]}]}]}]\n"
     ]
    }
   ],
   "source": [
    "# odds_response\n",
    "print(odds_response)\n",
    "\n",
    "# saves data to upcoming_events.txt\n",
    "with open('1_upcoming_events.txt', 'w') as f:\n",
    "    json.dump(odds_response, f)"
   ]
  },
  {
   "attachments": {},
   "cell_type": "markdown",
   "id": "795b37df",
   "metadata": {},
   "source": [
    "### Event Class\n",
    "\n",
    "\n",
    "The Event class represents a sporting event and provides methods to find the best odds, determine if there is an opportunity for arbitrage, convert decimal odds to American odds, and calculate the bet amounts for arbitrage betting.\n",
    "\n",
    "The code is structured in a way that encapsulates the functionality related to the event and its odds. It utilizes the data provided in the constructor to initialize the event and extract relevant information such as the sport key and ID.\n",
    "\n",
    "- find_best_odds iterates over the bookmakers and outcomes to find the best odds for each outcome in the event. It populates the best_odds list with the bookmaker, outcome name, and odds.\n",
    "\n",
    "- arbitrage calculates the total arbitrage percentage based on the best odds and determines if there is an opportunity for arbitrage betting. It checks if the sum of the reciprocals of the odds is less than 1.\n",
    "\n",
    "- convert_decimal_to_american converts the decimal odds in best_odds to American odds format.\n",
    "\n",
    "- calculate_arbitrage_bets calculates the bet amounts for each outcome based on the individual arbitrage percentages and the total arbitrage percentage.\n",
    "\n",
    "- Each ``Event`` object represents an indivudal sporting event.\n",
    "\n",
    "- The ``data`` parameter contains all of the odds data that is received from the API call."
   ]
  },
  {
   "cell_type": "code",
   "execution_count": 5,
   "id": "bccd45dc",
   "metadata": {},
   "outputs": [],
   "source": [
    "BOOKMAKER_INDEX = 0  # Index for the bookmaker in the best_odds list\n",
    "NAME_INDEX = 1  # Index for the name in the best_odds list\n",
    "ODDS_INDEX = 2  # Index for the odds in the best_odds list\n",
    "FIRST = 0  # Constant value for the first element in a list\n",
    "\n",
    "class Event:\n",
    "    def __init__(self, data):\n",
    "        self.data = data\n",
    "        self.sport_key = data['sport_key']  # Store the sport_key from the data dictionary\n",
    "        self.id = data['id']  # Store the id from the data dictionary\n",
    "        \n",
    "    def find_best_odds(self):\n",
    "        # Determine the number of possible outcomes for a sporting event\n",
    "        num_outcomes = len(self.data['bookmakers'][FIRST]['markets'][FIRST]['outcomes'])\n",
    "        self.num_outcomes = num_outcomes\n",
    "\n",
    "        # Initialize the best_odds list with initial values\n",
    "        best_odds = [[None, None, float('-inf')] for _ in range(num_outcomes)]\n",
    "        # Format: [Bookmaker, Name, Price]\n",
    "\n",
    "        bookmakers = event.data['bookmakers']  # Retrieve the bookmakers from the event data\n",
    "        for index, bookmaker in enumerate(bookmakers):\n",
    "\n",
    "            # Determine the odds offered by each bookmaker\n",
    "            for outcome in range(num_outcomes):\n",
    "\n",
    "                # Check if any of the bookmaker odds are better than the current best odds\n",
    "                bookmaker_odds = float(bookmaker['markets'][FIRST]['outcomes'][outcome]['price'])\n",
    "                current_best_odds = best_odds[outcome][ODDS_INDEX]\n",
    "\n",
    "                if bookmaker_odds > current_best_odds:\n",
    "                    best_odds[outcome][BOOKMAKER_INDEX] = bookmaker['title']\n",
    "                    best_odds[outcome][NAME_INDEX] = bookmaker['markets'][FIRST]['outcomes'][outcome]['name']\n",
    "                    best_odds[outcome][ODDS_INDEX] = bookmaker_odds\n",
    "                    \n",
    "        self.best_odds = best_odds\n",
    "        return best_odds\n",
    "    \n",
    "    def arbitrage(self):\n",
    "        total_arbitrage_percentage = 0\n",
    "        for odds in self.best_odds:\n",
    "            total_arbitrage_percentage += (1.0 / odds[ODDS_INDEX])\n",
    "            \n",
    "        self.total_arbitrage_percentage = total_arbitrage_percentage\n",
    "        self.expected_earnings = (BET_SIZE / total_arbitrage_percentage) - BET_SIZE\n",
    "        \n",
    "        # Check if the sum of the reciprocals of the odds is less than 1, indicating an arbitrage opportunity\n",
    "        if total_arbitrage_percentage < 1:\n",
    "            return True\n",
    "        return False\n",
    "    \n",
    "    # Convert decimal/European best odds to American best odds\n",
    "    def convert_decimal_to_american(self):\n",
    "        best_odds = self.best_odds\n",
    "        for odds in best_odds:\n",
    "            decimal = odds[ODDS_INDEX]\n",
    "            if decimal >= 2:\n",
    "                american = (decimal - 1) * 100\n",
    "            elif decimal < 2:\n",
    "                american = -100 / (decimal - 1)\n",
    "            odds[ODDS_INDEX] = round(american, 2)\n",
    "        return best_odds\n",
    "     \n",
    "    def calculate_arbitrage_bets(self):\n",
    "        bet_amounts = []\n",
    "        for outcome in range(self.num_outcomes):\n",
    "            individual_arbitrage_percentage = 1 / self.best_odds[outcome][ODDS_INDEX]\n",
    "            bet_amount = (BET_SIZE * individual_arbitrage_percentage) / self.total_arbitrage_percentage\n",
    "            bet_amounts.append(round(bet_amount, 2))\n",
    "        \n",
    "        self.bet_amounts = bet_amounts\n",
    "        return\n"
   ]
  },
  {
   "attachments": {},
   "cell_type": "markdown",
   "id": "0737847a",
   "metadata": {},
   "source": [
    "### Parsing Events and Calculating Arbitrage Opportunities\n",
    "\n",
    "First loop iterates over the odds_response data and creates an Event object for each data item. The Event objects are then added to the events list.\n",
    "\n",
    "Second loop iterates over the events list and checks if each event has an opportunity for arbitrage by calling the arbitrage() function. If an event has an opportunity for arbitrage, it is added to the arbitrage_events list.\n",
    "\n",
    "Last loop iterates over the arbitrage_events list and performs calculations related to arbitrage betting for each event. The calculate_arbitrage_bets() method calculates the bet amounts, while the convert_decimal_to_american() method converts the odds from decimal format to American format.\n",
    "\n",
    "This calculation will use unbiased arbitrage, where the profit is the same regardless of the outcome."
   ]
  },
  {
   "cell_type": "code",
   "execution_count": 6,
   "id": "9d71f761",
   "metadata": {},
   "outputs": [
    {
     "name": "stdout",
     "output_type": "stream",
     "text": [
      "{'id': '5b8c49cf9b6b29f30a90677a43efd417', 'sport_key': 'cricket_t20_blast', 'sport_title': 'T20 Blast', 'commence_time': '2023-06-09T17:30:00Z', 'home_team': 'Derbyshire', 'away_team': 'Nottinghamshire', 'bookmakers': [{'key': 'bovada', 'title': 'Bovada', 'last_update': '2023-06-09T19:31:35Z', 'markets': [{'key': 'h2h', 'last_update': '2023-06-09T19:31:35Z', 'outcomes': [{'name': 'Derbyshire', 'price': 3.9}, {'name': 'Nottinghamshire', 'price': 1.23}]}]}]}\n",
      "{'id': '33eeba08c8d4349b11af50e2dd7658b3', 'sport_key': 'soccer_league_of_ireland', 'sport_title': 'League of Ireland', 'commence_time': '2023-06-09T18:45:32Z', 'home_team': 'Derry City', 'away_team': 'Bohemians', 'bookmakers': [{'key': 'mybookieag', 'title': 'MyBookie.ag', 'last_update': '2023-06-09T19:31:29Z', 'markets': [{'key': 'h2h', 'last_update': '2023-06-09T19:31:29Z', 'outcomes': [{'name': 'Bohemians', 'price': 4.1}, {'name': 'Derry City', 'price': 2.3}, {'name': 'Draw', 'price': 2.35}]}]}, {'key': 'foxbet', 'title': 'FOX Bet', 'last_update': '2023-06-09T19:31:47Z', 'markets': [{'key': 'h2h', 'last_update': '2023-06-09T19:31:47Z', 'outcomes': [{'name': 'Bohemians', 'price': 3.8}, {'name': 'Derry City', 'price': 2.4}, {'name': 'Draw', 'price': 2.3}]}]}, {'key': 'draftkings', 'title': 'DraftKings', 'last_update': '2023-06-09T19:31:37Z', 'markets': [{'key': 'h2h', 'last_update': '2023-06-09T19:31:37Z', 'outcomes': [{'name': 'Bohemians', 'price': 4.5}, {'name': 'Derry City', 'price': 2.6}, {'name': 'Draw', 'price': 2.2}]}]}, {'key': 'bovada', 'title': 'Bovada', 'last_update': '2023-06-09T19:31:34Z', 'markets': [{'key': 'h2h', 'last_update': '2023-06-09T19:31:34Z', 'outcomes': [{'name': 'Bohemians', 'price': 4.3}, {'name': 'Derry City', 'price': 2.46}, {'name': 'Draw', 'price': 2.26}]}]}, {'key': 'williamhill_us', 'title': 'William Hill (US)', 'last_update': '2023-06-09T19:31:28Z', 'markets': [{'key': 'h2h', 'last_update': '2023-06-09T19:31:28Z', 'outcomes': [{'name': 'Bohemians', 'price': 3.95}, {'name': 'Derry City', 'price': 2.5}, {'name': 'Draw', 'price': 2.17}]}]}]}\n",
      "{'id': 'f4c76a0f191f1ff8a31e6cd14f04d08f', 'sport_key': 'soccer_league_of_ireland', 'sport_title': 'League of Ireland', 'commence_time': '2023-06-09T18:45:45Z', 'home_team': 'Cork City', 'away_team': 'Dundalk', 'bookmakers': [{'key': 'mybookieag', 'title': 'MyBookie.ag', 'last_update': '2023-06-09T19:31:29Z', 'markets': [{'key': 'h2h', 'last_update': '2023-06-09T19:31:29Z', 'outcomes': [{'name': 'Cork City', 'price': 1.6}, {'name': 'Dundalk', 'price': 5.4}, {'name': 'Draw', 'price': 3.4}]}]}, {'key': 'foxbet', 'title': 'FOX Bet', 'last_update': '2023-06-09T19:31:47Z', 'markets': [{'key': 'h2h', 'last_update': '2023-06-09T19:31:47Z', 'outcomes': [{'name': 'Cork City', 'price': 1.62}, {'name': 'Dundalk', 'price': 5.5}, {'name': 'Draw', 'price': 3.15}]}]}, {'key': 'draftkings', 'title': 'DraftKings', 'last_update': '2023-06-09T19:31:37Z', 'markets': [{'key': 'h2h', 'last_update': '2023-06-09T19:31:37Z', 'outcomes': [{'name': 'Cork City', 'price': 3.25}, {'name': 'Dundalk', 'price': 3.0}, {'name': 'Draw', 'price': 2.4}]}]}, {'key': 'bovada', 'title': 'Bovada', 'last_update': '2023-06-09T19:31:34Z', 'markets': [{'key': 'h2h', 'last_update': '2023-06-09T19:31:34Z', 'outcomes': [{'name': 'Cork City', 'price': 1.57}, {'name': 'Dundalk', 'price': 6.25}, {'name': 'Draw', 'price': 3.5}]}]}, {'key': 'williamhill_us', 'title': 'William Hill (US)', 'last_update': '2023-06-09T19:31:28Z', 'markets': [{'key': 'h2h', 'last_update': '2023-06-09T19:31:28Z', 'outcomes': [{'name': 'Cork City', 'price': 3.1}, {'name': 'Dundalk', 'price': 2.85}, {'name': 'Draw', 'price': 2.3}]}]}]}\n",
      "{'id': 'b99bb2b8fb0ebcc0705133a742ed8f40', 'sport_key': 'soccer_league_of_ireland', 'sport_title': 'League of Ireland', 'commence_time': '2023-06-09T18:46:46Z', 'home_team': 'Shelbourne Dublin', 'away_team': 'Sligo Rovers', 'bookmakers': [{'key': 'mybookieag', 'title': 'MyBookie.ag', 'last_update': '2023-06-09T19:31:29Z', 'markets': [{'key': 'h2h', 'last_update': '2023-06-09T19:31:29Z', 'outcomes': [{'name': 'Shelbourne Dublin', 'price': 1.47}, {'name': 'Sligo Rovers', 'price': 6.75}, {'name': 'Draw', 'price': 3.65}]}]}, {'key': 'foxbet', 'title': 'FOX Bet', 'last_update': '2023-06-09T19:31:47Z', 'markets': [{'key': 'h2h', 'last_update': '2023-06-09T19:31:47Z', 'outcomes': [{'name': 'Shelbourne Dublin', 'price': 2.9}, {'name': 'Sligo Rovers', 'price': 2.8}, {'name': 'Draw', 'price': 2.45}]}]}, {'key': 'draftkings', 'title': 'DraftKings', 'last_update': '2023-06-09T19:31:37Z', 'markets': [{'key': 'h2h', 'last_update': '2023-06-09T19:31:37Z', 'outcomes': [{'name': 'Shelbourne Dublin', 'price': 3.0}, {'name': 'Sligo Rovers', 'price': 3.2}, {'name': 'Draw', 'price': 2.35}]}]}, {'key': 'bovada', 'title': 'Bovada', 'last_update': '2023-06-09T19:31:34Z', 'markets': [{'key': 'h2h', 'last_update': '2023-06-09T19:31:34Z', 'outcomes': [{'name': 'Shelbourne Dublin', 'price': 2.95}, {'name': 'Sligo Rovers', 'price': 2.95}, {'name': 'Draw', 'price': 2.4}]}]}, {'key': 'williamhill_us', 'title': 'William Hill (US)', 'last_update': '2023-06-09T19:31:28Z', 'markets': [{'key': 'h2h', 'last_update': '2023-06-09T19:31:28Z', 'outcomes': [{'name': 'Shelbourne Dublin', 'price': 3.0}, {'name': 'Sligo Rovers', 'price': 2.85}, {'name': 'Draw', 'price': 2.35}]}]}]}\n",
      "{'id': 'd39424f9319390ad81f7409c7619a91a', 'sport_key': 'soccer_league_of_ireland', 'sport_title': 'League of Ireland', 'commence_time': '2023-06-09T18:46:59Z', 'home_team': 'Drogheda United', 'away_team': 'St Patricks Athletic', 'bookmakers': [{'key': 'mybookieag', 'title': 'MyBookie.ag', 'last_update': '2023-06-09T19:31:29Z', 'markets': [{'key': 'h2h', 'last_update': '2023-06-09T19:31:29Z', 'outcomes': [{'name': 'Drogheda United', 'price': 1.75}, {'name': 'St Patricks Athletic', 'price': 4.4}, {'name': 'Draw', 'price': 3.35}]}]}, {'key': 'foxbet', 'title': 'FOX Bet', 'last_update': '2023-06-09T19:31:47Z', 'markets': [{'key': 'h2h', 'last_update': '2023-06-09T19:31:47Z', 'outcomes': [{'name': 'Drogheda United', 'price': 1.75}, {'name': 'St Patricks Athletic', 'price': 4.4}, {'name': 'Draw', 'price': 3.15}]}]}, {'key': 'draftkings', 'title': 'DraftKings', 'last_update': '2023-06-09T19:29:31Z', 'markets': [{'key': 'h2h', 'last_update': '2023-06-09T19:29:31Z', 'outcomes': [{'name': 'Drogheda United', 'price': 1.71}, {'name': 'St Patricks Athletic', 'price': 5.0}, {'name': 'Draw', 'price': 3.55}]}]}, {'key': 'bovada', 'title': 'Bovada', 'last_update': '2023-06-09T19:31:34Z', 'markets': [{'key': 'h2h', 'last_update': '2023-06-09T19:31:34Z', 'outcomes': [{'name': 'Drogheda United', 'price': 1.76}, {'name': 'St Patricks Athletic', 'price': 4.7}, {'name': 'Draw', 'price': 3.3}]}]}, {'key': 'williamhill_us', 'title': 'William Hill (US)', 'last_update': '2023-06-09T19:31:28Z', 'markets': [{'key': 'h2h', 'last_update': '2023-06-09T19:31:28Z', 'outcomes': [{'name': 'Drogheda United', 'price': 1.69}, {'name': 'St Patricks Athletic', 'price': 4.8}, {'name': 'Draw', 'price': 3.2}]}]}]}\n",
      "{'id': 'ad4d0740d861f4ba24522ce0454782dc', 'sport_key': 'soccer_league_of_ireland', 'sport_title': 'League of Ireland', 'commence_time': '2023-06-09T18:59:17Z', 'home_team': 'Shamrock Rovers', 'away_team': 'UC Dublin', 'bookmakers': [{'key': 'mybookieag', 'title': 'MyBookie.ag', 'last_update': '2023-06-09T19:31:29Z', 'markets': [{'key': 'h2h', 'last_update': '2023-06-09T19:31:29Z', 'outcomes': [{'name': 'Shamrock Rovers', 'price': 1.01}, {'name': 'UC Dublin', 'price': 55.0}, {'name': 'Draw', 'price': 11.0}]}]}, {'key': 'foxbet', 'title': 'FOX Bet', 'last_update': '2023-06-09T19:31:47Z', 'markets': [{'key': 'h2h', 'last_update': '2023-06-09T19:31:47Z', 'outcomes': [{'name': 'Shamrock Rovers', 'price': 1.02}, {'name': 'UC Dublin', 'price': 31.0}, {'name': 'Draw', 'price': 12.0}]}]}, {'key': 'draftkings', 'title': 'DraftKings', 'last_update': '2023-06-09T19:23:59Z', 'markets': [{'key': 'h2h', 'last_update': '2023-06-09T19:23:59Z', 'outcomes': [{'name': 'Shamrock Rovers', 'price': 1.01}, {'name': 'UC Dublin', 'price': 36.0}, {'name': 'Draw', 'price': 21.0}]}]}, {'key': 'bovada', 'title': 'Bovada', 'last_update': '2023-06-09T19:31:34Z', 'markets': [{'key': 'h2h', 'last_update': '2023-06-09T19:31:34Z', 'outcomes': [{'name': 'Shamrock Rovers', 'price': 1.01}, {'name': 'UC Dublin', 'price': 86.0}, {'name': 'Draw', 'price': 13.0}]}]}, {'key': 'williamhill_us', 'title': 'William Hill (US)', 'last_update': '2023-06-09T19:31:28Z', 'markets': [{'key': 'h2h', 'last_update': '2023-06-09T19:31:28Z', 'outcomes': [{'name': 'Shamrock Rovers', 'price': 1.0}, {'name': 'UC Dublin', 'price': 36.0}, {'name': 'Draw', 'price': 12.0}]}]}]}\n",
      "{'id': '43f786f376d2c73ab3e82bb2467d67f9', 'sport_key': 'boxing_boxing', 'sport_title': 'Boxing', 'commence_time': '2023-06-09T19:05:00Z', 'home_team': 'Carl Fail', 'away_team': 'Frank Madsen', 'bookmakers': [{'key': 'draftkings', 'title': 'DraftKings', 'last_update': '2023-06-09T19:16:52Z', 'markets': [{'key': 'h2h', 'last_update': '2023-06-09T19:16:52Z', 'outcomes': [{'name': 'Carl Fail', 'price': 1.01}, {'name': 'Frank Madsen', 'price': 14.0}]}]}]}\n",
      "{'id': 'b565b78b93cf964e42a1cce922cbdfb5', 'sport_key': 'boxing_boxing', 'sport_title': 'Boxing', 'commence_time': '2023-06-09T19:30:00Z', 'home_team': 'Royston Barney-Smith', 'away_team': 'Christian Lopez Flores', 'bookmakers': [{'key': 'betonlineag', 'title': 'BetOnline.ag', 'last_update': '2023-06-09T19:31:36Z', 'markets': [{'key': 'h2h', 'last_update': '2023-06-09T19:31:36Z', 'outcomes': [{'name': 'Christian Lopez Flores', 'price': 21.0}, {'name': 'Royston Barney-Smith', 'price': 1.01}]}]}, {'key': 'draftkings', 'title': 'DraftKings', 'last_update': '2023-06-09T19:29:26Z', 'markets': [{'key': 'h2h', 'last_update': '2023-06-09T19:29:26Z', 'outcomes': [{'name': 'Christian Lopez Flores', 'price': 13.0}, {'name': 'Royston Barney-Smith', 'price': 1.02}]}]}]}\n",
      "{'id': '70c85e954a20e53ecb169d8f51eb5e85', 'sport_key': 'boxing_boxing', 'sport_title': 'Boxing', 'commence_time': '2023-06-09T20:00:00Z', 'home_team': 'Ezra Taylor', 'away_team': 'Khalid Graidia', 'bookmakers': [{'key': 'betonlineag', 'title': 'BetOnline.ag', 'last_update': '2023-06-09T19:31:36Z', 'markets': [{'key': 'h2h', 'last_update': '2023-06-09T19:31:36Z', 'outcomes': [{'name': 'Ezra Taylor', 'price': 1.02}, {'name': 'Khalid Graidia', 'price': 15.0}]}]}, {'key': 'draftkings', 'title': 'DraftKings', 'last_update': '2023-06-09T19:31:32Z', 'markets': [{'key': 'h2h', 'last_update': '2023-06-09T19:31:31Z', 'outcomes': [{'name': 'Ezra Taylor', 'price': 1.04}, {'name': 'Khalid Graidia', 'price': 10.0}]}]}]}\n",
      "{'id': 'a0e94d07f1b3c61c596e69ea0b7594c2', 'sport_key': 'boxing_boxing', 'sport_title': 'Boxing', 'commence_time': '2023-06-09T20:30:00Z', 'home_team': 'Mark Chamberlain', 'away_team': 'Marvin Demollari', 'bookmakers': [{'key': 'draftkings', 'title': 'DraftKings', 'last_update': '2023-06-09T19:31:32Z', 'markets': [{'key': 'h2h', 'last_update': '2023-06-09T19:31:31Z', 'outcomes': [{'name': 'Mark Chamberlain', 'price': 1.04}, {'name': 'Marvin Demollari', 'price': 10.5}]}]}, {'key': 'betonlineag', 'title': 'BetOnline.ag', 'last_update': '2023-06-09T19:31:36Z', 'markets': [{'key': 'h2h', 'last_update': '2023-06-09T19:31:36Z', 'outcomes': [{'name': 'Mark Chamberlain', 'price': 1.03}, {'name': 'Marvin Demollari', 'price': 13.0}]}]}, {'key': 'betus', 'title': 'BetUS', 'last_update': '2023-06-09T19:31:23Z', 'markets': [{'key': 'h2h', 'last_update': '2023-06-09T19:31:23Z', 'outcomes': [{'name': 'Mark Chamberlain', 'price': 1.04}, {'name': 'Marvin Demollari', 'price': 10.0}]}]}]}\n",
      "{'id': '6b00c3fa712d67adfb2529779be68149', 'sport_key': 'baseball_ncaa', 'sport_title': 'NCAA Baseball', 'commence_time': '2023-06-09T21:00:00Z', 'home_team': 'Indiana St Sycamores', 'away_team': 'TCU Horned Frogs', 'bookmakers': [{'key': 'draftkings', 'title': 'DraftKings', 'last_update': '2023-06-09T19:31:08Z', 'markets': [{'key': 'h2h', 'last_update': '2023-06-09T19:31:08Z', 'outcomes': [{'name': 'Indiana St Sycamores', 'price': 2.55}, {'name': 'TCU Horned Frogs', 'price': 1.53}]}]}, {'key': 'betmgm', 'title': 'BetMGM', 'last_update': '2023-06-09T19:31:23Z', 'markets': [{'key': 'h2h', 'last_update': '2023-06-09T19:31:23Z', 'outcomes': [{'name': 'Indiana St Sycamores', 'price': 2.6}, {'name': 'TCU Horned Frogs', 'price': 1.48}]}]}, {'key': 'betus', 'title': 'BetUS', 'last_update': '2023-06-09T19:31:17Z', 'markets': [{'key': 'h2h', 'last_update': '2023-06-09T19:31:17Z', 'outcomes': [{'name': 'Indiana St Sycamores', 'price': 2.65}, {'name': 'TCU Horned Frogs', 'price': 1.48}]}]}, {'key': 'williamhill_us', 'title': 'William Hill (US)', 'last_update': '2023-06-09T19:31:04Z', 'markets': [{'key': 'h2h', 'last_update': '2023-06-09T19:31:04Z', 'outcomes': [{'name': 'Indiana St Sycamores', 'price': 2.55}, {'name': 'TCU Horned Frogs', 'price': 1.53}]}]}, {'key': 'bovada', 'title': 'Bovada', 'last_update': '2023-06-09T19:31:30Z', 'markets': [{'key': 'h2h', 'last_update': '2023-06-09T19:31:30Z', 'outcomes': [{'name': 'Indiana St Sycamores', 'price': 2.6}, {'name': 'TCU Horned Frogs', 'price': 1.47}]}]}, {'key': 'barstool', 'title': 'Barstool Sportsbook', 'last_update': '2023-06-09T19:31:06Z', 'markets': [{'key': 'h2h', 'last_update': '2023-06-09T19:31:06Z', 'outcomes': [{'name': 'Indiana St Sycamores', 'price': 2.48}, {'name': 'TCU Horned Frogs', 'price': 1.49}]}]}, {'key': 'betrivers', 'title': 'BetRivers', 'last_update': '2023-06-09T19:31:16Z', 'markets': [{'key': 'h2h', 'last_update': '2023-06-09T19:31:16Z', 'outcomes': [{'name': 'Indiana St Sycamores', 'price': 2.48}, {'name': 'TCU Horned Frogs', 'price': 1.49}]}]}, {'key': 'unibet_us', 'title': 'Unibet', 'last_update': '2023-06-09T19:31:22Z', 'markets': [{'key': 'h2h', 'last_update': '2023-06-09T19:31:21Z', 'outcomes': [{'name': 'Indiana St Sycamores', 'price': 2.48}, {'name': 'TCU Horned Frogs', 'price': 1.49}]}]}, {'key': 'twinspires', 'title': 'TwinSpires', 'last_update': '2023-06-09T19:31:25Z', 'markets': [{'key': 'h2h', 'last_update': '2023-06-09T19:31:25Z', 'outcomes': [{'name': 'Indiana St Sycamores', 'price': 2.48}, {'name': 'TCU Horned Frogs', 'price': 1.49}]}]}, {'key': 'fanduel', 'title': 'FanDuel', 'last_update': '2023-06-09T19:31:29Z', 'markets': [{'key': 'h2h', 'last_update': '2023-06-09T19:31:29Z', 'outcomes': [{'name': 'Indiana St Sycamores', 'price': 2.42}, {'name': 'TCU Horned Frogs', 'price': 1.54}]}]}, {'key': 'lowvig', 'title': 'LowVig.ag', 'last_update': '2023-06-09T19:31:45Z', 'markets': [{'key': 'h2h', 'last_update': '2023-06-09T19:31:45Z', 'outcomes': [{'name': 'Indiana St Sycamores', 'price': 2.75}, {'name': 'TCU Horned Frogs', 'price': 1.47}]}]}, {'key': 'betonlineag', 'title': 'BetOnline.ag', 'last_update': '2023-06-09T19:31:06Z', 'markets': [{'key': 'h2h', 'last_update': '2023-06-09T19:31:06Z', 'outcomes': [{'name': 'Indiana St Sycamores', 'price': 2.7}, {'name': 'TCU Horned Frogs', 'price': 1.48}]}]}, {'key': 'circasports', 'title': 'Circa Sports', 'last_update': '2023-06-09T19:31:25Z', 'markets': [{'key': 'h2h', 'last_update': '2023-06-09T19:31:25Z', 'outcomes': [{'name': 'Indiana St Sycamores', 'price': 2.7}, {'name': 'TCU Horned Frogs', 'price': 1.51}]}]}]}\n",
      "{'id': '6f6faf438e2ea41ba904e05c947196ff', 'sport_key': 'boxing_boxing', 'sport_title': 'Boxing', 'commence_time': '2023-06-09T21:30:00Z', 'home_team': 'David Adeleye', 'away_team': 'Emir Ahmatovic', 'bookmakers': [{'key': 'draftkings', 'title': 'DraftKings', 'last_update': '2023-06-09T19:31:32Z', 'markets': [{'key': 'h2h', 'last_update': '2023-06-09T19:31:31Z', 'outcomes': [{'name': 'David Adeleye', 'price': 1.03}, {'name': 'Emir Ahmatovic', 'price': 11.0}]}]}, {'key': 'betus', 'title': 'BetUS', 'last_update': '2023-06-09T19:31:23Z', 'markets': [{'key': 'h2h', 'last_update': '2023-06-09T19:31:23Z', 'outcomes': [{'name': 'David Adeleye', 'price': 1.04}, {'name': 'Emir Ahmatovic', 'price': 10.0}]}]}, {'key': 'betonlineag', 'title': 'BetOnline.ag', 'last_update': '2023-06-09T19:31:36Z', 'markets': [{'key': 'h2h', 'last_update': '2023-06-09T19:31:36Z', 'outcomes': [{'name': 'David Adeleye', 'price': 1.03}, {'name': 'Emir Ahmatovic', 'price': 13.0}]}]}, {'key': 'fanduel', 'title': 'FanDuel', 'last_update': '2023-06-09T19:31:08Z', 'markets': [{'key': 'h2h', 'last_update': '2023-06-09T19:31:08Z', 'outcomes': [{'name': 'David Adeleye', 'price': 1.04}, {'name': 'Emir Ahmatovic', 'price': 12.6}]}]}]}\n",
      "{'id': 'e733ebc74db56a5b42c410f7071fa89f', 'sport_key': 'baseball_ncaa', 'sport_title': 'NCAA Baseball', 'commence_time': '2023-06-09T22:00:00Z', 'home_team': 'Florida Gators', 'away_team': 'South Carolina Gamecocks', 'bookmakers': [{'key': 'draftkings', 'title': 'DraftKings', 'last_update': '2023-06-09T19:31:08Z', 'markets': [{'key': 'h2h', 'last_update': '2023-06-09T19:31:08Z', 'outcomes': [{'name': 'Florida Gators', 'price': 1.54}, {'name': 'South Carolina Gamecocks', 'price': 2.5}]}]}, {'key': 'betus', 'title': 'BetUS', 'last_update': '2023-06-09T19:31:17Z', 'markets': [{'key': 'h2h', 'last_update': '2023-06-09T19:31:17Z', 'outcomes': [{'name': 'Florida Gators', 'price': 1.5}, {'name': 'South Carolina Gamecocks', 'price': 2.6}]}]}, {'key': 'betmgm', 'title': 'BetMGM', 'last_update': '2023-06-09T19:31:23Z', 'markets': [{'key': 'h2h', 'last_update': '2023-06-09T19:31:23Z', 'outcomes': [{'name': 'Florida Gators', 'price': 1.53}, {'name': 'South Carolina Gamecocks', 'price': 2.45}]}]}, {'key': 'williamhill_us', 'title': 'William Hill (US)', 'last_update': '2023-06-09T19:31:04Z', 'markets': [{'key': 'h2h', 'last_update': '2023-06-09T19:31:04Z', 'outcomes': [{'name': 'Florida Gators', 'price': 1.53}, {'name': 'South Carolina Gamecocks', 'price': 2.55}]}]}, {'key': 'bovada', 'title': 'Bovada', 'last_update': '2023-06-09T19:31:30Z', 'markets': [{'key': 'h2h', 'last_update': '2023-06-09T19:31:30Z', 'outcomes': [{'name': 'Florida Gators', 'price': 1.48}, {'name': 'South Carolina Gamecocks', 'price': 2.55}]}]}, {'key': 'barstool', 'title': 'Barstool Sportsbook', 'last_update': '2023-06-09T19:31:06Z', 'markets': [{'key': 'h2h', 'last_update': '2023-06-09T19:31:06Z', 'outcomes': [{'name': 'Florida Gators', 'price': 1.51}, {'name': 'South Carolina Gamecocks', 'price': 2.45}]}]}, {'key': 'betrivers', 'title': 'BetRivers', 'last_update': '2023-06-09T19:31:16Z', 'markets': [{'key': 'h2h', 'last_update': '2023-06-09T19:31:16Z', 'outcomes': [{'name': 'Florida Gators', 'price': 1.51}, {'name': 'South Carolina Gamecocks', 'price': 2.45}]}]}, {'key': 'unibet_us', 'title': 'Unibet', 'last_update': '2023-06-09T19:31:22Z', 'markets': [{'key': 'h2h', 'last_update': '2023-06-09T19:31:21Z', 'outcomes': [{'name': 'Florida Gators', 'price': 1.51}, {'name': 'South Carolina Gamecocks', 'price': 2.45}]}]}, {'key': 'twinspires', 'title': 'TwinSpires', 'last_update': '2023-06-09T19:31:25Z', 'markets': [{'key': 'h2h', 'last_update': '2023-06-09T19:31:25Z', 'outcomes': [{'name': 'Florida Gators', 'price': 1.51}, {'name': 'South Carolina Gamecocks', 'price': 2.45}]}]}, {'key': 'fanduel', 'title': 'FanDuel', 'last_update': '2023-06-09T19:31:29Z', 'markets': [{'key': 'h2h', 'last_update': '2023-06-09T19:31:29Z', 'outcomes': [{'name': 'Florida Gators', 'price': 1.5}, {'name': 'South Carolina Gamecocks', 'price': 2.54}]}]}, {'key': 'lowvig', 'title': 'LowVig.ag', 'last_update': '2023-06-09T19:31:45Z', 'markets': [{'key': 'h2h', 'last_update': '2023-06-09T19:31:45Z', 'outcomes': [{'name': 'Florida Gators', 'price': 1.5}, {'name': 'South Carolina Gamecocks', 'price': 2.6}]}]}, {'key': 'betonlineag', 'title': 'BetOnline.ag', 'last_update': '2023-06-09T19:31:06Z', 'markets': [{'key': 'h2h', 'last_update': '2023-06-09T19:31:06Z', 'outcomes': [{'name': 'Florida Gators', 'price': 1.5}, {'name': 'South Carolina Gamecocks', 'price': 2.6}]}]}, {'key': 'circasports', 'title': 'Circa Sports', 'last_update': '2023-06-09T19:31:25Z', 'markets': [{'key': 'h2h', 'last_update': '2023-06-09T19:31:25Z', 'outcomes': [{'name': 'Florida Gators', 'price': 1.53}, {'name': 'South Carolina Gamecocks', 'price': 2.65}]}]}]}\n",
      "{'id': 'd67b5202af7d8bb229dbcc263e7adb51', 'sport_key': 'baseball_mlb', 'sport_title': 'MLB', 'commence_time': '2023-06-09T22:40:00Z', 'home_team': 'Detroit Tigers', 'away_team': 'Arizona Diamondbacks', 'bookmakers': [{'key': 'draftkings', 'title': 'DraftKings', 'last_update': '2023-06-09T19:31:41Z', 'markets': [{'key': 'h2h', 'last_update': '2023-06-09T19:31:41Z', 'outcomes': [{'name': 'Arizona Diamondbacks', 'price': 1.69}, {'name': 'Detroit Tigers', 'price': 2.25}]}]}, {'key': 'lowvig', 'title': 'LowVig.ag', 'last_update': '2023-06-09T19:30:23Z', 'markets': [{'key': 'h2h', 'last_update': '2023-06-09T19:30:22Z', 'outcomes': [{'name': 'Arizona Diamondbacks', 'price': 1.74}, {'name': 'Detroit Tigers', 'price': 2.26}]}]}, {'key': 'betonlineag', 'title': 'BetOnline.ag', 'last_update': '2023-06-09T19:31:37Z', 'markets': [{'key': 'h2h', 'last_update': '2023-06-09T19:31:37Z', 'outcomes': [{'name': 'Arizona Diamondbacks', 'price': 1.74}, {'name': 'Detroit Tigers', 'price': 2.26}]}]}, {'key': 'fanduel', 'title': 'FanDuel', 'last_update': '2023-06-09T19:31:37Z', 'markets': [{'key': 'h2h', 'last_update': '2023-06-09T19:31:37Z', 'outcomes': [{'name': 'Arizona Diamondbacks', 'price': 1.69}, {'name': 'Detroit Tigers', 'price': 2.22}]}]}, {'key': 'betus', 'title': 'BetUS', 'last_update': '2023-06-09T19:30:47Z', 'markets': [{'key': 'h2h', 'last_update': '2023-06-09T19:30:47Z', 'outcomes': [{'name': 'Arizona Diamondbacks', 'price': 1.71}, {'name': 'Detroit Tigers', 'price': 2.25}]}]}, {'key': 'bovada', 'title': 'Bovada', 'last_update': '2023-06-09T19:31:30Z', 'markets': [{'key': 'h2h', 'last_update': '2023-06-09T19:31:30Z', 'outcomes': [{'name': 'Arizona Diamondbacks', 'price': 1.69}, {'name': 'Detroit Tigers', 'price': 2.22}]}]}, {'key': 'williamhill_us', 'title': 'William Hill (US)', 'last_update': '2023-06-09T19:31:16Z', 'markets': [{'key': 'h2h', 'last_update': '2023-06-09T19:31:16Z', 'outcomes': [{'name': 'Arizona Diamondbacks', 'price': 1.69}, {'name': 'Detroit Tigers', 'price': 2.22}]}]}, {'key': 'circasports', 'title': 'Circa Sports', 'last_update': '2023-06-09T19:30:59Z', 'markets': [{'key': 'h2h', 'last_update': '2023-06-09T19:30:59Z', 'outcomes': [{'name': 'Arizona Diamondbacks', 'price': 1.72}, {'name': 'Detroit Tigers', 'price': 2.17}]}]}, {'key': 'twinspires', 'title': 'TwinSpires', 'last_update': '2023-06-09T19:31:43Z', 'markets': [{'key': 'h2h', 'last_update': '2023-06-09T19:31:43Z', 'outcomes': [{'name': 'Arizona Diamondbacks', 'price': 1.68}, {'name': 'Detroit Tigers', 'price': 2.25}]}]}, {'key': 'betrivers', 'title': 'BetRivers', 'last_update': '2023-06-09T19:31:42Z', 'markets': [{'key': 'h2h', 'last_update': '2023-06-09T19:31:42Z', 'outcomes': [{'name': 'Arizona Diamondbacks', 'price': 1.7}, {'name': 'Detroit Tigers', 'price': 2.25}]}]}, {'key': 'barstool', 'title': 'Barstool Sportsbook', 'last_update': '2023-06-09T19:31:45Z', 'markets': [{'key': 'h2h', 'last_update': '2023-06-09T19:31:45Z', 'outcomes': [{'name': 'Arizona Diamondbacks', 'price': 1.68}, {'name': 'Detroit Tigers', 'price': 2.25}]}]}, {'key': 'unibet_us', 'title': 'Unibet', 'last_update': '2023-06-09T19:30:24Z', 'markets': [{'key': 'h2h', 'last_update': '2023-06-09T19:30:24Z', 'outcomes': [{'name': 'Arizona Diamondbacks', 'price': 1.68}, {'name': 'Detroit Tigers', 'price': 2.25}]}]}, {'key': 'betmgm', 'title': 'BetMGM', 'last_update': '2023-06-09T19:30:45Z', 'markets': [{'key': 'h2h', 'last_update': '2023-06-09T19:30:45Z', 'outcomes': [{'name': 'Arizona Diamondbacks', 'price': 1.69}, {'name': 'Detroit Tigers', 'price': 2.2}]}]}, {'key': 'mybookieag', 'title': 'MyBookie.ag', 'last_update': '2023-06-09T19:31:18Z', 'markets': [{'key': 'h2h', 'last_update': '2023-06-09T19:31:18Z', 'outcomes': [{'name': 'Arizona Diamondbacks', 'price': 1.69}, {'name': 'Detroit Tigers', 'price': 2.18}]}]}, {'key': 'foxbet', 'title': 'FOX Bet', 'last_update': '2023-06-09T19:29:26Z', 'markets': [{'key': 'h2h', 'last_update': '2023-06-09T19:29:26Z', 'outcomes': [{'name': 'Arizona Diamondbacks', 'price': 1.65}, {'name': 'Detroit Tigers', 'price': 2.15}]}]}, {'key': 'pointsbetus', 'title': 'PointsBet (US)', 'last_update': '2023-06-09T19:30:55Z', 'markets': [{'key': 'h2h', 'last_update': '2023-06-09T19:30:55Z', 'outcomes': [{'name': 'Arizona Diamondbacks', 'price': 1.69}, {'name': 'Detroit Tigers', 'price': 2.2}]}]}, {'key': 'wynnbet', 'title': 'WynnBET', 'last_update': '2023-06-09T19:31:02Z', 'markets': [{'key': 'h2h', 'last_update': '2023-06-09T19:31:02Z', 'outcomes': [{'name': 'Arizona Diamondbacks', 'price': 1.71}, {'name': 'Detroit Tigers', 'price': 2.28}]}]}, {'key': 'superbook', 'title': 'SuperBook', 'last_update': '2023-06-09T19:30:59Z', 'markets': [{'key': 'h2h', 'last_update': '2023-06-09T19:30:59Z', 'outcomes': [{'name': 'Arizona Diamondbacks', 'price': 1.7}, {'name': 'Detroit Tigers', 'price': 2.22}]}]}]}\n",
      "{'id': '8d5e2f0a88501a3ac60f91c103a2e7fc', 'sport_key': 'baseball_mlb', 'sport_title': 'MLB', 'commence_time': '2023-06-09T22:40:00Z', 'home_team': 'Tampa Bay Rays', 'away_team': 'Texas Rangers', 'bookmakers': [{'key': 'draftkings', 'title': 'DraftKings', 'last_update': '2023-06-09T19:31:41Z', 'markets': [{'key': 'h2h', 'last_update': '2023-06-09T19:31:41Z', 'outcomes': [{'name': 'Tampa Bay Rays', 'price': 1.59}, {'name': 'Texas Rangers', 'price': 2.45}]}]}, {'key': 'betonlineag', 'title': 'BetOnline.ag', 'last_update': '2023-06-09T19:31:37Z', 'markets': [{'key': 'h2h', 'last_update': '2023-06-09T19:31:37Z', 'outcomes': [{'name': 'Tampa Bay Rays', 'price': 1.61}, {'name': 'Texas Rangers', 'price': 2.5}]}]}, {'key': 'lowvig', 'title': 'LowVig.ag', 'last_update': '2023-06-09T19:30:23Z', 'markets': [{'key': 'h2h', 'last_update': '2023-06-09T19:30:22Z', 'outcomes': [{'name': 'Tampa Bay Rays', 'price': 1.61}, {'name': 'Texas Rangers', 'price': 2.5}]}]}, {'key': 'fanduel', 'title': 'FanDuel', 'last_update': '2023-06-09T19:31:37Z', 'markets': [{'key': 'h2h', 'last_update': '2023-06-09T19:31:37Z', 'outcomes': [{'name': 'Tampa Bay Rays', 'price': 1.6}, {'name': 'Texas Rangers', 'price': 2.42}]}]}, {'key': 'betus', 'title': 'BetUS', 'last_update': '2023-06-09T19:30:47Z', 'markets': [{'key': 'h2h', 'last_update': '2023-06-09T19:30:47Z', 'outcomes': [{'name': 'Tampa Bay Rays', 'price': 1.6}, {'name': 'Texas Rangers', 'price': 2.47}]}]}, {'key': 'bovada', 'title': 'Bovada', 'last_update': '2023-06-09T19:31:30Z', 'markets': [{'key': 'h2h', 'last_update': '2023-06-09T19:31:30Z', 'outcomes': [{'name': 'Tampa Bay Rays', 'price': 1.59}, {'name': 'Texas Rangers', 'price': 2.41}]}]}, {'key': 'williamhill_us', 'title': 'William Hill (US)', 'last_update': '2023-06-09T19:31:16Z', 'markets': [{'key': 'h2h', 'last_update': '2023-06-09T19:31:16Z', 'outcomes': [{'name': 'Tampa Bay Rays', 'price': 1.59}, {'name': 'Texas Rangers', 'price': 2.43}]}]}, {'key': 'circasports', 'title': 'Circa Sports', 'last_update': '2023-06-09T19:30:59Z', 'markets': [{'key': 'h2h', 'last_update': '2023-06-09T19:30:59Z', 'outcomes': [{'name': 'Tampa Bay Rays', 'price': 1.62}, {'name': 'Texas Rangers', 'price': 2.35}]}]}, {'key': 'betrivers', 'title': 'BetRivers', 'last_update': '2023-06-09T19:31:42Z', 'markets': [{'key': 'h2h', 'last_update': '2023-06-09T19:31:42Z', 'outcomes': [{'name': 'Tampa Bay Rays', 'price': 1.57}, {'name': 'Texas Rangers', 'price': 2.5}]}]}, {'key': 'barstool', 'title': 'Barstool Sportsbook', 'last_update': '2023-06-09T19:31:45Z', 'markets': [{'key': 'h2h', 'last_update': '2023-06-09T19:31:45Z', 'outcomes': [{'name': 'Tampa Bay Rays', 'price': 1.57}, {'name': 'Texas Rangers', 'price': 2.48}]}]}, {'key': 'unibet_us', 'title': 'Unibet', 'last_update': '2023-06-09T19:30:24Z', 'markets': [{'key': 'h2h', 'last_update': '2023-06-09T19:30:24Z', 'outcomes': [{'name': 'Tampa Bay Rays', 'price': 1.57}, {'name': 'Texas Rangers', 'price': 2.48}]}]}, {'key': 'twinspires', 'title': 'TwinSpires', 'last_update': '2023-06-09T19:31:43Z', 'markets': [{'key': 'h2h', 'last_update': '2023-06-09T19:31:43Z', 'outcomes': [{'name': 'Tampa Bay Rays', 'price': 1.56}, {'name': 'Texas Rangers', 'price': 2.48}]}]}, {'key': 'mybookieag', 'title': 'MyBookie.ag', 'last_update': '2023-06-09T19:31:18Z', 'markets': [{'key': 'h2h', 'last_update': '2023-06-09T19:31:18Z', 'outcomes': [{'name': 'Tampa Bay Rays', 'price': 1.56}, {'name': 'Texas Rangers', 'price': 2.45}]}]}, {'key': 'pointsbetus', 'title': 'PointsBet (US)', 'last_update': '2023-06-09T19:30:55Z', 'markets': [{'key': 'h2h', 'last_update': '2023-06-09T19:30:55Z', 'outcomes': [{'name': 'Tampa Bay Rays', 'price': 1.57}, {'name': 'Texas Rangers', 'price': 2.45}]}]}, {'key': 'foxbet', 'title': 'FOX Bet', 'last_update': '2023-06-09T19:29:26Z', 'markets': [{'key': 'h2h', 'last_update': '2023-06-09T19:29:26Z', 'outcomes': [{'name': 'Tampa Bay Rays', 'price': 1.53}, {'name': 'Texas Rangers', 'price': 2.4}]}]}, {'key': 'betmgm', 'title': 'BetMGM', 'last_update': '2023-06-09T19:30:45Z', 'markets': [{'key': 'h2h', 'last_update': '2023-06-09T19:30:45Z', 'outcomes': [{'name': 'Tampa Bay Rays', 'price': 1.57}, {'name': 'Texas Rangers', 'price': 2.45}]}]}, {'key': 'wynnbet', 'title': 'WynnBET', 'last_update': '2023-06-09T19:31:02Z', 'markets': [{'key': 'h2h', 'last_update': '2023-06-09T19:31:02Z', 'outcomes': [{'name': 'Tampa Bay Rays', 'price': 1.62}, {'name': 'Texas Rangers', 'price': 2.46}]}]}, {'key': 'superbook', 'title': 'SuperBook', 'last_update': '2023-06-09T19:30:59Z', 'markets': [{'key': 'h2h', 'last_update': '2023-06-09T19:30:59Z', 'outcomes': [{'name': 'Tampa Bay Rays', 'price': 1.6}, {'name': 'Texas Rangers', 'price': 2.43}]}]}]}\n",
      "{'id': '0cb5e668685d05f7521d499bb450ed8d', 'sport_key': 'soccer_argentina_primera_division', 'sport_title': 'Primera División - Argentina', 'commence_time': '2023-06-09T23:00:00Z', 'home_team': 'Independiente', 'away_team': 'Sarmiento de Junin', 'bookmakers': [{'key': 'fanduel', 'title': 'FanDuel', 'last_update': '2023-06-09T19:30:28Z', 'markets': [{'key': 'h2h', 'last_update': '2023-06-09T19:30:28Z', 'outcomes': [{'name': 'Independiente', 'price': 1.95}, {'name': 'Sarmiento de Junin', 'price': 4.1}, {'name': 'Draw', 'price': 2.95}]}]}, {'key': 'mybookieag', 'title': 'MyBookie.ag', 'last_update': '2023-06-09T19:30:36Z', 'markets': [{'key': 'h2h', 'last_update': '2023-06-09T19:30:36Z', 'outcomes': [{'name': 'Independiente', 'price': 2.08}, {'name': 'Sarmiento de Junin', 'price': 3.9}, {'name': 'Draw', 'price': 3.1}]}]}, {'key': 'foxbet', 'title': 'FOX Bet', 'last_update': '2023-06-09T19:30:24Z', 'markets': [{'key': 'h2h', 'last_update': '2023-06-09T19:30:24Z', 'outcomes': [{'name': 'Independiente', 'price': 1.91}, {'name': 'Sarmiento de Junin', 'price': 3.7}, {'name': 'Draw', 'price': 2.88}]}]}, {'key': 'bovada', 'title': 'Bovada', 'last_update': '2023-06-09T19:30:31Z', 'markets': [{'key': 'h2h', 'last_update': '2023-06-09T19:30:31Z', 'outcomes': [{'name': 'Independiente', 'price': 2.05}, {'name': 'Sarmiento de Junin', 'price': 3.95}, {'name': 'Draw', 'price': 3.0}]}]}, {'key': 'betmgm', 'title': 'BetMGM', 'last_update': '2023-06-09T19:30:17Z', 'markets': [{'key': 'h2h', 'last_update': '2023-06-09T19:30:17Z', 'outcomes': [{'name': 'Independiente', 'price': 2.0}, {'name': 'Sarmiento de Junin', 'price': 4.0}, {'name': 'Draw', 'price': 3.1}]}]}, {'key': 'superbook', 'title': 'SuperBook', 'last_update': '2023-06-09T19:30:32Z', 'markets': [{'key': 'h2h', 'last_update': '2023-06-09T19:30:32Z', 'outcomes': [{'name': 'Independiente', 'price': 2.05}, {'name': 'Sarmiento de Junin', 'price': 4.0}, {'name': 'Draw', 'price': 3.15}]}]}, {'key': 'betus', 'title': 'BetUS', 'last_update': '2023-06-09T19:31:41Z', 'markets': [{'key': 'h2h', 'last_update': '2023-06-09T19:31:41Z', 'outcomes': [{'name': 'Independiente', 'price': 2.05}, {'name': 'Sarmiento de Junin', 'price': 4.0}, {'name': 'Draw', 'price': 3.05}]}]}, {'key': 'draftkings', 'title': 'DraftKings', 'last_update': '2023-06-09T19:30:36Z', 'markets': [{'key': 'h2h', 'last_update': '2023-06-09T19:30:36Z', 'outcomes': [{'name': 'Independiente', 'price': 2.0}, {'name': 'Sarmiento de Junin', 'price': 4.2}, {'name': 'Draw', 'price': 3.15}]}]}, {'key': 'lowvig', 'title': 'LowVig.ag', 'last_update': '2023-06-09T19:30:22Z', 'markets': [{'key': 'h2h', 'last_update': '2023-06-09T19:30:22Z', 'outcomes': [{'name': 'Independiente', 'price': 2.0}, {'name': 'Sarmiento de Junin', 'price': 4.35}, {'name': 'Draw', 'price': 3.13}]}]}, {'key': 'betonlineag', 'title': 'BetOnline.ag', 'last_update': '2023-06-09T19:30:47Z', 'markets': [{'key': 'h2h', 'last_update': '2023-06-09T19:30:47Z', 'outcomes': [{'name': 'Independiente', 'price': 2.0}, {'name': 'Sarmiento de Junin', 'price': 4.35}, {'name': 'Draw', 'price': 3.13}]}]}]}\n"
     ]
    }
   ],
   "source": [
    "events = []  # Create an empty list to store events\n",
    "\n",
    "for data in odds_response:\n",
    "    events.append(Event(data))  # Create an Event object for each data item and add it to the events list\n",
    "    print(data) \n",
    "\n",
    "arbitrage_events = []  # Create an empty list to store arbitrage events\n",
    "\n",
    "for event in events:\n",
    "    best_odds = event.find_best_odds()  # Find the best odds for the event\n",
    "    if event.arbitrage():  # Check if the event presents an arbitrage opportunity\n",
    "        arbitrage_events.append(event)  # If so, add the event to the arbitrage_events list\n",
    "\n",
    "for event in arbitrage_events:\n",
    "    event.calculate_arbitrage_bets()  # Calculate the bet amounts for the event's arbitrage bets\n",
    "    event.convert_decimal_to_american()  # Convert the decimal odds to American odds\n",
    "\n"
   ]
  },
  {
   "cell_type": "code",
   "execution_count": 7,
   "id": "66966930",
   "metadata": {},
   "outputs": [
    {
     "name": "stdout",
     "output_type": "stream",
     "text": [
      "{'id': 'f4c76a0f191f1ff8a31e6cd14f04d08f', 'sport_key': 'soccer_league_of_ireland', 'sport_title': 'League of Ireland', 'commence_time': '2023-06-09T18:45:45Z', 'home_team': 'Cork City', 'away_team': 'Dundalk', 'bookmakers': [{'key': 'mybookieag', 'title': 'MyBookie.ag', 'last_update': '2023-06-09T19:31:29Z', 'markets': [{'key': 'h2h', 'last_update': '2023-06-09T19:31:29Z', 'outcomes': [{'name': 'Cork City', 'price': 1.6}, {'name': 'Dundalk', 'price': 5.4}, {'name': 'Draw', 'price': 3.4}]}]}, {'key': 'foxbet', 'title': 'FOX Bet', 'last_update': '2023-06-09T19:31:47Z', 'markets': [{'key': 'h2h', 'last_update': '2023-06-09T19:31:47Z', 'outcomes': [{'name': 'Cork City', 'price': 1.62}, {'name': 'Dundalk', 'price': 5.5}, {'name': 'Draw', 'price': 3.15}]}]}, {'key': 'draftkings', 'title': 'DraftKings', 'last_update': '2023-06-09T19:31:37Z', 'markets': [{'key': 'h2h', 'last_update': '2023-06-09T19:31:37Z', 'outcomes': [{'name': 'Cork City', 'price': 3.25}, {'name': 'Dundalk', 'price': 3.0}, {'name': 'Draw', 'price': 2.4}]}]}, {'key': 'bovada', 'title': 'Bovada', 'last_update': '2023-06-09T19:31:34Z', 'markets': [{'key': 'h2h', 'last_update': '2023-06-09T19:31:34Z', 'outcomes': [{'name': 'Cork City', 'price': 1.57}, {'name': 'Dundalk', 'price': 6.25}, {'name': 'Draw', 'price': 3.5}]}]}, {'key': 'williamhill_us', 'title': 'William Hill (US)', 'last_update': '2023-06-09T19:31:28Z', 'markets': [{'key': 'h2h', 'last_update': '2023-06-09T19:31:28Z', 'outcomes': [{'name': 'Cork City', 'price': 3.1}, {'name': 'Dundalk', 'price': 2.85}, {'name': 'Draw', 'price': 2.3}]}]}]}\n",
      "{'id': 'b99bb2b8fb0ebcc0705133a742ed8f40', 'sport_key': 'soccer_league_of_ireland', 'sport_title': 'League of Ireland', 'commence_time': '2023-06-09T18:46:46Z', 'home_team': 'Shelbourne Dublin', 'away_team': 'Sligo Rovers', 'bookmakers': [{'key': 'mybookieag', 'title': 'MyBookie.ag', 'last_update': '2023-06-09T19:31:29Z', 'markets': [{'key': 'h2h', 'last_update': '2023-06-09T19:31:29Z', 'outcomes': [{'name': 'Shelbourne Dublin', 'price': 1.47}, {'name': 'Sligo Rovers', 'price': 6.75}, {'name': 'Draw', 'price': 3.65}]}]}, {'key': 'foxbet', 'title': 'FOX Bet', 'last_update': '2023-06-09T19:31:47Z', 'markets': [{'key': 'h2h', 'last_update': '2023-06-09T19:31:47Z', 'outcomes': [{'name': 'Shelbourne Dublin', 'price': 2.9}, {'name': 'Sligo Rovers', 'price': 2.8}, {'name': 'Draw', 'price': 2.45}]}]}, {'key': 'draftkings', 'title': 'DraftKings', 'last_update': '2023-06-09T19:31:37Z', 'markets': [{'key': 'h2h', 'last_update': '2023-06-09T19:31:37Z', 'outcomes': [{'name': 'Shelbourne Dublin', 'price': 3.0}, {'name': 'Sligo Rovers', 'price': 3.2}, {'name': 'Draw', 'price': 2.35}]}]}, {'key': 'bovada', 'title': 'Bovada', 'last_update': '2023-06-09T19:31:34Z', 'markets': [{'key': 'h2h', 'last_update': '2023-06-09T19:31:34Z', 'outcomes': [{'name': 'Shelbourne Dublin', 'price': 2.95}, {'name': 'Sligo Rovers', 'price': 2.95}, {'name': 'Draw', 'price': 2.4}]}]}, {'key': 'williamhill_us', 'title': 'William Hill (US)', 'last_update': '2023-06-09T19:31:28Z', 'markets': [{'key': 'h2h', 'last_update': '2023-06-09T19:31:28Z', 'outcomes': [{'name': 'Shelbourne Dublin', 'price': 3.0}, {'name': 'Sligo Rovers', 'price': 2.85}, {'name': 'Draw', 'price': 2.35}]}]}]}\n"
     ]
    }
   ],
   "source": [
    "with open('2_arbitrage_events.txt', 'w') as file:\n",
    "    for event in arbitrage_events:\n",
    "        event.calculate_arbitrage_bets()\n",
    "        event.convert_decimal_to_american()\n",
    "        file.write(str(event.data) + '\\n')\n",
    "        print(event.data)"
   ]
  },
  {
   "attachments": {},
   "cell_type": "markdown",
   "id": "4cf86515",
   "metadata": {},
   "source": [
    "### Creating Dataframe and Writing to Excel File\n",
    "\n",
    "This part generates an Excel file that presents information about arbitrage events, including their IDs, sport keys, expected earnings, and details about each outcome's bookmaker, name, odds, and bet amount."
   ]
  },
  {
   "cell_type": "code",
   "execution_count": 8,
   "id": "bdc8da60",
   "metadata": {},
   "outputs": [
    {
     "name": "stdout",
     "output_type": "stream",
     "text": [
      "[['DraftKings', 'Cork City', 22400.0], ['Bovada', 'Dundalk', 52400.0], ['Bovada', 'Draw', 24900.0]]\n",
      "[['DraftKings', 'Shelbourne Dublin', 19900.0], ['MyBookie.ag', 'Sligo Rovers', 57400.0], ['MyBookie.ag', 'Draw', 26400.0]]\n"
     ]
    }
   ],
   "source": [
    "try:\n",
    "    MAX_OUTCOMES = max([event.num_outcomes for event in arbitrage_events])  # Find the maximum number of outcomes among all arbitrage events\n",
    "except ValueError:\n",
    "    print(\"No arbitrage events found.\")  # If there are no arbitrage events, print a message\n",
    "    MAX_OUTCOMES = 0\n",
    "\n",
    "ARBITRAGE_EVENTS_COUNT = len(arbitrage_events)  # Count the number of arbitrage events\n",
    "\n",
    "my_columns = [\n",
    "    'ID',\n",
    "    'Sport Key',\n",
    "    'Expected Earnings'\n",
    "] + list(\n",
    "    np.array([[f'Bookmaker #{outcome}', f'Name #{outcome}', f'Odds #{outcome}', f'Amount to Buy #{outcome}'] for outcome in range(1, MAX_OUTCOMES + 1)]).flatten()\n",
    ")  # Create a list of column names for the DataFrame\n",
    "\n",
    "dataframe = pd.DataFrame(columns=my_columns)  # Create an empty DataFrame with the specified column names\n",
    "\n",
    "for event in arbitrage_events:\n",
    "    print(event.best_odds)\n",
    "    row = [\n",
    "        event.id,\n",
    "        event.sport_key,\n",
    "        round(event.expected_earnings, 2)\n",
    "    ]  # Create a row with the event's ID, sport key, and rounded expected earnings\n",
    "\n",
    "    for index, outcome in enumerate(event.best_odds):\n",
    "        row += [\n",
    "            outcome[BOOKMAKER_INDEX],\n",
    "            outcome[NAME_INDEX],\n",
    "            outcome[ODDS_INDEX],\n",
    "            event.bet_amounts[index]\n",
    "        ]  # Add bookmaker, name, odds, and bet amount for each outcome to the row\n",
    "\n",
    "    while len(row) < len(my_columns):\n",
    "        row.append('N/A')  # Add 'N/A' for any remaining columns (if there are fewer outcomes than the maximum)\n",
    "\n",
    "    dataframe.loc[len(dataframe.index)] = row  # Add the row to the DataFrame\n",
    "\n",
    "with pd.ExcelWriter('3_arbitrage_bets.xlsx') as writer:\n",
    "    dataframe.to_excel(writer, index=False)  # Write the DataFrame to an Excel file, excluding the index\n"
   ]
  },
  {
   "cell_type": "code",
   "execution_count": 9,
   "id": "1976164f",
   "metadata": {},
   "outputs": [],
   "source": [
    "for event in arbitrage_events:\n",
    "    row = []  # Create an empty list to store the values for each row\n",
    "    row.append(event.id)  # Append the event id to the row list\n",
    "    row.append(event.sport_key)  # Append the sport key to the row list\n",
    "    row.append(round(event.expected_earnings, 2))  # Append the rounded expected earnings to the row list\n",
    "\n",
    "    for index, outcome in enumerate(event.best_odds):\n",
    "        # Append the bookmaker, name, odds, and bet amount for each outcome to the row list\n",
    "        row.append(outcome[BOOKMAKER_INDEX])\n",
    "        row.append(outcome[NAME_INDEX])\n",
    "        row.append(outcome[ODDS_INDEX])\n",
    "        row.append(event.bet_amounts[index])\n",
    "\n",
    "    # Add 'N/A' values to the row list to match the length of the dataframe columns\n",
    "    while len(row) < len(dataframe.columns):\n",
    "        row.append('N/A')\n",
    "\n",
    "    dataframe.loc[len(dataframe.index)] = row  # Add the row to the dataframe"
   ]
  },
  {
   "cell_type": "code",
   "execution_count": 10,
   "id": "9aacaf0d",
   "metadata": {},
   "outputs": [],
   "source": [
    "with pd.ExcelWriter('3_arbitrage_bets.xlsx') as writer:\n",
    "    dataframe.to_excel(writer, index=False)"
   ]
  },
  {
   "attachments": {},
   "cell_type": "markdown",
   "id": "5961ba53",
   "metadata": {},
   "source": [
    "### Deleting Unnecessary Files\n",
    "\n",
    "Deletes all the text and excel files created that are useless in the final product."
   ]
  },
  {
   "cell_type": "code",
   "execution_count": 4,
   "id": "cca5c4f4",
   "metadata": {},
   "outputs": [
    {
     "name": "stdout",
     "output_type": "stream",
     "text": [
      "File 1_upcoming_events.txt does not exist.\n",
      "File 2_arbitrage_events.txt does not exist.\n",
      "Deleted file: Fixtures.csv\n",
      "Deleted file: Fixtures.xlsx\n"
     ]
    }
   ],
   "source": [
    "\n",
    "# Delete the files\n",
    "files_to_delete = [\"1_upcoming_events.txt\", \"2_arbitrage_events.txt\", \"Fixtures.csv\", \"Fixtures.xlsx\"]\n",
    "for file_name in files_to_delete:\n",
    "    if os.path.exists(file_name):\n",
    "        os.remove(file_name)\n",
    "        print(f\"Deleted file: {file_name}\")\n",
    "    else:\n",
    "        print(f\"File {file_name} does not exist.\")\n"
   ]
  },
  {
   "attachments": {},
   "cell_type": "markdown",
   "id": "84aa0611",
   "metadata": {},
   "source": [
    "### Formatting the Excel File\n",
    "\n",
    "This part of the code is responsible for applying formatting and styling to the cells in the Excel worksheet."
   ]
  },
  {
   "cell_type": "code",
   "execution_count": 11,
   "id": "917c28ca",
   "metadata": {},
   "outputs": [],
   "source": [
    "BLACK = '000000'  # Define color constant for black\n",
    "LIGHT_GREY = 'D6D6D6'  # Define color constant for light grey\n",
    "DARK_GREY = '9F9F9F'  # Define color constant for dark grey\n",
    "RED = 'FEA0A0'  # Define color constant for red\n",
    "BLUE = 'A0CEFE'  # Define color constant for blue\n",
    "YELLOW = 'FFE540'  # Define color constant for yellow\n",
    "\n",
    "COLORS = [RED, BLUE]  # Create a list of colors\n",
    "\n",
    "ID_COLUMN_FILL = PatternFill(fill_type='solid', start_color=DARK_GREY, end_color=DARK_GREY)  # Create fill pattern for ID column\n",
    "SPORT_KEY_COLUMN_FILL = PatternFill(fill_type='solid', start_color=LIGHT_GREY, end_color=LIGHT_GREY)  # Create fill pattern for sport key column\n",
    "EXPECTED_EARNINGS_COLUMN_FILL = PatternFill(fill_type='solid', start_color=YELLOW, end_color=YELLOW)  # Create fill pattern for expected earnings column\n",
    "\n",
    "CENTER_ALIGNMENT = Alignment(horizontal='center', vertical='bottom', indent=0)  # Define alignment style for center alignment\n",
    "\n",
    "TOP_ROW_BORDER = Border(bottom=Side(border_style='thick', color=BLACK))  # Define border style for top row\n",
    "NORMAL_ROW_BORDER = Border(top=Side(border_style='thin', color=LIGHT_GREY), bottom=Side(border_style='thin', color=DARK_GREY))  # Define border style for normal rows\n",
    "\n",
    "wb = load_workbook('3_arbitrage_bets.xlsx')  # Load the 'bets.xlsx' workbook\n",
    "ws = wb.active  # Select the active worksheet\n",
    "ws.title = 'Upcoming'  # Set the title of the worksheet to 'Upcoming'\n",
    "\n",
    "# Changing width of columns\n",
    "for col in range(1, 26):\n",
    "    ws.column_dimensions[chr(col + 64)].width = 20  # Set the width of each column\n",
    "\n",
    "# Apply fill and alignment styles to cells in column A for ID\n",
    "for cell in ws['A']:\n",
    "    cell.fill = ID_COLUMN_FILL\n",
    "    cell.alignment = CENTER_ALIGNMENT\n",
    "\n",
    "# Apply fill and alignment styles to cells in column B for sport key\n",
    "for cell in ws['B']:\n",
    "    cell.fill = SPORT_KEY_COLUMN_FILL\n",
    "    cell.alignment = CENTER_ALIGNMENT\n",
    "\n",
    "# Apply fill, alignment, and number format styles to cells in column C for expected earnings\n",
    "for cell in ws['C']:\n",
    "    cell.fill = EXPECTED_EARNINGS_COLUMN_FILL\n",
    "    cell.alignment = CENTER_ALIGNMENT\n",
    "    cell.number_format = numbers.BUILTIN_FORMATS[7]\n",
    "\n",
    "START_INDEX = 'D'\n",
    "# Apply alternating fill colors, alignment styles, and number formats to groups of four columns\n",
    "for index in range(MAX_OUTCOMES):\n",
    "    for col in ws[START_INDEX:chr(ord(START_INDEX) + 3)]:\n",
    "        for cell in col:\n",
    "            color = COLORS[int(index % 2)]\n",
    "            cell.fill = PatternFill(fill_type='solid', start_color=color, end_color=color)\n",
    "            cell.alignment = CENTER_ALIGNMENT\n",
    "            if cell.column % 4 == 3:\n",
    "                cell.number_format = numbers.BUILTIN_FORMATS[7]\n",
    "\n",
    "    START_INDEX = chr(ord(START_INDEX) + 4)\n",
    "\n",
    "# Apply border style to the top row of the worksheet\n",
    "for cell in ws['1']:\n",
    "    cell.border = TOP_ROW_BORDER\n",
    "\n",
    "# Apply border style to normal rows\n",
    "for row in range(2, ARBITRAGE_EVENTS_COUNT + 2):\n",
    "    for cell in ws[str(row)]:\n",
    "        cell.border = NORMAL_ROW_BORDER\n",
    "\n",
    "wb.save('3_arbitrage_bets.xlsx')  # Save the modified workbook\n"
   ]
  }
 ],
 "metadata": {
  "kernelspec": {
   "display_name": "Python 3 (ipykernel)",
   "language": "python",
   "name": "python3"
  },
  "language_info": {
   "codemirror_mode": {
    "name": "ipython",
    "version": 3
   },
   "file_extension": ".py",
   "mimetype": "text/x-python",
   "name": "python",
   "nbconvert_exporter": "python",
   "pygments_lexer": "ipython3",
   "version": "3.10.6"
  }
 },
 "nbformat": 4,
 "nbformat_minor": 5
}
